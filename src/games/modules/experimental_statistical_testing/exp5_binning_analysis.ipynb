{
 "cells": [
  {
   "cell_type": "code",
   "execution_count": 33,
   "metadata": {},
   "outputs": [],
   "source": [
    "import numpy as np\n",
    "import pandas as pd"
   ]
  },
  {
   "cell_type": "code",
   "execution_count": 45,
   "metadata": {},
   "outputs": [],
   "source": [
    "base_path = \"/Users/kdreyer/Desktop/exp05_binning_analysis/\"\n",
    "save_path = base_path + \"replicate_bin_results/\"\n",
    "file_name = \"CoCl2_300_\"\n",
    "reps = [\"rep1\", \"rep2\", \"rep3\"]\n",
    "df_list = []\n",
    "for rep in reps:\n",
    "    data_path = base_path + file_name + rep + \".csv\"\n",
    "    df = pd.read_csv(data_path)\n",
    "    df_list.append(df)\n",
    "# display(df_list[0])"
   ]
  },
  {
   "cell_type": "code",
   "execution_count": 46,
   "metadata": {},
   "outputs": [
    {
     "name": "stdout",
     "output_type": "stream",
     "text": [
      "rep  1\n",
      "red [124.1879823482976, 298.6197583203026, 534.1917310949558, 645.8105846910466, 851.1872363438839, 995.7170268461538, 1246.1829819684742, 1584.3670584892814, 1989.3960939974781, 3111.0420369621693]\n",
      "blue [969.0816645649433, 1756.327793190416, 2414.0514754098363, 3003.907578814628, 3643.660895334174, 4408.001223203026, 5316.091752837327, 6571.423934426229, 8506.39573770492, 13330.342282471627]\n",
      "**************\n",
      "rep  2\n",
      "red [170.3733876896122, 361.8084095803324, 543.1122475498615, 722.1848965989889, 964.5016423844875, 1228.5533821663435, 1446.5317169182827, 1683.586029544321, 2234.3877923130194, 3432.2752517825484]\n",
      "blue [934.0572423822715, 1680.4103324099726, 2288.94635734072, 2867.254681440443, 3491.4540304709144, 4156.54743767313, 4975.38623268698, 6096.692022160664, 7842.085789473685, 12580.574002770083]\n",
      "**************\n",
      "rep  3\n",
      "red [150.27370284257813, 432.234147546875, 561.880325475651, 819.5131723402343, 962.5928807615886, 1230.101335325521, 1546.7708346080733, 1865.0834948111979, 2463.1183795703123, 3597.794739049479]\n",
      "blue [975.1899999999999, 1750.0753124999999, 2349.2945052083332, 2964.8222005208336, 3617.7955729166665, 4329.146419270834, 5188.5414453125, 6383.266119791667, 8364.016692708332, 13117.687734375]\n",
      "**************\n"
     ]
    }
   ],
   "source": [
    "# df = pd.DataFrame(data={\"red\": np.random.rand(100)*10, \"blue\": np.random.rand(100)*15})\n",
    "# df_list = [df]\n",
    "for j, df in enumerate(df_list):\n",
    "    df_sorted = df.sort_values(\"Pacific Blue-A\", ignore_index=True) #ascending sort\n",
    "    num_cells = len(df_sorted.index)\n",
    "    bin_size = int(num_cells/10)\n",
    "    df_bins_list = [df_sorted.iloc[i:i+bin_size] for i in range(0,num_cells-bin_size+1,bin_size)]\n",
    "    average_red_list = []\n",
    "    average_blue_list = []\n",
    "    for k, df_bin in enumerate(df_bins_list):\n",
    "        average_red = df_bin.loc[:, 'Comp-PE-Texas Red-A'].mean()\n",
    "        average_blue = df_bin.loc[:, 'Pacific Blue-A'].mean()\n",
    "        average_red_list.append(average_red)\n",
    "        average_blue_list.append(average_blue)\n",
    "        df_averages = pd.DataFrame(data= {\"Comp-PE-Texas Red-A\": average_red, \"Pacific Blue-A\": average_blue}, index=[\"Average\"])\n",
    "        df_bin_final = pd.concat([df_bin, df_averages])\n",
    "        rep = j+1\n",
    "        save_folder = file_name + \"replicate_\" + str(rep) + \"/\"\n",
    "        df_bin_final.to_csv(save_path + save_folder + \"replicate_\" + str(rep) + \"_bin_\" + str(k+1) + \".csv\")\n",
    "\n",
    "        # display(df_bin_final)\n",
    "    print(\"rep \", j+1)\n",
    "    print(\"red\", average_red_list)\n",
    "    print(\"blue\", average_blue_list)\n",
    "    print(\"**************\")"
   ]
  },
  {
   "cell_type": "code",
   "execution_count": 16,
   "metadata": {},
   "outputs": [
    {
     "data": {
      "text/html": [
       "<div>\n",
       "<style scoped>\n",
       "    .dataframe tbody tr th:only-of-type {\n",
       "        vertical-align: middle;\n",
       "    }\n",
       "\n",
       "    .dataframe tbody tr th {\n",
       "        vertical-align: top;\n",
       "    }\n",
       "\n",
       "    .dataframe thead th {\n",
       "        text-align: right;\n",
       "    }\n",
       "</style>\n",
       "<table border=\"1\" class=\"dataframe\">\n",
       "  <thead>\n",
       "    <tr style=\"text-align: right;\">\n",
       "      <th></th>\n",
       "      <th>red</th>\n",
       "      <th>blue</th>\n",
       "    </tr>\n",
       "  </thead>\n",
       "  <tbody>\n",
       "    <tr>\n",
       "      <th>0</th>\n",
       "      <td>100</td>\n",
       "      <td>500</td>\n",
       "    </tr>\n",
       "    <tr>\n",
       "      <th>1</th>\n",
       "      <td>101</td>\n",
       "      <td>501</td>\n",
       "    </tr>\n",
       "    <tr>\n",
       "      <th>2</th>\n",
       "      <td>102</td>\n",
       "      <td>502</td>\n",
       "    </tr>\n",
       "    <tr>\n",
       "      <th>3</th>\n",
       "      <td>103</td>\n",
       "      <td>503</td>\n",
       "    </tr>\n",
       "    <tr>\n",
       "      <th>4</th>\n",
       "      <td>104</td>\n",
       "      <td>504</td>\n",
       "    </tr>\n",
       "    <tr>\n",
       "      <th>...</th>\n",
       "      <td>...</td>\n",
       "      <td>...</td>\n",
       "    </tr>\n",
       "    <tr>\n",
       "      <th>96</th>\n",
       "      <td>196</td>\n",
       "      <td>596</td>\n",
       "    </tr>\n",
       "    <tr>\n",
       "      <th>97</th>\n",
       "      <td>197</td>\n",
       "      <td>597</td>\n",
       "    </tr>\n",
       "    <tr>\n",
       "      <th>98</th>\n",
       "      <td>198</td>\n",
       "      <td>598</td>\n",
       "    </tr>\n",
       "    <tr>\n",
       "      <th>99</th>\n",
       "      <td>199</td>\n",
       "      <td>599</td>\n",
       "    </tr>\n",
       "    <tr>\n",
       "      <th>100</th>\n",
       "      <td>200</td>\n",
       "      <td>600</td>\n",
       "    </tr>\n",
       "  </tbody>\n",
       "</table>\n",
       "<p>101 rows × 2 columns</p>\n",
       "</div>"
      ],
      "text/plain": [
       "     red  blue\n",
       "0    100   500\n",
       "1    101   501\n",
       "2    102   502\n",
       "3    103   503\n",
       "4    104   504\n",
       "..   ...   ...\n",
       "96   196   596\n",
       "97   197   597\n",
       "98   198   598\n",
       "99   199   599\n",
       "100  200   600\n",
       "\n",
       "[101 rows x 2 columns]"
      ]
     },
     "metadata": {},
     "output_type": "display_data"
    }
   ],
   "source": [
    "num_cells = 100\n",
    "bin_size = 10\n",
    "df = pd.DataFrame(data={\"red\": list(range(100, 201)), \"blue\": list(range(500, 601))})\n",
    "display(df)\n",
    "# lst = [df.iloc[i:i+bin_size] for i in range(0,num_cells-bin_size+1,bin_size)]\n",
    "# for i in lst:\n",
    "#     print(i)"
   ]
  },
  {
   "cell_type": "code",
   "execution_count": 23,
   "metadata": {},
   "outputs": [
    {
     "name": "stdout",
     "output_type": "stream",
     "text": [
      "[8.37291381 2.64774008 8.34919846 8.56840576 1.43123764 0.55791911\n",
      " 5.99177604 6.75457012 3.29956688 2.73123158]\n"
     ]
    }
   ],
   "source": [
    "print(np.random.rand(100)*10)"
   ]
  },
  {
   "cell_type": "code",
   "execution_count": null,
   "metadata": {},
   "outputs": [],
   "source": []
  }
 ],
 "metadata": {
  "kernelspec": {
   "display_name": ".venv",
   "language": "python",
   "name": "python3"
  },
  "language_info": {
   "codemirror_mode": {
    "name": "ipython",
    "version": 3
   },
   "file_extension": ".py",
   "mimetype": "text/x-python",
   "name": "python",
   "nbconvert_exporter": "python",
   "pygments_lexer": "ipython3",
   "version": "3.10.10"
  }
 },
 "nbformat": 4,
 "nbformat_minor": 2
}
