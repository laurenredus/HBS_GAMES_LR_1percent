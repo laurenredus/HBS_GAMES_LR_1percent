{
 "cells": [
  {
   "cell_type": "code",
   "execution_count": 3,
   "metadata": {},
   "outputs": [],
   "source": [
    "import numpy as np\n",
    "import pandas as pd"
   ]
  },
  {
   "cell_type": "code",
   "execution_count": 7,
   "metadata": {},
   "outputs": [],
   "source": [
    "base_path = \"/Users/kdreyer/Desktop/exp05_binning_analysis/\"\n",
    "save_path = base_path + \"replicate_bin_results/\"\n",
    "file_name = \"CoCl2_150_\"\n",
    "reps = [\"rep1\", \"rep2\", \"rep3\"]\n",
    "df_list = []\n",
    "for rep in reps:\n",
    "    data_path = base_path + file_name + rep + \".csv\"\n",
    "    df = pd.read_csv(data_path)\n",
    "    df_list.append(df)\n",
    "# display(df_list[0])"
   ]
  },
  {
   "cell_type": "code",
   "execution_count": 8,
   "metadata": {},
   "outputs": [
    {
     "name": "stdout",
     "output_type": "stream",
     "text": [
      "rep  1\n",
      "red [102.10844307779222, 340.1316506525974, 666.2263112453246, 832.6123218489611, 1047.477698347143, 1230.5618512955846, 1624.8374551636364, 1865.3462142168833, 2661.711071012987, 3570.9773622974026]\n",
      "blue [557.4285752051948, 1581.8819350649349, 2361.245090909091, 3044.176818181818, 3752.9812987012983, 4605.36712987013, 5677.077285714286, 7077.061155844156, 9261.88438961039, 15046.783636363634]\n",
      "**************\n",
      "rep  2\n",
      "red [84.1533522472441, 253.21027997952757, 423.1044340590551, 584.9334352335958, 757.0998229889764, 958.3606819855642, 1235.9636376574804, 1517.8057405328086, 1885.8288408792648, 2849.8939704986874]\n",
      "blue [610.8999822309711, 1601.952244094488, 2354.658661417323, 3033.2158005249344, 3715.645183727034, 4527.8421128608925, 5525.771417322835, 6808.634763779527, 8878.663805774277, 13969.43412073491]\n",
      "**************\n",
      "rep  3\n",
      "red [58.11758468647215, 215.9809753196286, 403.9172441835544, 593.0691735822281, 766.1775205450266, 922.0523865384615, 1198.471197050398, 1367.5850270636606, 1814.8775619230769, 2573.3368901564986]\n",
      "blue [472.2599834907162, 1426.990803713528, 2138.6436339522543, 2764.135981432361, 3416.7181830238724, 4153.318116710876, 5053.508090185676, 6190.479310344828, 8018.539827586207, 13311.700862068965]\n",
      "**************\n"
     ]
    }
   ],
   "source": [
    "# df = pd.DataFrame(data={\"red\": np.random.rand(100)*10, \"blue\": np.random.rand(100)*15})\n",
    "# df_list = [df]\n",
    "for j, df in enumerate(df_list):\n",
    "    df_sorted = df.sort_values(\"Pacific Blue-A\", ignore_index=True) #ascending sort\n",
    "    num_cells = len(df_sorted.index)\n",
    "    bin_size = int(num_cells/10)\n",
    "    df_bins_list = [df_sorted.iloc[i:i+bin_size] for i in range(0,num_cells-bin_size+1,bin_size)]\n",
    "    average_red_list = []\n",
    "    average_blue_list = []\n",
    "    for k, df_bin in enumerate(df_bins_list):\n",
    "        average_red = df_bin.loc[:, 'Comp-PE-Texas Red-A'].mean()\n",
    "        average_blue = df_bin.loc[:, 'Pacific Blue-A'].mean()\n",
    "        average_red_list.append(average_red)\n",
    "        average_blue_list.append(average_blue)\n",
    "        df_averages = pd.DataFrame(data= {\"Comp-PE-Texas Red-A\": average_red, \"Pacific Blue-A\": average_blue}, index=[\"Average\"])\n",
    "        df_bin_final = pd.concat([df_bin, df_averages])\n",
    "        rep = j+1\n",
    "        save_folder = file_name + \"replicate_\" + str(rep) + \"/\"\n",
    "        df_bin_final.to_csv(save_path + save_folder + \"replicate_\" + str(rep) + \"_bin_\" + str(k+1) + \".csv\")\n",
    "\n",
    "        # display(df_bin_final)\n",
    "    print(\"rep \", j+1)\n",
    "    print(\"red\", average_red_list)\n",
    "    print(\"blue\", average_blue_list)\n",
    "    print(\"**************\")"
   ]
  },
  {
   "cell_type": "code",
   "execution_count": 16,
   "metadata": {},
   "outputs": [
    {
     "data": {
      "text/html": [
       "<div>\n",
       "<style scoped>\n",
       "    .dataframe tbody tr th:only-of-type {\n",
       "        vertical-align: middle;\n",
       "    }\n",
       "\n",
       "    .dataframe tbody tr th {\n",
       "        vertical-align: top;\n",
       "    }\n",
       "\n",
       "    .dataframe thead th {\n",
       "        text-align: right;\n",
       "    }\n",
       "</style>\n",
       "<table border=\"1\" class=\"dataframe\">\n",
       "  <thead>\n",
       "    <tr style=\"text-align: right;\">\n",
       "      <th></th>\n",
       "      <th>red</th>\n",
       "      <th>blue</th>\n",
       "    </tr>\n",
       "  </thead>\n",
       "  <tbody>\n",
       "    <tr>\n",
       "      <th>0</th>\n",
       "      <td>100</td>\n",
       "      <td>500</td>\n",
       "    </tr>\n",
       "    <tr>\n",
       "      <th>1</th>\n",
       "      <td>101</td>\n",
       "      <td>501</td>\n",
       "    </tr>\n",
       "    <tr>\n",
       "      <th>2</th>\n",
       "      <td>102</td>\n",
       "      <td>502</td>\n",
       "    </tr>\n",
       "    <tr>\n",
       "      <th>3</th>\n",
       "      <td>103</td>\n",
       "      <td>503</td>\n",
       "    </tr>\n",
       "    <tr>\n",
       "      <th>4</th>\n",
       "      <td>104</td>\n",
       "      <td>504</td>\n",
       "    </tr>\n",
       "    <tr>\n",
       "      <th>...</th>\n",
       "      <td>...</td>\n",
       "      <td>...</td>\n",
       "    </tr>\n",
       "    <tr>\n",
       "      <th>96</th>\n",
       "      <td>196</td>\n",
       "      <td>596</td>\n",
       "    </tr>\n",
       "    <tr>\n",
       "      <th>97</th>\n",
       "      <td>197</td>\n",
       "      <td>597</td>\n",
       "    </tr>\n",
       "    <tr>\n",
       "      <th>98</th>\n",
       "      <td>198</td>\n",
       "      <td>598</td>\n",
       "    </tr>\n",
       "    <tr>\n",
       "      <th>99</th>\n",
       "      <td>199</td>\n",
       "      <td>599</td>\n",
       "    </tr>\n",
       "    <tr>\n",
       "      <th>100</th>\n",
       "      <td>200</td>\n",
       "      <td>600</td>\n",
       "    </tr>\n",
       "  </tbody>\n",
       "</table>\n",
       "<p>101 rows × 2 columns</p>\n",
       "</div>"
      ],
      "text/plain": [
       "     red  blue\n",
       "0    100   500\n",
       "1    101   501\n",
       "2    102   502\n",
       "3    103   503\n",
       "4    104   504\n",
       "..   ...   ...\n",
       "96   196   596\n",
       "97   197   597\n",
       "98   198   598\n",
       "99   199   599\n",
       "100  200   600\n",
       "\n",
       "[101 rows x 2 columns]"
      ]
     },
     "metadata": {},
     "output_type": "display_data"
    }
   ],
   "source": [
    "num_cells = 100\n",
    "bin_size = 10\n",
    "df = pd.DataFrame(data={\"red\": list(range(100, 201)), \"blue\": list(range(500, 601))})\n",
    "display(df)\n",
    "# lst = [df.iloc[i:i+bin_size] for i in range(0,num_cells-bin_size+1,bin_size)]\n",
    "# for i in lst:\n",
    "#     print(i)"
   ]
  },
  {
   "cell_type": "code",
   "execution_count": 23,
   "metadata": {},
   "outputs": [
    {
     "name": "stdout",
     "output_type": "stream",
     "text": [
      "[8.37291381 2.64774008 8.34919846 8.56840576 1.43123764 0.55791911\n",
      " 5.99177604 6.75457012 3.29956688 2.73123158]\n"
     ]
    }
   ],
   "source": [
    "print(np.random.rand(100)*10)"
   ]
  },
  {
   "cell_type": "code",
   "execution_count": null,
   "metadata": {},
   "outputs": [],
   "source": []
  }
 ],
 "metadata": {
  "kernelspec": {
   "display_name": ".venv",
   "language": "python",
   "name": "python3"
  },
  "language_info": {
   "codemirror_mode": {
    "name": "ipython",
    "version": 3
   },
   "file_extension": ".py",
   "mimetype": "text/x-python",
   "name": "python",
   "nbconvert_exporter": "python",
   "pygments_lexer": "ipython3",
   "version": "3.10.10"
  }
 },
 "nbformat": 4,
 "nbformat_minor": 2
}
