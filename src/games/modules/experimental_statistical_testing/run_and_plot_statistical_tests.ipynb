{
 "cells": [
  {
   "cell_type": "code",
   "execution_count": 2,
   "metadata": {},
   "outputs": [
    {
     "name": "stderr",
     "output_type": "stream",
     "text": [
      "/Users/kdreyer/Documents/Github/HBS_GAMES2/.venv/lib/python3.10/site-packages/outdated/utils.py:14: OutdatedPackageWarning: The package pingouin is out of date. Your version is 0.5.3, the latest is 0.5.5.\n",
      "Set the environment variable OUTDATED_IGNORE=1 to disable these warnings.\n",
      "  return warn(\n"
     ]
    }
   ],
   "source": [
    "import numpy as np\n",
    "import pandas as pd\n",
    "import matplotlib.pyplot as plt\n",
    "from matplotlib.ticker import ScalarFormatter\n",
    "from games.modules.experimental_statistical_testing.experimental_statistical_tests import (anova,\n",
    "                                                  tukeys_hsd,\n",
    "                                                  run_corrected_t_tests,\n",
    "                                                  repeated_measures_anova)\n",
    "plt.style.use(\"/Users/kdreyer/Documents/Github/HBS_GAMES2/src/games/paper.mplstyle.py\")\n",
    "path = \"/Users/kdreyer/Documents/Github/HBS_GAMES2/src/games/modules/experimental_statistical_testing/\"\n",
    "path_exp_data = path + \"experimental_data/\"\n",
    "path_stats = path + \"results/\"\n",
    "path_plots = path + \"experimental_data_plots/\""
   ]
  },
  {
   "cell_type": "markdown",
   "metadata": {},
   "source": [
    "## Figure 1"
   ]
  },
  {
   "cell_type": "markdown",
   "metadata": {},
   "source": [
    "### Figure 1B plot"
   ]
  },
  {
   "cell_type": "code",
   "execution_count": 8,
   "metadata": {},
   "outputs": [],
   "source": [
    "df_plot_pO2 = pd.read_csv(path_exp_data+\"plot_figure1B_pO2.csv\")\n",
    "# print(df_plot_pO2)\n",
    "df_plot_pctO2 = pd.read_csv(path_exp_data+\"plot_figure1B_pctO2.csv\")\n",
    "# print(df_plot_pctO2)"
   ]
  },
  {
   "cell_type": "code",
   "execution_count": null,
   "metadata": {},
   "outputs": [],
   "source": [
    "# create figure 2D plot\n",
    "blues = plt.cm.get_cmap(\"Blues\", 10)\n",
    "fig, ax = plt.subplots(1, 1, figsize=(2.44, 1.943), sharey=True)\n",
    "ax2 = ax.twinx()\n",
    "ax.plot(df_plot_pO2[\"time_min\"], df_plot_pO2[\"media_0_pO2\"], color=\"gray\", linestyle=\"none\", marker=\"o\", markersize=\"1\", label=\"0 uL\")\n",
    "ax.plot(df_plot_pO2[\"time_min\"], df_plot_pO2[\"media_125_pO2\"], color=blues(3), linestyle=\"none\", marker=\"o\", markersize=\"0.75\", label=\"125 uL\")\n",
    "ax.plot(df_plot_pO2[\"time_min\"], df_plot_pO2[\"media_250_pO2\"], color=blues(4), linestyle=\"none\", marker=\"o\", markersize=\"0.75\", label=\"250 uL\")\n",
    "ax.plot(df_plot_pO2[\"time_min\"], df_plot_pO2[\"media_500_pO2\"], color=blues(5), linestyle=\"none\", marker=\"o\", markersize=\"0.75\", label=\"500 uL\")\n",
    "ax.plot(df_plot_pO2[\"time_min\"], df_plot_pO2[\"media_750_pO2\"], color=blues(7), linestyle=\"none\", marker=\"o\", markersize=\"0.75\", label=\"750 uL\")\n",
    "ax.plot(df_plot_pO2[\"time_min\"], df_plot_pO2[\"media_1000_pO2\"], color=blues(8), linestyle=\"none\", marker=\"o\", markersize=\"0.75\", label=\"1000 uL\")\n",
    "ax.plot(df_plot_pO2[\"time_min\"], df_plot_pO2[\"media_1500_pO2\"], color=blues(9), linestyle=\"none\", marker=\"o\", markersize=\"0.75\", label=\"1500 uL\")\n",
    "ax2.plot(df_plot_pctO2[\"time_min\"], df_plot_pctO2[\"pct_O2\"], color=\"k\", linestyle=\"-\", marker=\"o\", markersize=\"0.75\", label=\"Air\")\n",
    "ax.set_xlabel(\"Time (min)\")\n",
    "ax.set_xticks([0, 60, 120, 180, 240])\n",
    "ax.set_ylim([0, 150])\n",
    "ax.set_ylabel(\"pO2 at bottom of well (mmHg)\")\n",
    "ax.set_yticks([0, 50, 100, 150])\n",
    "ax.spines[['right']].set_visible(True)\n",
    "# ax.set_box_aspect(1)\n",
    "ax2.set_ylabel(\"% O2 in incubator\")\n",
    "ax2.set_yticks([0, 5, 10, 15, 20])\n",
    "ax2.set_ylim([0, 20])\n",
    "# plt.show()\n",
    "plt.savefig(path_plots+\"figure_1B.svg\")"
   ]
  },
  {
   "cell_type": "markdown",
   "metadata": {},
   "source": [
    "### Figure 1D statistical tests"
   ]
  },
  {
   "cell_type": "code",
   "execution_count": null,
   "metadata": {},
   "outputs": [],
   "source": [
    "df_all = pd.read_csv(path_exp_data+\"Exp03_main.csv\")\n",
    "# print(df_all)"
   ]
  },
  {
   "cell_type": "code",
   "execution_count": null,
   "metadata": {},
   "outputs": [],
   "source": [
    "### red fluorescent protein ###\n",
    "# select data for red only\n",
    "df_red = df_all[df_all[\"condition\"].str.contains(\"red\")]\n",
    "# print(df_red)\n",
    "\n",
    "# run 1 way anova\n",
    "anova_table = anova(path_stats, \"figure1D_red\", df_red, \"rfu\", \"condition\")\n",
    "# print(anova_table)\n",
    "# run tukey's hsd\n",
    "tukeys_tables = tukeys_hsd(path_stats, \"figure1D_red\", \"rfu\", df_red, [\"condition\"])\n",
    "# for table in tukeys_tables:\n",
    "#     print(table)"
   ]
  },
  {
   "cell_type": "code",
   "execution_count": null,
   "metadata": {},
   "outputs": [],
   "source": [
    "### green fluorescent protein ###\n",
    "# select data for green only\n",
    "df_green = df_all[df_all[\"condition\"].str.contains(\"green\")]\n",
    "\n",
    "# run 1 way anova\n",
    "anova_table = anova(path_stats, \"figure1D_green\", df_green, \"rfu\", \"condition\")\n",
    "# print(anova_table)\n",
    "# run tukey's hsd\n",
    "tukeys_tables = tukeys_hsd(path_stats, \"figure1D_green\", \"rfu\", df_green, [\"condition\"])\n",
    "# for table in tukeys_tables:\n",
    "#     print(table)"
   ]
  },
  {
   "cell_type": "code",
   "execution_count": null,
   "metadata": {},
   "outputs": [],
   "source": [
    "### blue fluorescent protein ###\n",
    "# select data for green only\n",
    "df_blue = df_all[df_all[\"condition\"].str.contains(\"blue\")]\n",
    "\n",
    "# run 1 way anova\n",
    "anova_table = anova(path_stats, \"figure1D_blue\", df_blue, \"rfu\", \"condition\")\n",
    "# print(anova_table)\n",
    "# run tukey's hsd\n",
    "tukeys_tables = tukeys_hsd(path_stats, \"figure1D_blue\", \"rfu\", df_blue, [\"condition\"])\n",
    "# for table in tukeys_tables:\n",
    "#     print(table)"
   ]
  },
  {
   "cell_type": "markdown",
   "metadata": {},
   "source": [
    "### Figure 1D plot"
   ]
  },
  {
   "cell_type": "code",
   "execution_count": 8,
   "metadata": {},
   "outputs": [],
   "source": [
    "df_data_plot = pd.read_csv(path_exp_data+\"plot_figure1D_supp_figure3.csv\")\n",
    "df_data_main = df_data_plot[~df_data_plot[\"condition\"].str.contains(\"f\")]\n",
    "# print(df_data_main)"
   ]
  },
  {
   "cell_type": "code",
   "execution_count": null,
   "metadata": {},
   "outputs": [],
   "source": [
    "# format data and labels for plotting\n",
    "conditions = df_data_main[\"condition\"].to_list()\n",
    "plot_xlabels = [conditions[i] for i in range(0, len(conditions), 3)]\n",
    "rfu = df_data_main[\"rfu\"].to_list()\n",
    "plot_rfu = [rfu[i:i + 3] for i in range(0, len(rfu), 3)]\n",
    "std_err = df_data_main[\"std_err\"].to_list()\n",
    "plot_std_err = [std_err[i:i + 3] for i in range(0, len(std_err), 3)]\n",
    "\n",
    "# create plot\n",
    "blue_ = [(i/255) for i in [0, 0, 154]]\n",
    "red_ = [(i/255) for i in [237, 28, 36]]\n",
    "green_ = [(i/255) for i in [0, 159, 53]]\n",
    "fig, ax = plt.subplots(1, 1, figsize=(2.25, 1.75))\n",
    "x_ticks = []\n",
    "for index, rfu_list in enumerate(plot_rfu[:4]):\n",
    "    ax.bar(index-0.3, rfu_list[2], width=0.25, color=blue_, align=\"center\", label=\"blue\")\n",
    "    (_, caps1, _) = ax.errorbar(index-0.3, rfu_list[2], plot_std_err[index][2], color=\"k\", capsize=1.5, elinewidth=0.5)\n",
    "    ax.bar(index, rfu_list[1], width=0.25, color=green_, align=\"center\", label=\"green\")\n",
    "    (_, caps2, _) = ax.errorbar(index, rfu_list[1], plot_std_err[index][1], color=\"k\", capsize=1.5, elinewidth=0.5)\n",
    "    ax.bar(index+0.3, rfu_list[0], width=0.25, color=red_, align=\"center\", label=\"red\")\n",
    "    (_, caps3, _) = ax.errorbar(index+0.3, rfu_list[0], plot_std_err[index][0], color=\"k\", capsize=1.5, elinewidth=0.5)\n",
    "    x_ticks.append(index)\n",
    "\n",
    "    for cap in caps1:\n",
    "        cap.set_markeredgewidth(0.5)\n",
    "    for cap in caps2:\n",
    "        cap.set_markeredgewidth(0.5)\n",
    "    for cap in caps3:\n",
    "        cap.set_markeredgewidth(0.5)\n",
    "    \n",
    "ax.axhline(y=1.0, color=\"grey\", linestyle=\"dotted\", linewidth=0.75)\n",
    "ax.set_ylabel(\"Fluorescence (relative to normoxic control)\")\n",
    "ax.set_xticks(x_ticks)\n",
    "ax.set_xticklabels(plot_xlabels[:4])\n",
    "\n",
    "# plt.show()\n",
    "plt.savefig(path_plots+\"figure_1D.svg\")"
   ]
  },
  {
   "cell_type": "markdown",
   "metadata": {},
   "source": [
    "### Figure 1F statistical tests"
   ]
  },
  {
   "cell_type": "code",
   "execution_count": 16,
   "metadata": {},
   "outputs": [],
   "source": [
    "df_data = pd.read_csv(path_exp_data+\"Exp04_pt1_dox_DsR.csv\")\n",
    "# print(df_data)"
   ]
  },
  {
   "cell_type": "code",
   "execution_count": 15,
   "metadata": {},
   "outputs": [],
   "source": [
    "# format df for t-test code\n",
    "# df_data[\"condition\"] = df_data[\"condition\"] + \"_\" + df_data[\"day\"].astype(str)\n",
    "# print(df_data)\n",
    "\n",
    "# run 2-way repeated measures ANOVA\n",
    "anova_rm_table = repeated_measures_anova(path_stats, \"figure1F\", df_data, \"meptrs\", \"day\", \"condition\")\n",
    "# print(anova_rm_table)\n",
    "\n",
    "# run tukey's hsd\n",
    "tukeys_table_i, tukeys_tables = tukeys_hsd(path_stats, \"figure1F\", \"meptrs\", df_data, [\"condition\", \"day\"], [\"condition\",\"day\"]) \n",
    "# print(tukeys_table_i)\n",
    "# for table in tukeys_tables:\n",
    "#     print(table)\n"
   ]
  },
  {
   "cell_type": "markdown",
   "metadata": {},
   "source": [
    "### Figure 1F plot"
   ]
  },
  {
   "cell_type": "code",
   "execution_count": 3,
   "metadata": {},
   "outputs": [],
   "source": [
    "df_data_plot = pd.read_csv(path_exp_data+\"plot_figure1F.csv\")\n",
    "# print(df_data_plot)\n",
    "days = [0, 1, 2, 3, 4]"
   ]
  },
  {
   "cell_type": "code",
   "execution_count": 4,
   "metadata": {},
   "outputs": [],
   "source": [
    "# normoxia data\n",
    "meptrs_normoxia = df_data_plot[df_data_plot[\"condition\"] == \"normoxia\"][\"meptrs\"].to_list()\n",
    "meptrs_normoxia_scaled = [i/1E5 for i in meptrs_normoxia]\n",
    "std_err_normoxia = df_data_plot[df_data_plot[\"condition\"] == \"normoxia\"][\"std_err\"].to_list()\n",
    "std_err_normoxia_scaled = [i/1E5 for i in std_err_normoxia]"
   ]
  },
  {
   "cell_type": "code",
   "execution_count": 5,
   "metadata": {},
   "outputs": [],
   "source": [
    "# normoxia dox data\n",
    "meptrs_normoxia_dox = df_data_plot[df_data_plot[\"condition\"] == \"normoxia_dox\"][\"meptrs\"].to_list()\n",
    "meptrs_normoxia_dox_scaled = [i/1E5 for i in meptrs_normoxia_dox]\n",
    "std_err_normoxia_dox = df_data_plot[df_data_plot[\"condition\"] == \"normoxia_dox\"][\"std_err\"].to_list()\n",
    "std_err_normoxia_dox_scaled = [i/1E5 for i in std_err_normoxia_dox]"
   ]
  },
  {
   "cell_type": "code",
   "execution_count": 6,
   "metadata": {},
   "outputs": [],
   "source": [
    "# hypoxia data\n",
    "meptrs_hypoxia = df_data_plot[df_data_plot[\"condition\"] == \"hypoxia\"][\"meptrs\"].to_list()\n",
    "meptrs_hypoxia_scaled = [i/1E5 for i in meptrs_hypoxia]\n",
    "std_err_hypoxia = df_data_plot[df_data_plot[\"condition\"] == \"hypoxia\"][\"std_err\"].to_list()\n",
    "std_err_hypoxia_scaled = [i/1E5 for i in std_err_hypoxia]"
   ]
  },
  {
   "cell_type": "code",
   "execution_count": 7,
   "metadata": {},
   "outputs": [],
   "source": [
    "# hypoxia dox data\n",
    "meptrs_hypoxia_dox = df_data_plot[df_data_plot[\"condition\"] == \"hypoxia_dox\"][\"meptrs\"].to_list()\n",
    "meptrs_hypoxia_dox_scaled = [i/1E5 for i in meptrs_hypoxia_dox]\n",
    "std_err_hypoxia_dox = df_data_plot[df_data_plot[\"condition\"] == \"hypoxia_dox\"][\"std_err\"].to_list()\n",
    "std_err_hypoxia_dox_scaled = [i/1E5 for i in std_err_hypoxia_dox]"
   ]
  },
  {
   "cell_type": "code",
   "execution_count": null,
   "metadata": {},
   "outputs": [],
   "source": [
    "normoxia_gray = [(i/255) for i in [127, 127, 127]]\n",
    "\n",
    "normox_dox = [(i/255) for i in [158, 31, 99]]\n",
    "\n",
    "# create figure 1D plot\n",
    "fig, ax = plt.subplots(1, 1, figsize=(2.75, 2), sharey=True)\n",
    "(_, caps1, _) = ax.errorbar(days, meptrs_normoxia_scaled, std_err_normoxia_scaled, color=normoxia_gray, linestyle=\"-\", marker=\"o\", markersize=\"1.5\", ecolor=\"k\", capsize=1.5, elinewidth=0.5, label=\"normoxia\")\n",
    "(_, caps2, _) = ax.errorbar(days, meptrs_normoxia_dox_scaled, std_err_normoxia_dox_scaled, color=normox_dox, linestyle=\"-\", marker=\"o\", markersize=\"1.5\", ecolor=\"k\", capsize=1.5, elinewidth=0.5, label=\"normoxia_dox\")\n",
    "(_, caps3, _) = ax.errorbar(days, meptrs_hypoxia_scaled, std_err_hypoxia_scaled, color=\"mediumpurple\", linestyle=\"-\", marker=\"o\", markersize=\"1.5\", ecolor=\"k\", capsize=1.5, elinewidth=0.5, label=\"hypoxia\")\n",
    "(_, caps4, _) = ax.errorbar(days, meptrs_hypoxia_dox_scaled, std_err_hypoxia_dox_scaled, color=\"rebeccapurple\", linestyle=\"-\", marker=\"o\", markersize=\"1.5\", ecolor=\"k\", capsize=1.5, elinewidth=0.5, label=\"hypoxia_dox\")\n",
    "ax.set_xlabel(\"Days of treatment\")\n",
    "ax.set_xticks([0, 1, 2, 3, 4])\n",
    "ax.set_xlim(left=0)\n",
    "ax.set_ylabel(\"Mean reporter exp. \\n (x10^5 MEPTRs)\")\n",
    "ax.set_ylim([0, 90])\n",
    "# ax.set_box_aspect(1)\n",
    "\n",
    "for cap in caps1:\n",
    "    cap.set_markeredgewidth(0.5)\n",
    "for cap in caps2:\n",
    "    cap.set_markeredgewidth(0.5)\n",
    "for cap in caps3:\n",
    "    cap.set_markeredgewidth(0.5)\n",
    "for cap in caps4:\n",
    "    cap.set_markeredgewidth(0.5)\n",
    "# plt.show()\n",
    "plt.savefig(path_plots+\"figure_1F.svg\")"
   ]
  },
  {
   "cell_type": "markdown",
   "metadata": {},
   "source": [
    "## Supplementary Figure 3"
   ]
  },
  {
   "cell_type": "markdown",
   "metadata": {},
   "source": [
    "### Supplementary Figure 3 statistical tests"
   ]
  },
  {
   "cell_type": "code",
   "execution_count": null,
   "metadata": {},
   "outputs": [],
   "source": [
    "df_all = pd.read_csv(path_exp_data+\"Exp03_supplement.csv\")\n",
    "# print(df_all)"
   ]
  },
  {
   "cell_type": "code",
   "execution_count": null,
   "metadata": {},
   "outputs": [],
   "source": [
    "### red fluorescent protein ###\n",
    "# select data for red only\n",
    "df_red = df_all[df_all[\"condition\"].str.contains(\"red\")]\n",
    "# print(df_red)\n",
    "# run 1 way anova\n",
    "anova_table = anova(path_stats, \"supp_figure3_red\", df_red, \"rfu\", \"condition\")\n",
    "# print(anova_table)\n",
    "# run tukey's hsd\n",
    "tukeys_tables = tukeys_hsd(path_stats, \"supp_figure3_red\", \"rfu\", df_red, [\"condition\"])\n",
    "# for table in tukeys_tables:\n",
    "#     print(table)"
   ]
  },
  {
   "cell_type": "code",
   "execution_count": null,
   "metadata": {},
   "outputs": [],
   "source": [
    "### green fluorescent protein ###\n",
    "# select data for red only\n",
    "df_green = df_all[df_all[\"condition\"].str.contains(\"green\")]\n",
    "# run 1 way anova\n",
    "anova_table = anova(path_stats, \"supp_figure3_green\", df_green, \"rfu\", \"condition\")\n",
    "# print(anova_table)\n",
    "# run tukey's hsd\n",
    "tukeys_tables = tukeys_hsd(path_stats, \"supp_figure3_green\", \"rfu\", df_green, [\"condition\"])\n",
    "# for table in tukeys_tables:\n",
    "#     print(table)"
   ]
  },
  {
   "cell_type": "code",
   "execution_count": null,
   "metadata": {},
   "outputs": [],
   "source": [
    "### blue fluorescent protein ###\n",
    "# select data for red only\n",
    "df_blue = df_all[df_all[\"condition\"].str.contains(\"blue\")]\n",
    "# run 1 way anova\n",
    "anova_table = anova(path_stats, \"supp_figure3_blue\", df_blue, \"rfu\", \"condition\")\n",
    "# print(anova_table)\n",
    "# run tukey's hsd\n",
    "tukeys_tables = tukeys_hsd(path_stats, \"supp_figure3_blue\", \"rfu\", df_blue, [\"condition\"])\n",
    "# for table in tukeys_tables:\n",
    "#     print(table)"
   ]
  },
  {
   "cell_type": "markdown",
   "metadata": {},
   "source": [
    "### Supplementary Figure 3 plot"
   ]
  },
  {
   "cell_type": "code",
   "execution_count": null,
   "metadata": {},
   "outputs": [],
   "source": [
    "conditions = df_data_plot[\"condition\"].to_list()\n",
    "plot_xlabels = [conditions[i] for i in range(0, len(conditions), 3)]\n",
    "rfu = df_data_plot[\"rfu\"].to_list()\n",
    "plot_rfu = [rfu[i:i + 3] for i in range(0, len(rfu), 3)]\n",
    "std_err = df_data_plot[\"std_err\"].to_list()\n",
    "plot_std_err = [std_err[i:i + 3] for i in range(0, len(std_err), 3)]\n",
    "\n",
    "# create plot\n",
    "fig, ax = plt.subplots(1, 1, figsize=(7, 2.5))\n",
    "x_ticks = []\n",
    "for index, rfu_list in enumerate(plot_rfu):\n",
    "    ax.bar(index-0.3, rfu_list[2], width=0.2, color=\"blue\", align=\"center\", label=\"blue\")\n",
    "    ax.errorbar(index-0.3, rfu_list[2], plot_std_err[index][2], color=\"k\", capsize=2, elinewidth=0.5)\n",
    "    ax.bar(index, rfu_list[1], width=0.2, color=\"green\", align=\"center\", label=\"green\")\n",
    "    ax.errorbar(index, rfu_list[1], plot_std_err[index][1], color=\"k\", capsize=2, elinewidth=0.5)\n",
    "    ax.bar(index+0.3, rfu_list[0], width=0.2, color=\"red\", align=\"center\", label=\"red\")\n",
    "    ax.errorbar(index+0.3, rfu_list[0], plot_std_err[index][0], color=\"k\", capsize=2, elinewidth=0.5)\n",
    "    x_ticks.append(index)\n",
    "ax.axhline(y=1.0, color=\"grey\", linestyle=\"dotted\", linewidth=1.5)\n",
    "ax.set_ylabel(\"Relative Fluorescence\")\n",
    "ax.set_yticks([0, 0.2, 0.4, 0.6, 0.8, 1.0, 1.2])\n",
    "ax.set_xticks(x_ticks)\n",
    "ax.set_xlim([x_ticks[0]-0.8, x_ticks[-1]+0.75])\n",
    "ax.set_xticklabels(plot_xlabels)\n",
    "ax.tick_params(axis='x', which='major', labelsize=6)\n",
    "# plt.show()\n",
    "plt.savefig(path_plots+\"supp_figure_3.svg\")"
   ]
  },
  {
   "cell_type": "markdown",
   "metadata": {},
   "source": [
    "## Figure 2"
   ]
  },
  {
   "cell_type": "markdown",
   "metadata": {},
   "source": [
    "### Figure 2B statistical tests"
   ]
  },
  {
   "cell_type": "code",
   "execution_count": null,
   "metadata": {},
   "outputs": [],
   "source": [
    "df = pd.read_csv(path_exp_data+\"Exp05_pt1.csv\")\n",
    "# print(df)\n",
    "\n",
    "# run t-tests\n",
    "comparisons = [\n",
    "    [\"cobalt_0\", \"cobalt_3\"], \n",
    "    [\"cobalt_0\", \"cobalt_15\"], \n",
    "    [\"cobalt_0\", \"cobalt_30\"],\n",
    "    [\"cobalt_0\", \"cobalt_150\"],\n",
    "    [\"cobalt_0\", \"cobalt_300\"],\n",
    "    [\"cobalt_0\", \"cobalt_600\"]\n",
    "]\n",
    "t_test_df = run_corrected_t_tests(path_stats, \"figure2B\", \"meptrs\", df, comparisons)\n",
    "# print(t_test_df)"
   ]
  },
  {
   "cell_type": "markdown",
   "metadata": {},
   "source": [
    "### Figure 2B plot"
   ]
  },
  {
   "cell_type": "code",
   "execution_count": null,
   "metadata": {},
   "outputs": [],
   "source": [
    "df_data_plot = pd.read_csv(path_exp_data+\"plot_figure2B.csv\")\n",
    "# print(df_data_plot)\n",
    "cobalt_doses = df_data_plot[\"cobalt_dose\"].to_list()\n",
    "meptrs = df_data_plot[\"meptrs\"].to_list()\n",
    "meptrs_scaled = [i/1E5 for i in meptrs]\n",
    "std_err = df_data_plot[\"std_err\"].to_list()\n",
    "std_err_scaled = [i/1E5 for i in std_err]\n",
    "pink_ = [(i/255) for i in [233, 140, 194]]\n",
    "\n",
    "# create figure 2D plot\n",
    "fig, ax = plt.subplots(1, 1, figsize=(2.25, 2))\n",
    "(_, caps, _) = ax.errorbar(cobalt_doses, meptrs_scaled, std_err_scaled, color=pink_, linestyle=\"-\", marker=\"o\", markersize=\"2\", ecolor=\"k\", capsize=1.5, elinewidth=0.5)\n",
    "ax.set_xscale('symlog', subs=[2, 3, 4, 5, 6, 7, 8, 9])\n",
    "ax.set_xlim([0,1000])\n",
    "ax.set_ylim([0, 0.4])\n",
    "ax.set_yticks([0, 0.1, 0.2, 0.3, 0.4])\n",
    "ax.xaxis.set_major_formatter(ScalarFormatter())\n",
    "ax.set_xlabel(\"CoCl2 dose (uM)\")\n",
    "ax.set_ylabel(\"Mean exp. (x10^5 MEPTRs)\")\n",
    "# ax.minorticks_on()\n",
    "ax.tick_params(axis='x', which='minor')\n",
    "ax.set_box_aspect(1)\n",
    "\n",
    "for cap in caps:\n",
    "    cap.set_markeredgewidth(0.5)\n",
    "\n",
    "# plt.show()\n",
    "plt.savefig(path_plots+\"figure_2B.svg\")"
   ]
  },
  {
   "cell_type": "markdown",
   "metadata": {},
   "source": [
    "### Figure 2C statistical tests"
   ]
  },
  {
   "cell_type": "code",
   "execution_count": 59,
   "metadata": {},
   "outputs": [
    {
     "name": "stdout",
     "output_type": "stream",
     "text": [
      "    condition       bin  replicate        meptrs       fold\n",
      "0   untreated  unsorted          1   2349.969686   1.000000\n",
      "1   untreated  unsorted          2   1634.309413   1.000000\n",
      "2   untreated  unsorted          3   1492.750238   1.000000\n",
      "3   untreated         1          1    158.704570   1.000000\n",
      "4   untreated         1          2     56.705694   1.000000\n",
      "..        ...       ...        ...           ...        ...\n",
      "61     cobalt         9          2  49436.365690  14.123401\n",
      "62     cobalt         9          3  47576.401900  13.592031\n",
      "63     cobalt        10          1  93382.411580  16.882277\n",
      "64     cobalt        10          2  74709.007230  13.506378\n",
      "65     cobalt        10          3  67459.156840  12.195703\n",
      "\n",
      "[66 rows x 5 columns]\n"
     ]
    }
   ],
   "source": [
    "df = pd.read_csv(path_exp_data+\"Exp05_pt2_bins.csv\")\n",
    "# print(df)\n",
    "\n",
    "# run 2-way ANOVA\n",
    "anova_table = anova(path_stats, \"figure2C\", df, \"meptrs\", \"condition\", \"bin\")\n",
    "# print(anova_table)\n",
    "# run tukey's hsd\n",
    "tukeys_table_i, tukeys_tables = tukeys_hsd(path_stats, \"figure2C\", \"meptrs\", df, [\"condition\", \"bin\"], [\"condition\",\"bin\"])\n",
    "# print(tukeys_table_i)\n",
    "# for table in tukeys_tables:\n",
    "#     print(table)"
   ]
  },
  {
   "cell_type": "code",
   "execution_count": null,
   "metadata": {},
   "outputs": [],
   "source": [
    "# run 1 way ANOVA on fold induction for each condition\n",
    "df_fold = df[df[\"fold\"] != 1]\n",
    "# print(df_fold)\n",
    "anova_table = anova(path_stats, \"figure2C_fold\", df_fold, \"fold\", \"bin\")\n",
    "# print(anova_table)\n",
    "# run tukey's hsd\n",
    "tukeys_tables = tukeys_hsd(path_stats, \"figure2C_fold\", \"fold\", df_fold, [\"bin\"])\n",
    "# for table in tukeys_tables:\n",
    "    # print(table)"
   ]
  },
  {
   "cell_type": "markdown",
   "metadata": {},
   "source": [
    "### Figure 2D statistical tests"
   ]
  },
  {
   "cell_type": "code",
   "execution_count": 60,
   "metadata": {},
   "outputs": [],
   "source": [
    "df = pd.read_csv(path_exp_data+\"Exp06.csv\")\n",
    "# print(df)"
   ]
  },
  {
   "cell_type": "code",
   "execution_count": 55,
   "metadata": {},
   "outputs": [],
   "source": [
    "# run 2-way ANOVA\n",
    "anova_table = anova(path_stats, \"figure2D\", df, \"meptrs\", \"condition\", \"sorted_population\")\n",
    "# print(anova_table)\n",
    "# run tukey's hsd\n",
    "tukeys_table_i, tukeys_tables = tukeys_hsd(path_stats, \"figure2D\", \"meptrs\", df, [\"condition\", \"sorted_population\"], [\"condition\",\"sorted_population\"])\n",
    "# print(tukeys_table_i)\n",
    "# for table in tukeys_tables:\n",
    "#     print(table)"
   ]
  },
  {
   "cell_type": "markdown",
   "metadata": {},
   "source": [
    "### Figure 2C-D plot"
   ]
  },
  {
   "cell_type": "code",
   "execution_count": 5,
   "metadata": {},
   "outputs": [],
   "source": [
    "df_data_plot2C = pd.read_csv(path_exp_data+\"plot_figure2C.csv\")\n",
    "# print(df_data_plot2C)\n",
    "# format data and labels for plotting\n",
    "meptrs2C = df_data_plot2C[\"meptrs\"].to_list()\n",
    "meptrs_scaled2C = [i/1E5 for i in meptrs2C]\n",
    "# print(meptrs_scaled2g)\n",
    "plot_meptrs2C = [meptrs_scaled2C[i:i + 2] for i in range(0, len(meptrs_scaled2C), 2)]\n",
    "std_err2C = df_data_plot2C[\"std_err\"].to_list()\n",
    "std_err_scaled2C = [i/1E5 for i in std_err2C]\n",
    "plot_std_err2C = [std_err_scaled2C[i:i + 2] for i in range(0, len(std_err_scaled2C), 2)]\n",
    "fi2C = df_data_plot2C[\"FI\"].to_list()\n",
    "plot_fi2C = [fi2C[i] for i in range(1, len(fi2C), 2)]\n",
    "fi_std_err2C = df_data_plot2C[\"FI_std_err\"].to_list()\n",
    "plot_fi_std_err2C = [fi_std_err2C[i] for i in range(1, len(fi_std_err2C), 2)]"
   ]
  },
  {
   "cell_type": "code",
   "execution_count": 6,
   "metadata": {},
   "outputs": [],
   "source": [
    "df_data_plot2D = pd.read_csv(path_exp_data+\"plot_figure2D.csv\")\n",
    "# print(df_data_plot2h)\n",
    "# format data and labels for plotting\n",
    "meptrs2D = df_data_plot2D[\"meptrs\"].to_list()\n",
    "meptrs_scaled2D = [i/1E5 for i in meptrs2D]\n",
    "plot_meptrs2D = [meptrs_scaled2D[i:i + 2] for i in range(0, len(meptrs_scaled2D), 2)]\n",
    "std_err2D = df_data_plot2D[\"std_err\"].to_list()\n",
    "std_err_scaled2D = [i/1E5 for i in std_err2D]\n",
    "plot_std_err2D = [std_err_scaled2D[i:i + 2] for i in range(0, len(std_err_scaled2D), 2)]\n",
    "fi2D = df_data_plot2D[\"FI\"].to_list()\n",
    "plot_fi2D = [fi2D[i] for i in range(1, len(fi2D), 2)]\n",
    "fi_std_err2D = df_data_plot2D[\"FI_std_err\"].to_list()\n",
    "plot_fi_std_err2D = [fi_std_err2D[i] for i in range(1, len(fi_std_err2D), 2)]"
   ]
  },
  {
   "cell_type": "code",
   "execution_count": null,
   "metadata": {},
   "outputs": [],
   "source": [
    "pink_ = [(i/255) for i in [233, 140, 194]]\n",
    "grey_ = [(i/255) for i in [127, 127, 127]]\n",
    "# create plot\n",
    "fig, axs = plt.subplots(1, 2, figsize=(6.18575, 1.972))#, gridspec_kw={\n",
    "                           #'width_ratios': [1, 1.1]})\n",
    "axs0_2 = axs[0].twinx()\n",
    "axs1_2 = axs[1].twinx()\n",
    "for index, meptrs_list in enumerate(plot_meptrs2C):\n",
    "    axs[0].bar(index-0.175, meptrs_list[0], width=0.35, color=grey_, align=\"center\", label=\"untreated\")\n",
    "    (_, caps1, _) = axs[0].errorbar(index-0.175, meptrs_list[0], plot_std_err2C[index][0], color=\"k\", capsize=1.5, elinewidth=0.5)\n",
    "    axs[0].bar(index+0.175, meptrs_list[1], width=0.35, color=pink_, align=\"center\", label=\"cobalt\")\n",
    "    (_, caps2, _) = axs[0].errorbar(index+0.175, meptrs_list[1], plot_std_err2C[index][1], color=\"k\", capsize=1.5, elinewidth=0.5)\n",
    "    (_, caps3, _) = axs0_2.errorbar(index, plot_fi2C[index], plot_fi_std_err2C[index], color=\"k\", marker=\"o\", markersize=\"1.5\", linestyle=\"none\", ecolor=\"k\", capsize=1.5, elinewidth=0.5)\n",
    "\n",
    "    for cap in caps1:\n",
    "        cap.set_markeredgewidth(0.5)\n",
    "    for cap in caps2:\n",
    "        cap.set_markeredgewidth(0.5)\n",
    "    for cap in caps3:\n",
    "        cap.set_markeredgewidth(0.5)\n",
    "axs[0].set_xticks([0, 1, 2, 3, 4, 5, 6, 7, 8, 9, 10])\n",
    "axs[0].set_xlim(left=-0.5, right=10.5)\n",
    "axs[0].set_yticks([0, 0.2, 0.4, 0.6, 0.8, 1])\n",
    "axs[0].set_xlabel(\"Bin (Decile of EBFP2 expression level)\")\n",
    "axs[0].set_ylabel(\"Mean exp. (x10^5 MEPTRs)\")\n",
    "axs[0].spines[['right']].set_visible(True)\n",
    "axs0_2.set_yticks([0, 10, 20, 30, 40])\n",
    "axs0_2.set_ylabel(\"Fold induction\")\n",
    "\n",
    "\n",
    "for index, meptrs_list in enumerate(plot_meptrs2D):\n",
    "    axs[1].bar(index-0.175, meptrs_list[0], width=0.35, color=grey_, align=\"center\", label=\"untreated\")\n",
    "    (_, caps1, _) = axs[1].errorbar(index-0.175, meptrs_list[0], plot_std_err2D[index][0], color=\"k\", capsize=1.5, elinewidth=0.5)\n",
    "    axs[1].bar(index+0.175, meptrs_list[1], width=0.35, color=pink_, align=\"center\", label=\"cobalt\")\n",
    "    (_, caps2, _) = axs[1].errorbar(index+0.175, meptrs_list[1], plot_std_err2D[index][1], color=\"k\", capsize=1.5, elinewidth=0.5)\n",
    "    (_, caps3, _) = axs1_2.errorbar(index, plot_fi2D[index], plot_fi_std_err2D[index], color=\"k\", marker=\"o\", markersize=\"1.5\", linestyle=\"none\", ecolor=\"k\", capsize=1.5, elinewidth=0.5)\n",
    "\n",
    "    for cap in caps1:\n",
    "        cap.set_markeredgewidth(0.5)\n",
    "    for cap in caps2:\n",
    "        cap.set_markeredgewidth(0.5)\n",
    "    for cap in caps3:\n",
    "        cap.set_markeredgewidth(0.5)\n",
    "\n",
    "axs[1].set_xticks([0, 1, 2, 3, 4, 5, 6, 7, 8, 9, 10])\n",
    "axs[1].set_xlim(left=-0.5, right=10.5)\n",
    "axs[1].set_yticks([0, 1, 2, 3, 4, 5])\n",
    "axs[1].set_xlabel(\"Sorted population (on decile of EBFP2 expression)\")\n",
    "axs[1].set_ylabel(\"Mean exp. (x10^5 MEPTRs)\")\n",
    "axs[1].spines[['right']].set_visible(True)\n",
    "axs1_2.set_yticks([0, 100, 200, 300])\n",
    "axs1_2.set_ylabel(\"Fold induction\")\n",
    "\n",
    "# plt.show()\n",
    "plt.savefig(path_plots+\"figure_2CD.svg\")"
   ]
  },
  {
   "cell_type": "markdown",
   "metadata": {},
   "source": [
    "## Figure 3"
   ]
  },
  {
   "cell_type": "markdown",
   "metadata": {},
   "source": [
    "### Figure 3B, left statistical tests"
   ]
  },
  {
   "cell_type": "code",
   "execution_count": 10,
   "metadata": {},
   "outputs": [],
   "source": [
    "df = pd.read_csv(path_exp_data+\"Exp07_pt1_HEK.csv\")\n",
    "# print(df)"
   ]
  },
  {
   "cell_type": "code",
   "execution_count": 11,
   "metadata": {},
   "outputs": [],
   "source": [
    "# run 2-way ANOVA\n",
    "anova_table = anova(path_stats, \"figure3B_left\", df, \"mefls\", \"condition\", \"minimal_promoter\")\n",
    "# print(anova_table)\n",
    "# run tukey's hsd\n",
    "tukeys_table_i, tukeys_tables = tukeys_hsd(path_stats, \"figure3B_left\", \"mefls\", df, [\"condition\", \"minimal_promoter\"], [\"condition\",\"minimal_promoter\"])\n",
    "# print(tukeys_table_i)\n",
    "# for table in tukeys_tables:\n",
    "#     print(table)c"
   ]
  },
  {
   "cell_type": "markdown",
   "metadata": {},
   "source": [
    "### Figure 3B, left plot"
   ]
  },
  {
   "cell_type": "code",
   "execution_count": 12,
   "metadata": {},
   "outputs": [],
   "source": [
    "#plot\n",
    "df_data_plot = pd.read_csv(path_exp_data+\"plot_figure3B_left.csv\")\n",
    "# print(df_data_plot)"
   ]
  },
  {
   "cell_type": "code",
   "execution_count": null,
   "metadata": {},
   "outputs": [],
   "source": [
    "pink_ = [(i/255) for i in [233, 140, 194]]\n",
    "grey_ = [(i/255) for i in [127, 127, 127]]\n",
    "# format data and labels for plotting\n",
    "conditions = df_data_plot[\"minimal_promoter\"].to_list()\n",
    "plot_xlabels = [conditions[i] for i in range(0, len(conditions), 2)]\n",
    "mefls = df_data_plot[\"mefls\"].to_list()\n",
    "mefls_scaled = [i/1E5 for i in mefls]\n",
    "plot_mefls = [mefls_scaled[i:i + 2] for i in range(0, len(mefls_scaled), 2)]\n",
    "std_err = df_data_plot[\"std_err\"].to_list()\n",
    "std_err_scaled = [i/1E5 for i in std_err]\n",
    "plot_std_err = [std_err_scaled[i:i + 2] for i in range(0, len(std_err_scaled), 2)]\n",
    "\n",
    "# create plot\n",
    "fig, ax = plt.subplots(1, 1, figsize=(2.6, 1.7))\n",
    "x_ticks = []\n",
    "for index, mefls_list in enumerate(plot_mefls):\n",
    "    ax.bar(index-0.125, mefls_list[0], width=0.25, color=grey_, align=\"center\", label=\"untreated\")\n",
    "    (_, caps1, _) = ax.errorbar(index-0.125, mefls_list[0], plot_std_err[index][0], color=\"k\", capsize=1.5, elinewidth=0.5)\n",
    "    ax.bar(index+0.125, mefls_list[1], width=0.25, color=pink_, align=\"center\", label=\"cobalt\")\n",
    "    (_, caps2, _) = ax.errorbar(index+0.125, mefls_list[1], plot_std_err[index][1], color=\"k\", capsize=1.5, elinewidth=0.5)\n",
    "    x_ticks.append(index)\n",
    "\n",
    "    for cap in caps1:\n",
    "        cap.set_markeredgewidth(0.5)\n",
    "    for cap in caps2:\n",
    "        cap.set_markeredgewidth(0.5)\n",
    "ax.set_xticks(x_ticks)\n",
    "ax.set_xticklabels(plot_xlabels)\n",
    "ax.set_yticks([0, 10, 20, 30])\n",
    "ax.set_xlabel(\"Minimal Promoter\")\n",
    "ax.set_ylabel(\"Mean exp. \\n (x10^5 MEFLs)\")\n",
    "# plt.show()\n",
    "plt.savefig(path_plots+\"figure_3B_left.svg\")"
   ]
  },
  {
   "cell_type": "markdown",
   "metadata": {},
   "source": [
    "### Figure 3B, right statistical tests"
   ]
  },
  {
   "cell_type": "code",
   "execution_count": null,
   "metadata": {},
   "outputs": [],
   "source": [
    "df = pd.read_csv(path_exp_data+\"Exp07_pt2_B16.csv\")\n",
    "# print(df)"
   ]
  },
  {
   "cell_type": "code",
   "execution_count": 15,
   "metadata": {},
   "outputs": [],
   "source": [
    "# run 2-way ANOVA\n",
    "anova_table = anova(path_stats, \"figure3B_right\", df, \"mefls\", \"condition\", \"minimal_promoter\")\n",
    "# print(anova_table)\n",
    "# run tukey's hsd\n",
    "tukeys_table_i, tukeys_tables = tukeys_hsd(path_stats, \"figure3B_right\", \"mefls\", df, [\"condition\", \"minimal_promoter\"], [\"condition\",\"minimal_promoter\"])\n",
    "# print(tukeys_table_i)\n",
    "# for table in tukeys_tables:\n",
    "    # print(table)"
   ]
  },
  {
   "cell_type": "markdown",
   "metadata": {},
   "source": [
    "### Figure 3B, right plot"
   ]
  },
  {
   "cell_type": "code",
   "execution_count": 16,
   "metadata": {},
   "outputs": [],
   "source": [
    "#plot\n",
    "df_data_plot = pd.read_csv(path_exp_data+\"plot_figure3B_right.csv\")\n",
    "# print(df_data_plot)"
   ]
  },
  {
   "cell_type": "code",
   "execution_count": null,
   "metadata": {},
   "outputs": [],
   "source": [
    "pink_ = [(i/255) for i in [233, 140, 194]]\n",
    "grey_ = [(i/255) for i in [127, 127, 127]]\n",
    "\n",
    "# format data and labels for plotting\n",
    "conditions = df_data_plot[\"minimal_promoter\"].to_list()\n",
    "plot_xlabels = [conditions[i] for i in range(0, len(conditions), 2)]\n",
    "mefls = df_data_plot[\"mefls\"].to_list()\n",
    "mefls_scaled = [i/1E5 for i in mefls]\n",
    "plot_mefls = [mefls_scaled[i:i + 2] for i in range(0, len(mefls_scaled), 2)]\n",
    "std_err = df_data_plot[\"std_err\"].to_list()\n",
    "std_err_scaled = [i/1E5 for i in std_err]\n",
    "plot_std_err = [std_err_scaled[i:i + 2] for i in range(0, len(std_err_scaled), 2)]\n",
    "\n",
    "# create plot\n",
    "fig, ax = plt.subplots(1, 1, figsize=(2.6, 1.7))\n",
    "x_ticks = []\n",
    "for index, mefls_list in enumerate(plot_mefls):\n",
    "    ax.bar(index-0.125, mefls_list[0], width=0.25, color=grey_, align=\"center\", label=\"untreated\")\n",
    "    (_, caps1, _) = ax.errorbar(index-0.125, mefls_list[0], plot_std_err[index][0], color=\"k\", capsize=1.5, elinewidth=0.5)\n",
    "    ax.bar(index+0.125, mefls_list[1], width=0.25, color=pink_, align=\"center\", label=\"cobalt\")\n",
    "    (_, caps2, _) = ax.errorbar(index+0.125, mefls_list[1], plot_std_err[index][1], color=\"k\", capsize=1.5, elinewidth=0.5)\n",
    "    x_ticks.append(index)\n",
    "\n",
    "    for cap in caps1:\n",
    "        cap.set_markeredgewidth(0.5)\n",
    "    for cap in caps2:\n",
    "        cap.set_markeredgewidth(0.5)\n",
    "ax.set_xticks(x_ticks)\n",
    "ax.set_xticklabels(plot_xlabels)\n",
    "ax.set_yticks([0, 10, 20, 30])\n",
    "ax.set_xlabel(\"Minimal Promoter\")\n",
    "ax.set_ylabel(\"Mean exp. \\n (x10^5 MEFLs)\")\n",
    "# plt.show()\n",
    "plt.savefig(path_plots+\"figure_3B_right.svg\")"
   ]
  },
  {
   "cell_type": "markdown",
   "metadata": {},
   "source": [
    "### Figure 3C, left statistical tests"
   ]
  },
  {
   "cell_type": "code",
   "execution_count": 47,
   "metadata": {},
   "outputs": [],
   "source": [
    "df = pd.read_csv(path_exp_data+\"Exp04_pt2_YBTATA.csv\")\n",
    "# print(df)"
   ]
  },
  {
   "cell_type": "code",
   "execution_count": 48,
   "metadata": {},
   "outputs": [],
   "source": [
    "# run 2-way repeated measures ANOVA\n",
    "anova_rm_table = repeated_measures_anova(path_stats, \"figure3C_left\", df, \"meptrs\", \"day\", \"condition\")\n",
    "# print(anova_rm_table)\n",
    "\n",
    "# run tukey's hsd\n",
    "tukeys_table_i, tukeys_tables = tukeys_hsd(path_stats, \"figure3C_left\", \"meptrs\", df, [\"condition\", \"day\"], [\"condition\",\"day\"]) \n",
    "# print(tukeys_table_i)\n",
    "# for table in tukeys_tables:\n",
    "#     print(table)"
   ]
  },
  {
   "cell_type": "markdown",
   "metadata": {},
   "source": [
    "### Figure 3C, left plot"
   ]
  },
  {
   "cell_type": "code",
   "execution_count": null,
   "metadata": {},
   "outputs": [],
   "source": [
    "df_plot = pd.read_csv(path_exp_data+\"plot_figure3C_left.csv\")\n",
    "# print(df_plot)\n",
    "days = [0, 1, 2, 3, 4]"
   ]
  },
  {
   "cell_type": "code",
   "execution_count": 21,
   "metadata": {},
   "outputs": [],
   "source": [
    "# normoxia data\n",
    "meptrs_normoxia = df_plot[df_plot[\"condition\"] == \"normoxia\"][\"meptrs\"].to_list()\n",
    "meptrs_normoxia_scaled = [i/1E5 for i in meptrs_normoxia]\n",
    "std_err_normoxia = df_plot[df_plot[\"condition\"] == \"normoxia\"][\"std_err\"].to_list()\n",
    "std_err_normoxia_scaled = [i/1E5 for i in std_err_normoxia]"
   ]
  },
  {
   "cell_type": "code",
   "execution_count": 22,
   "metadata": {},
   "outputs": [],
   "source": [
    "# normoxia + cobalt data\n",
    "meptrs_normoxia_cobalt = df_plot[df_plot[\"condition\"] == \"normoxia_cobalt\"][\"meptrs\"].to_list()\n",
    "meptrs_normoxia_cobalt_scaled = [i/1E5 for i in meptrs_normoxia_cobalt]\n",
    "std_err_normoxia_cobalt = df_plot[df_plot[\"condition\"] == \"normoxia_cobalt\"][\"std_err\"].to_list()\n",
    "std_err_normoxia_cobalt_scaled = [i/1E5 for i in std_err_normoxia_cobalt]"
   ]
  },
  {
   "cell_type": "code",
   "execution_count": 23,
   "metadata": {},
   "outputs": [],
   "source": [
    "# hypoxia data\n",
    "meptrs_hypoxia = df_plot[df_plot[\"condition\"] == \"hypoxia\"][\"meptrs\"].to_list()\n",
    "meptrs_hypoxia_scaled = [i/1E5 for i in meptrs_hypoxia]\n",
    "std_err_hypoxia = df_plot[df_plot[\"condition\"] == \"hypoxia\"][\"std_err\"].to_list()\n",
    "std_err_hypoxia_scaled = [i/1E5 for i in std_err_hypoxia]"
   ]
  },
  {
   "cell_type": "code",
   "execution_count": null,
   "metadata": {},
   "outputs": [],
   "source": [
    "pink_ = [(i/255) for i in [233, 140, 194]]\n",
    "normoxia_gray = [(i/255) for i in [127, 127, 127]]\n",
    "\n",
    "# create figure 2D plot\n",
    "fig, ax = plt.subplots(1, 1, figsize=(2, 1.7), sharey=True)\n",
    "(_, caps1, _) = ax.errorbar(days, meptrs_normoxia_scaled, std_err_normoxia_scaled, color=normoxia_gray, linestyle=\"-\", marker=\"o\", markersize=\"1.5\", ecolor=\"k\", capsize=1.5, elinewidth=0.5, label=\"normoxia\")\n",
    "(_, caps2, _) = ax.errorbar(days, meptrs_normoxia_cobalt_scaled, std_err_normoxia_cobalt_scaled, color=pink_, linestyle=\"-\", marker=\"o\", markersize=\"1.5\", ecolor=\"k\", capsize=1.5, elinewidth=0.5, label=\"normoxia_cobalt\")\n",
    "(_, caps3, _) = ax.errorbar(days, meptrs_hypoxia_scaled, std_err_hypoxia_scaled, color=\"mediumpurple\", linestyle=\"-\", marker=\"o\", markersize=\"1.5\", ecolor=\"k\", capsize=1.5, elinewidth=0.5, label=\"hypoxia\")\n",
    "ax.set_xlabel(\"Days post plating\")\n",
    "ax.set_xticks([0, 1, 2, 3, 4])\n",
    "ax.set_xlim(left=0)\n",
    "ax.set_ylabel(\"Mean exp. (x10^5 MEPTRs)\")\n",
    "ax.set_yticks([0, 10, 20, 30, 40, 50])\n",
    "ax.set_ylim([0,50])\n",
    "# ax.set_box_aspect(1)\n",
    "\n",
    "for cap in caps1:\n",
    "    cap.set_markeredgewidth(0.5)\n",
    "for cap in caps2:\n",
    "    cap.set_markeredgewidth(0.5)\n",
    "for cap in caps3:\n",
    "    cap.set_markeredgewidth(0.5)\n",
    "\n",
    "# plt.show()\n",
    "plt.savefig(path_plots+\"figure_3C_left.svg\")"
   ]
  },
  {
   "cell_type": "markdown",
   "metadata": {},
   "source": [
    "### Figure 3C, right statistical tests"
   ]
  },
  {
   "cell_type": "code",
   "execution_count": 25,
   "metadata": {},
   "outputs": [],
   "source": [
    "df = pd.read_csv(path_exp_data+\"Exp04_pt3_CMV.csv\")\n",
    "# print(df)"
   ]
  },
  {
   "cell_type": "code",
   "execution_count": 26,
   "metadata": {},
   "outputs": [],
   "source": [
    "# run 2-way repeated measures ANOVA\n",
    "anova_rm_table = repeated_measures_anova(path_stats, \"figure3C_right\", df, \"meptrs\", \"day\", \"condition\")\n",
    "# print(anova_rm_table)\n",
    "\n",
    "# run tukey's hsd\n",
    "tukeys_table_i, tukeys_tables = tukeys_hsd(path_stats, \"figure3C_right\", \"meptrs\", df, [\"condition\", \"day\"], [\"condition\",\"day\"]) \n",
    "# print(tukeys_table_i)\n",
    "# for table in tukeys_tables:\n",
    "#     print(table)"
   ]
  },
  {
   "cell_type": "markdown",
   "metadata": {},
   "source": []
  },
  {
   "cell_type": "markdown",
   "metadata": {},
   "source": [
    "### Figure 3C, right plot"
   ]
  },
  {
   "cell_type": "code",
   "execution_count": null,
   "metadata": {},
   "outputs": [],
   "source": [
    "df_plot = pd.read_csv(path_exp_data+\"plot_figure3C_right.csv\")\n",
    "# print(df_plot)\n",
    "days = [0, 1, 2, 3, 4]"
   ]
  },
  {
   "cell_type": "code",
   "execution_count": 28,
   "metadata": {},
   "outputs": [],
   "source": [
    "# normoxia data\n",
    "meptrs_normoxia = df_plot[df_plot[\"condition\"] == \"normoxia\"][\"meptrs\"].to_list()\n",
    "meptrs_normoxia_scaled = [i/1E5 for i in meptrs_normoxia]\n",
    "std_err_normoxia = df_plot[df_plot[\"condition\"] == \"normoxia\"][\"std_err\"].to_list()\n",
    "std_err_normoxia_scaled = [i/1E5 for i in std_err_normoxia]"
   ]
  },
  {
   "cell_type": "code",
   "execution_count": 29,
   "metadata": {},
   "outputs": [],
   "source": [
    "# normoxia + cobalt data\n",
    "meptrs_normoxia_cobalt = df_plot[df_plot[\"condition\"] == \"normoxia_cobalt\"][\"meptrs\"].to_list()\n",
    "meptrs_normoxia_cobalt_scaled = [i/1E5 for i in meptrs_normoxia_cobalt]\n",
    "std_err_normoxia_cobalt = df_plot[df_plot[\"condition\"] == \"normoxia_cobalt\"][\"std_err\"].to_list()\n",
    "std_err_normoxia_cobalt_scaled = [i/1E5 for i in std_err_normoxia_cobalt]"
   ]
  },
  {
   "cell_type": "code",
   "execution_count": 30,
   "metadata": {},
   "outputs": [],
   "source": [
    "# hypoxia data\n",
    "meptrs_hypoxia = df_plot[df_plot[\"condition\"] == \"hypoxia\"][\"meptrs\"].to_list()\n",
    "meptrs_hypoxia_scaled = [i/1E5 for i in meptrs_hypoxia]\n",
    "std_err_hypoxia = df_plot[df_plot[\"condition\"] == \"hypoxia\"][\"std_err\"].to_list()\n",
    "std_err_hypoxia_scaled = [i/1E5 for i in std_err_hypoxia]"
   ]
  },
  {
   "cell_type": "code",
   "execution_count": null,
   "metadata": {},
   "outputs": [],
   "source": [
    "pink_ = [(i/255) for i in [233, 140, 194]]\n",
    "normoxia_gray = [(i/255) for i in [127, 127, 127]]\n",
    "\n",
    "# create figure 2D plot\n",
    "fig, ax = plt.subplots(1, 1, figsize=(2, 1.7), sharey=True)\n",
    "(_, caps1, _) = ax.errorbar(days, meptrs_normoxia_scaled, std_err_normoxia_scaled, color=normoxia_gray, linestyle=\"-\", marker=\"o\", markersize=\"1.5\", ecolor=\"k\", capsize=1.5, elinewidth=0.5, label=\"normoxia\")\n",
    "(_, caps2, _) = ax.errorbar(days, meptrs_normoxia_cobalt_scaled, std_err_normoxia_cobalt_scaled, color=pink_, linestyle=\"-\", marker=\"o\", markersize=\"1.5\", ecolor=\"k\", capsize=1.5, elinewidth=0.5, label=\"normoxia_cobalt\")\n",
    "(_, caps3, _) = ax.errorbar(days, meptrs_hypoxia_scaled, std_err_hypoxia_scaled, color=\"mediumpurple\", linestyle=\"-\", marker=\"o\", markersize=\"1.5\", ecolor=\"k\", capsize=1.5, elinewidth=0.5, label=\"hypoxia\")\n",
    "ax.set_xlabel(\"Days post plating\")\n",
    "ax.set_xticks([0, 1, 2, 3, 4])\n",
    "ax.set_xlim(left=0)\n",
    "ax.set_ylabel(\"Mean exp. (x10^5 MEPTRs)\")\n",
    "ax.set_yticks([0, 10, 20, 30, 40, 50])\n",
    "ax.set_ylim([0, 50])\n",
    "# ax.set_box_aspect(1)\n",
    "\n",
    "for cap in caps1:\n",
    "    cap.set_markeredgewidth(0.5)\n",
    "for cap in caps2:\n",
    "    cap.set_markeredgewidth(0.5)\n",
    "for cap in caps3:\n",
    "    cap.set_markeredgewidth(0.5)\n",
    "\n",
    "# plt.show()\n",
    "plt.savefig(path_plots+\"figure_3C_right.svg\")"
   ]
  },
  {
   "cell_type": "markdown",
   "metadata": {},
   "source": [
    "### Figure 3D left statistical tests"
   ]
  },
  {
   "cell_type": "code",
   "execution_count": null,
   "metadata": {},
   "outputs": [],
   "source": [
    "df = pd.read_csv(path_exp_data+\"Exp08_pt1_YBTATA.csv\")\n",
    "# print(df)"
   ]
  },
  {
   "cell_type": "code",
   "execution_count": null,
   "metadata": {},
   "outputs": [],
   "source": [
    "# run 2-way repeated measures ANOVA\n",
    "anova_rm_table = repeated_measures_anova(path_stats, \"figure3D_left\", df, \"meptrs\", \"day\", \"condition\")\n",
    "# print(anova_rm_table)\n",
    "\n",
    "# run tukey's hsd\n",
    "tukeys_table_i, tukeys_tables = tukeys_hsd(path_stats, \"figure3D_left\", \"meptrs\", df, [\"condition\", \"day\"], [\"condition\",\"day\"]) \n",
    "# print(tukeys_table_i)\n",
    "# for table in tukeys_tables:\n",
    "#     print(table)"
   ]
  },
  {
   "cell_type": "markdown",
   "metadata": {},
   "source": [
    "### Figure 3D left plot"
   ]
  },
  {
   "cell_type": "code",
   "execution_count": null,
   "metadata": {},
   "outputs": [],
   "source": [
    "df_plot = pd.read_csv(path_exp_data+\"plot_figure3D_left.csv\")\n",
    "print(df_plot)\n",
    "days = [0, 1, 2, 3, 4]"
   ]
  },
  {
   "cell_type": "code",
   "execution_count": 35,
   "metadata": {},
   "outputs": [],
   "source": [
    "# normoxia data\n",
    "meptrs_normoxia = df_plot[df_plot[\"condition\"] == \"normoxia\"][\"meptrs\"].to_list()\n",
    "meptrs_normoxia_scaled = [i/1E5 for i in meptrs_normoxia]\n",
    "std_err_normoxia = df_plot[df_plot[\"condition\"] == \"normoxia\"][\"std_err\"].to_list()\n",
    "std_err_normoxia_scaled = [i/1E5 for i in std_err_normoxia]"
   ]
  },
  {
   "cell_type": "code",
   "execution_count": 36,
   "metadata": {},
   "outputs": [],
   "source": [
    "# normoxia + cobalt data\n",
    "meptrs_normoxia_cobalt = df_plot[df_plot[\"condition\"] == \"normoxia_cobalt\"][\"meptrs\"].to_list()\n",
    "meptrs_normoxia_cobalt_scaled = [i/1E5 for i in meptrs_normoxia_cobalt]\n",
    "std_err_normoxia_cobalt = df_plot[df_plot[\"condition\"] == \"normoxia_cobalt\"][\"std_err\"].to_list()\n",
    "std_err_normoxia_cobalt_scaled = [i/1E5 for i in std_err_normoxia_cobalt]"
   ]
  },
  {
   "cell_type": "code",
   "execution_count": 37,
   "metadata": {},
   "outputs": [],
   "source": [
    "# physoxia data\n",
    "meptrs_physoxia = df_plot[df_plot[\"condition\"] == \"physoxia\"][\"meptrs\"].to_list()\n",
    "meptrs_physoxia_scaled = [i/1E5 for i in meptrs_physoxia]\n",
    "std_err_physoxia = df_plot[df_plot[\"condition\"] == \"physoxia\"][\"std_err\"].to_list()\n",
    "std_err_physoxia_scaled = [i/1E5 for i in std_err_physoxia]"
   ]
  },
  {
   "cell_type": "code",
   "execution_count": null,
   "metadata": {},
   "outputs": [],
   "source": [
    "pink_ = [(i/255) for i in [233, 140, 194]]\n",
    "normoxia_gray = [(i/255) for i in [127, 127, 127]]\n",
    "blue_ = [(i/255) for i in [86, 180, 233]]\n",
    "\n",
    "# create figure 2D plot\n",
    "fig, ax = plt.subplots(1, 1, figsize=(2, 1.7), sharey=True)\n",
    "(_, caps1, _) = ax.errorbar(days, meptrs_normoxia_scaled, std_err_normoxia_scaled, color=normoxia_gray, linestyle=\"-\", marker=\"o\", markersize=\"1.5\", ecolor=\"k\", capsize=1.5, elinewidth=0.5, label=\"normoxia\")\n",
    "(_, caps2, _) = ax.errorbar(days, meptrs_normoxia_cobalt_scaled, std_err_normoxia_cobalt_scaled, color=pink_, linestyle=\"-\", marker=\"o\", markersize=\"1.5\", ecolor=\"k\", capsize=1.5, elinewidth=0.5, label=\"normoxia_cobalt\")\n",
    "(_, caps3, _) = ax.errorbar(days, meptrs_physoxia_scaled, std_err_physoxia_scaled, color=blue_, linestyle=\"-\", marker=\"o\", markersize=\"1.5\", ecolor=\"k\", capsize=1.5, elinewidth=0.5, label=\"physoxia\")\n",
    "ax.set_xlabel(\"Days of treatment\")\n",
    "ax.set_xticks([0, 1, 2, 3, 4])\n",
    "ax.set_xlim(left=0)\n",
    "ax.set_ylabel(\"Mean exp. (x10^5 MEPTRs)\")\n",
    "ax.set_yticks([0, 10, 20, 30, 40, 50])\n",
    "# ax.set_ylim(bottom=0)\n",
    "ax.set_ylim([0,50])\n",
    "# ax.set_box_aspect(1)\n",
    "\n",
    "for cap in caps1:\n",
    "    cap.set_markeredgewidth(0.5)\n",
    "for cap in caps2:\n",
    "    cap.set_markeredgewidth(0.5)\n",
    "for cap in caps3:\n",
    "    cap.set_markeredgewidth(0.5)\n",
    "\n",
    "# plt.show()\n",
    "plt.savefig(path_plots+\"figure_3D_left.svg\")"
   ]
  },
  {
   "cell_type": "markdown",
   "metadata": {},
   "source": [
    "### Figure 3D right statistical tests"
   ]
  },
  {
   "cell_type": "code",
   "execution_count": null,
   "metadata": {},
   "outputs": [],
   "source": [
    "df = pd.read_csv(path_exp_data+\"Exp08_pt2_CMV.csv\")\n",
    "# print(df)"
   ]
  },
  {
   "cell_type": "code",
   "execution_count": null,
   "metadata": {},
   "outputs": [],
   "source": [
    "# run 2-way repeated measures ANOVA\n",
    "anova_rm_table = repeated_measures_anova(path_stats, \"figure3D_right\", df, \"meptrs\", \"day\", \"condition\")\n",
    "# print(anova_rm_table)\n",
    "\n",
    "# run tukey's hsd\n",
    "tukeys_table_i, tukeys_tables = tukeys_hsd(path_stats, \"figure3D_right\", \"meptrs\", df, [\"condition\", \"day\"], [\"condition\",\"day\"]) \n",
    "# print(tukeys_table_i)\n",
    "# for table in tukeys_tables:\n",
    "#     print(table)"
   ]
  },
  {
   "cell_type": "markdown",
   "metadata": {},
   "source": [
    "### Figure 3D right plot"
   ]
  },
  {
   "cell_type": "code",
   "execution_count": null,
   "metadata": {},
   "outputs": [],
   "source": [
    "df_plot = pd.read_csv(path_exp_data+\"plot_figure3D_right.csv\")\n",
    "print(df_plot)\n",
    "days = [0, 1, 2, 3, 4]"
   ]
  },
  {
   "cell_type": "code",
   "execution_count": 42,
   "metadata": {},
   "outputs": [],
   "source": [
    "# normoxia data\n",
    "meptrs_normoxia = df_plot[df_plot[\"condition\"] == \"normoxia\"][\"meptrs\"].to_list()\n",
    "meptrs_normoxia_scaled = [i/1E5 for i in meptrs_normoxia]\n",
    "std_err_normoxia = df_plot[df_plot[\"condition\"] == \"normoxia\"][\"std_err\"].to_list()\n",
    "std_err_normoxia_scaled = [i/1E5 for i in std_err_normoxia]"
   ]
  },
  {
   "cell_type": "code",
   "execution_count": 43,
   "metadata": {},
   "outputs": [],
   "source": [
    "# normoxia + cobalt data\n",
    "meptrs_normoxia_cobalt = df_plot[df_plot[\"condition\"] == \"normoxia_cobalt\"][\"meptrs\"].to_list()\n",
    "meptrs_normoxia_cobalt_scaled = [i/1E5 for i in meptrs_normoxia_cobalt]\n",
    "std_err_normoxia_cobalt = df_plot[df_plot[\"condition\"] == \"normoxia_cobalt\"][\"std_err\"].to_list()\n",
    "std_err_normoxia_cobalt_scaled = [i/1E5 for i in std_err_normoxia_cobalt]"
   ]
  },
  {
   "cell_type": "code",
   "execution_count": 44,
   "metadata": {},
   "outputs": [],
   "source": [
    "# physoxia data\n",
    "meptrs_physoxia = df_plot[df_plot[\"condition\"] == \"physoxia\"][\"meptrs\"].to_list()\n",
    "meptrs_physoxia_scaled = [i/1E5 for i in meptrs_physoxia]\n",
    "std_err_physoxia = df_plot[df_plot[\"condition\"] == \"physoxia\"][\"std_err\"].to_list()\n",
    "std_err_physoxia_scaled = [i/1E5 for i in std_err_physoxia]"
   ]
  },
  {
   "cell_type": "code",
   "execution_count": null,
   "metadata": {},
   "outputs": [],
   "source": [
    "pink_ = [(i/255) for i in [233, 140, 194]]\n",
    "normoxia_gray = [(i/255) for i in [127, 127, 127]]\n",
    "blue_ = [(i/255) for i in [86, 180, 233]]\n",
    "\n",
    "# create figure 2D plot\n",
    "fig, ax = plt.subplots(1, 1, figsize=(2, 1.7), sharey=True)\n",
    "(_, caps1, _) = ax.errorbar(days, meptrs_normoxia_scaled, std_err_normoxia_scaled, color=normoxia_gray, linestyle=\"-\", marker=\"o\", markersize=\"1.5\", ecolor=\"k\", capsize=1.5, elinewidth=0.5, label=\"normoxia\")\n",
    "(_, caps2, _) = ax.errorbar(days, meptrs_normoxia_cobalt_scaled, std_err_normoxia_cobalt_scaled, color=pink_, linestyle=\"-\", marker=\"o\", markersize=\"1.5\", ecolor=\"k\", capsize=1.5, elinewidth=0.5, label=\"normoxia_cobalt\")\n",
    "(_, caps3, _) = ax.errorbar(days, meptrs_physoxia_scaled, std_err_physoxia_scaled, color=blue_, linestyle=\"-\", marker=\"o\", markersize=\"1.5\", ecolor=\"k\", capsize=1.5, elinewidth=0.5, label=\"physoxia\")\n",
    "ax.set_xlabel(\"Days of treatment\")\n",
    "ax.set_xticks([0, 1, 2, 3, 4])\n",
    "ax.set_xlim(left=0)\n",
    "ax.set_ylabel(\"Mean exp. (x10^5 MEPTRs)\")\n",
    "ax.set_yticks([0, 10, 20, 30, 40, 50])\n",
    "# ax.set_ylim(bottom=0)\n",
    "ax.set_ylim([0,50])\n",
    "# ax.set_box_aspect(1)\n",
    "\n",
    "for cap in caps1:\n",
    "    cap.set_markeredgewidth(0.5)\n",
    "for cap in caps2:\n",
    "    cap.set_markeredgewidth(0.5)\n",
    "for cap in caps3:\n",
    "    cap.set_markeredgewidth(0.5)\n",
    "\n",
    "# plt.show()\n",
    "plt.savefig(path_plots+\"figure_3D_right.svg\")"
   ]
  },
  {
   "cell_type": "markdown",
   "metadata": {},
   "source": [
    "## Figure 4"
   ]
  },
  {
   "cell_type": "markdown",
   "metadata": {},
   "source": [
    "### Figure 4B statistical tests"
   ]
  },
  {
   "cell_type": "code",
   "execution_count": 46,
   "metadata": {},
   "outputs": [],
   "source": [
    "df = pd.read_csv(path_exp_data+\"Exp04_pt4_dox_HIF.csv\")\n",
    "# print(df)"
   ]
  },
  {
   "cell_type": "code",
   "execution_count": 49,
   "metadata": {},
   "outputs": [],
   "source": [
    "# run 2-way repeated measures ANOVA\n",
    "anova_rm_table = repeated_measures_anova(path_stats, \"figure4B\", df, \"meptrs\", \"day\", \"condition\")\n",
    "# print(anova_rm_table)\n",
    "\n",
    "# run tukey's hsd\n",
    "tukeys_table_i, tukeys_tables = tukeys_hsd(path_stats, \"figure4B\", \"meptrs\", df, [\"condition\", \"day\"], [\"condition\",\"day\"]) \n",
    "# print(tukeys_table_i)\n",
    "# for table in tukeys_tables:\n",
    "#     print(table)"
   ]
  },
  {
   "cell_type": "markdown",
   "metadata": {},
   "source": [
    "### Figure 4B plot"
   ]
  },
  {
   "cell_type": "code",
   "execution_count": null,
   "metadata": {},
   "outputs": [],
   "source": [
    "df_data_plot = pd.read_csv(path_exp_data+\"plot_figure4B.csv\")\n",
    "print(df_data_plot)\n",
    "days = [0, 1, 2, 3, 4]"
   ]
  },
  {
   "cell_type": "code",
   "execution_count": 32,
   "metadata": {},
   "outputs": [],
   "source": [
    "# normoxia data\n",
    "meptrs_normoxia = df_data_plot[df_data_plot[\"condition\"] == \"normoxia\"][\"meptrs\"].to_list()\n",
    "meptrs_normoxia_scaled = [i/1E5 for i in meptrs_normoxia]\n",
    "std_err_normoxia = df_data_plot[df_data_plot[\"condition\"] == \"normoxia\"][\"std_err\"].to_list()\n",
    "std_err_normoxia_scaled = [i/1E5 for i in std_err_normoxia]"
   ]
  },
  {
   "cell_type": "code",
   "execution_count": 33,
   "metadata": {},
   "outputs": [],
   "source": [
    "# normoxia cobalt data\n",
    "meptrs_normoxia_cobalt = df_data_plot[df_data_plot[\"condition\"] == \"normoxia_cobalt\"][\"meptrs\"].to_list()\n",
    "meptrs_normoxia_cobalt_scaled = [i/1E5 for i in meptrs_normoxia_cobalt]\n",
    "std_err_normoxia_cobalt = df_data_plot[df_data_plot[\"condition\"] == \"normoxia_cobalt\"][\"std_err\"].to_list()\n",
    "std_err_normoxia_cobalt_scaled = [i/1E5 for i in std_err_normoxia_cobalt]"
   ]
  },
  {
   "cell_type": "code",
   "execution_count": 34,
   "metadata": {},
   "outputs": [],
   "source": [
    "# normoxia dox data\n",
    "meptrs_normoxia_dox = df_data_plot[df_data_plot[\"condition\"] == \"normoxia_dox\"][\"meptrs\"].to_list()\n",
    "meptrs_normoxia_dox_scaled = [i/1E5 for i in meptrs_normoxia_dox]\n",
    "std_err_normoxia_dox = df_data_plot[df_data_plot[\"condition\"] == \"normoxia_dox\"][\"std_err\"].to_list()\n",
    "std_err_normoxia_dox_scaled = [i/1E5 for i in std_err_normoxia_dox]"
   ]
  },
  {
   "cell_type": "code",
   "execution_count": 35,
   "metadata": {},
   "outputs": [],
   "source": [
    "# hypoxia data\n",
    "meptrs_hypoxia = df_data_plot[df_data_plot[\"condition\"] == \"hypoxia\"][\"meptrs\"].to_list()\n",
    "meptrs_hypoxia_scaled = [i/1E5 for i in meptrs_hypoxia]\n",
    "std_err_hypoxia = df_data_plot[df_data_plot[\"condition\"] == \"hypoxia\"][\"std_err\"].to_list()\n",
    "std_err_hypoxia_scaled = [i/1E5 for i in std_err_hypoxia]"
   ]
  },
  {
   "cell_type": "code",
   "execution_count": null,
   "metadata": {},
   "outputs": [],
   "source": [
    "pink_ = [(i/255) for i in [233, 140, 194]]\n",
    "normoxia_gray = [(i/255) for i in [127, 127, 127]]\n",
    "normox_dox = [(i/255) for i in [158, 31, 99]]\n",
    "\n",
    "# create figure 2D plot\n",
    "fig, ax = plt.subplots(1, 1, figsize=(1.935, 2))\n",
    "(_, caps1, _) = ax.errorbar(days, meptrs_normoxia_scaled, std_err_normoxia_scaled, color=normoxia_gray, linestyle=\"-\", marker=\"o\", markersize=\"2\", ecolor=\"k\", capsize=1.5, elinewidth=0.5, label=\"normoxia\")\n",
    "(_, caps2, _) = ax.errorbar(days, meptrs_normoxia_cobalt_scaled, std_err_normoxia_cobalt_scaled, color=pink_, linestyle=\"-\", marker=\"o\", markersize=\"2\", ecolor=\"k\", capsize=1.5, elinewidth=0.5, label=\"normoxia_cobalt\")\n",
    "(_, caps3, _) = ax.errorbar(days, meptrs_normoxia_dox_scaled, std_err_normoxia_dox_scaled, color=normox_dox, linestyle=\"-\", marker=\"o\", markersize=\"2\", ecolor=\"k\", capsize=1.5, elinewidth=0.5, label=\"normoxia_dox\")\n",
    "(_, caps4, _) = ax.errorbar(days, meptrs_hypoxia_scaled, std_err_hypoxia_scaled, color=\"mediumpurple\", linestyle=\"-\", marker=\"o\", markersize=\"2\", ecolor=\"k\", capsize=1.5, elinewidth=0.5, label=\"hypoxia\")\n",
    "ax.set_xlabel(\"Days post plating\")\n",
    "ax.set_xticks([0, 1, 2, 3, 4])\n",
    "ax.set_xlim(left=0)\n",
    "ax.set_ylabel(\"Mean exp. (x10^5 MEPTRs)\")\n",
    "ax.set_ylim(bottom=0)\n",
    "# ax.set_ylim(top=6.0)\n",
    "ax.set_box_aspect(1)\n",
    "\n",
    "for cap in caps1:\n",
    "    cap.set_markeredgewidth(0.5)\n",
    "for cap in caps2:\n",
    "    cap.set_markeredgewidth(0.5)\n",
    "for cap in caps3:\n",
    "    cap.set_markeredgewidth(0.5)\n",
    "for cap in caps4:\n",
    "    cap.set_markeredgewidth(0.5)\n",
    "# plt.show()\n",
    "plt.savefig(path_plots+\"figure_4B.svg\")"
   ]
  },
  {
   "cell_type": "markdown",
   "metadata": {},
   "source": [
    "## Figure 5"
   ]
  },
  {
   "cell_type": "markdown",
   "metadata": {},
   "source": [
    "### Figure 5B promoter comparison statistical tests"
   ]
  },
  {
   "cell_type": "code",
   "execution_count": 6,
   "metadata": {},
   "outputs": [],
   "source": [
    "df = pd.read_csv(path_exp_data+\"Exp09_pt1_promoters.csv\")\n",
    "# print(df)\n",
    "df_promoters = df[~(df[\"minimal_promoter\"].str.contains(\"x\"))].copy()\n",
    "# print(df_promoters)\n",
    "df_yb_tata = df[df[\"minimal_promoter\"].str.contains(\"YB\")].copy()\n",
    "# print(df_yb_tata)"
   ]
  },
  {
   "cell_type": "markdown",
   "metadata": {},
   "source": [
    "#### Figure 5B promoter comparison statistical tests"
   ]
  },
  {
   "cell_type": "code",
   "execution_count": 9,
   "metadata": {},
   "outputs": [],
   "source": [
    "# run 2-way ANOVA\n",
    "anova_table = anova(path_stats, \"figure5B_promoters\", df_promoters, \"meptrs\", \"condition\", \"minimal_promoter\")\n",
    "# print(anova_table)\n",
    "# run tukey's hsd\n",
    "tukeys_table_i, tukeys_tables = tukeys_hsd(path_stats, \"figure5B_promoters\", \"meptrs\", df_promoters, [\"condition\", \"minimal_promoter\"], [\"condition\",\"minimal_promoter\"])\n",
    "# print(tukeys_table_i)\n",
    "# for table in tukeys_tables:\n",
    "#     print(table)"
   ]
  },
  {
   "cell_type": "markdown",
   "metadata": {},
   "source": [
    "#### Figure 5B copy number comparison statistical tests"
   ]
  },
  {
   "cell_type": "code",
   "execution_count": 11,
   "metadata": {},
   "outputs": [],
   "source": [
    "# run 2-way ANOVA\n",
    "anova_table = anova(path_stats, \"figure5B_yb_tata\", df_yb_tata, \"meptrs\", \"condition\", \"minimal_promoter\")\n",
    "# print(anova_table)\n",
    "# run tukey's hsd\n",
    "tukeys_table_i, tukeys_tables = tukeys_hsd(path_stats, \"figure5B_yb_tata\", \"meptrs\", df_yb_tata, [\"condition\", \"minimal_promoter\"], [\"condition\",\"minimal_promoter\"])\n",
    "# print(tukeys_table_i)\n",
    "# for table in tukeys_tables:\n",
    "#     print(table)"
   ]
  },
  {
   "cell_type": "markdown",
   "metadata": {},
   "source": [
    "### Figure 5B feedback comparison statistical tests"
   ]
  },
  {
   "cell_type": "code",
   "execution_count": 13,
   "metadata": {},
   "outputs": [],
   "source": [
    "df = pd.read_csv(path_exp_data+\"Exp09_pt2_feedback.csv\")\n",
    "# print(df)"
   ]
  },
  {
   "cell_type": "code",
   "execution_count": 15,
   "metadata": {},
   "outputs": [],
   "source": [
    "# run 2-way ANOVA\n",
    "anova_table = anova(path_stats, \"figure5B_feedback\", df, \"meptrs\", \"condition\", \"topology\")\n",
    "# print(anova_table)\n",
    "# run tukey's hsd\n",
    "tukeys_table_i, tukeys_tables = tukeys_hsd(path_stats, \"figure5B_feedback\", \"meptrs\", df, [\"condition\", \"topology\"], [\"condition\",\"topology\"])\n",
    "# print(tukeys_table_i)\n",
    "# for table in tukeys_tables:\n",
    "#     print(table)"
   ]
  },
  {
   "cell_type": "markdown",
   "metadata": {},
   "source": [
    "### Figure 5B plot"
   ]
  },
  {
   "cell_type": "code",
   "execution_count": 51,
   "metadata": {},
   "outputs": [],
   "source": [
    "#plot\n",
    "df_data_plot5B_promo = pd.read_csv(path_exp_data+\"plot_figure5B_promoters.csv\")\n",
    "# print(df_data_plot5B_promo)"
   ]
  },
  {
   "cell_type": "code",
   "execution_count": 52,
   "metadata": {},
   "outputs": [],
   "source": [
    "#plot\n",
    "df_data_plot5B_fb = pd.read_csv(path_exp_data+\"plot_figure5B_feedback.csv\")\n",
    "df_data_plot5B_fb = df_data_plot5B_fb.copy()[df_data_plot5B_fb[\"minimal_promoter\"] != \"YB_TATA\"]\n",
    "# print(df_data_plot5B_fb)"
   ]
  },
  {
   "cell_type": "code",
   "execution_count": null,
   "metadata": {},
   "outputs": [],
   "source": [
    "normoxia_gray = [(i/255) for i in [127, 127, 127]]\n",
    "\n",
    "# format data and labels for plotting\n",
    "conditions = df_data_plot5B_promo[\"minimal_promoter\"].to_list() + df_data_plot5B_fb[\"minimal_promoter\"].to_list()\n",
    "plot_xlabels = [conditions[i] for i in range(0, len(conditions), 2)]\n",
    "# print(plot_xlabels)\n",
    "meptrs = df_data_plot5B_promo[\"meptrs\"].to_list() + df_data_plot5B_fb[\"meptrs\"].to_list()\n",
    "# print(meptrs)\n",
    "meptrs_scaled = [i/1E5 for i in meptrs]\n",
    "plot_meptrs = [meptrs_scaled[i:i + 2] for i in range(0, len(meptrs_scaled), 2)]\n",
    "std_err = df_data_plot5B_promo[\"std_err\"].to_list() + df_data_plot5B_fb[\"std_err\"].to_list()\n",
    "std_err_scaled = [i/1E5 for i in std_err]\n",
    "plot_std_err = [std_err_scaled[i:i + 2] for i in range(0, len(std_err_scaled), 2)]\n",
    "\n",
    "# # create plot\n",
    "fig, ax = plt.subplots(1, 1, figsize=(3.65, 2))\n",
    "x_ticks = []\n",
    "for index, meptrs_list in enumerate(plot_meptrs):\n",
    "    ax.bar(index-0.175, meptrs_list[0], width=0.35, color=normoxia_gray, align=\"center\", label=\"normoxic\")\n",
    "    (_, caps1, _) = ax.errorbar(index-0.175, meptrs_list[0], plot_std_err[index][0], color=\"k\", capsize=1.5, elinewidth=0.5)\n",
    "    ax.bar(index+0.175, meptrs_list[1], width=0.35, color=\"mediumpurple\", align=\"center\", label=\"hypoxic\")\n",
    "    (_, caps2, _) = ax.errorbar(index+0.175, meptrs_list[1], plot_std_err[index][1], color=\"k\", capsize=1.5, elinewidth=0.5)\n",
    "    x_ticks.append(index)\n",
    "\n",
    "    for cap in caps1:\n",
    "        cap.set_markeredgewidth(0.5)\n",
    "    for cap in caps2:\n",
    "        cap.set_markeredgewidth(0.5)\n",
    "\n",
    "ax.set_xticks(x_ticks)\n",
    "ax.set_xlim([-0.625, 8.45])\n",
    "ax.set_xticklabels(plot_xlabels)\n",
    "ax.set_yticks([0, 5, 10, 15])\n",
    "ax.set_xlabel(\"Topology\")\n",
    "ax.set_ylabel(\"Mean exp. \\n (x10^5 MEFLs)\")\n",
    "\n",
    "\n",
    "# plt.show()\n",
    "plt.savefig(path_plots+\"figure_5B.svg\")"
   ]
  },
  {
   "cell_type": "markdown",
   "metadata": {},
   "source": [
    "### Figure 5C statistical tests"
   ]
  },
  {
   "cell_type": "code",
   "execution_count": null,
   "metadata": {},
   "outputs": [],
   "source": [
    "df = pd.read_csv(path_exp_data+\"Exp10.csv\")\n",
    "df_hypoxic = df[df[\"day\"] != \"normoxic\"].copy()\n",
    "# print(df_hypoxic)"
   ]
  },
  {
   "cell_type": "code",
   "execution_count": 85,
   "metadata": {},
   "outputs": [],
   "source": [
    "# run 2-way repeated measures ANOVA\n",
    "anova_rm_table = repeated_measures_anova(path_stats, \"figure5C\", df_hypoxic, \"meptrs\", \"day\", \"condition\")\n",
    "# print(anova_rm_table)\n",
    "\n",
    "# run tukey's hsd\n",
    "tukeys_table_i, tukeys_tables = tukeys_hsd(path_stats, \"figure5C\", \"meptrs\", df_hypoxic, [\"condition\", \"day\"], [\"condition\",\"day\"]) \n",
    "# print(tukeys_table_i)\n",
    "# for table in tukeys_tables:\n",
    "#     print(table)\n",
    "\n",
    "# run t-tests for each day vs. normoxia for simple, h1a fb, h2a fb\n",
    "# format df for t-test code\n",
    "# df[\"condition\"] = df[\"condition\"] + \"_\" + df[\"day\"].astype(str)\n",
    "# print(df)\n",
    "comparisons = [\n",
    "    [\"simple_hbs_0\", \"simple_hbs_normoxic\"],\n",
    "    [\"simple_hbs_1\", \"simple_hbs_normoxic\"],\n",
    "    [\"simple_hbs_2\", \"simple_hbs_normoxic\"],\n",
    "    [\"simple_hbs_3\", \"simple_hbs_normoxic\"],\n",
    "    [\"simple_hbs_4\", \"simple_hbs_normoxic\"],\n",
    "    [\"h1a_fb_hbs_0\", \"h1a_fb_hbs_normoxic\"],\n",
    "    [\"h1a_fb_hbs_1\", \"h1a_fb_hbs_normoxic\"],\n",
    "    [\"h1a_fb_hbs_2\", \"h1a_fb_hbs_normoxic\"],\n",
    "    [\"h1a_fb_hbs_3\", \"h1a_fb_hbs_normoxic\"],\n",
    "    [\"h1a_fb_hbs_4\", \"h1a_fb_hbs_normoxic\"],\n",
    "    [\"h2a_fb_hbs_0\", \"h2a_fb_hbs_normoxic\"],\n",
    "    [\"h2a_fb_hbs_1\", \"h2a_fb_hbs_normoxic\"],\n",
    "    [\"h2a_fb_hbs_2\", \"h2a_fb_hbs_normoxic\"],\n",
    "    [\"h2a_fb_hbs_3\", \"h2a_fb_hbs_normoxic\"],\n",
    "    [\"h2a_fb_hbs_4\", \"h2a_fb_hbs_normoxic\"],\n",
    "]\n",
    "t_test_df = run_corrected_t_tests(path_stats, \"figure5C\", \"meptrs\", df, comparisons)\n",
    "# print(t_test_df)"
   ]
  },
  {
   "cell_type": "markdown",
   "metadata": {},
   "source": [
    "### Figure 5C Plots"
   ]
  },
  {
   "cell_type": "code",
   "execution_count": 4,
   "metadata": {},
   "outputs": [],
   "source": [
    "df_data_plot = pd.read_csv(path_exp_data+\"plot_figure5C.csv\")\n",
    "# print(df_data_plot)\n",
    "df_hypoxia_data = df_data_plot[df_data_plot[\"day\"] != \"baseline\"].copy()\n",
    "df_normoxia_data = df_data_plot[df_data_plot[\"day\"] == \"baseline\"].copy()\n",
    "days = [0, 1, 2, 3, 4]"
   ]
  },
  {
   "cell_type": "code",
   "execution_count": 12,
   "metadata": {},
   "outputs": [
    {
     "name": "stdout",
     "output_type": "stream",
     "text": [
      "0.1728451439 0.001973933989\n"
     ]
    }
   ],
   "source": [
    "# simple HBS data\n",
    "meptrs_hypoxia_simple = df_hypoxia_data[df_hypoxia_data[\"condition\"] == \"simple_hbs\"][\"meptrs\"].to_list()\n",
    "meptrs_hypoxia_simple_scaled = [i/1E5 for i in meptrs_hypoxia_simple]\n",
    "std_err_hypoxia_simple = df_hypoxia_data[df_hypoxia_data[\"condition\"] == \"simple_hbs\"][\"std_err\"].to_list()\n",
    "std_err_hypoxia_simple_scaled = [i/1E5 for i in std_err_hypoxia_simple]\n",
    "meptrs_normoxia_simple = df_normoxia_data[df_normoxia_data[\"condition\"] == \"simple_hbs\"][\"meptrs\"].to_list()[0]\n",
    "meptrs_normoxia_simple_scaled = meptrs_normoxia_simple/1E5\n",
    "std_err_normoxia_simple = df_normoxia_data[df_normoxia_data[\"condition\"] == \"simple_hbs\"][\"std_err\"].to_list()[0]\n",
    "std_err_normoxia_simple_scaled = std_err_normoxia_simple/1E5\n",
    "print(meptrs_normoxia_simple_scaled, std_err_normoxia_simple_scaled)"
   ]
  },
  {
   "cell_type": "code",
   "execution_count": 13,
   "metadata": {},
   "outputs": [
    {
     "name": "stdout",
     "output_type": "stream",
     "text": [
      "0.3079116624 0.01236599451\n"
     ]
    }
   ],
   "source": [
    "# h1a fb HBS data\n",
    "meptrs_hypoxia_h1a_fb = df_hypoxia_data[df_hypoxia_data[\"condition\"] == \"h1a_fb_hbs\"][\"meptrs\"].to_list()\n",
    "meptrs_hypoxia_h1a_fb_scaled = [i/1E5 for i in meptrs_hypoxia_h1a_fb]\n",
    "std_err_hypoxia_h1a_fb = df_hypoxia_data[df_hypoxia_data[\"condition\"] == \"h1a_fb_hbs\"][\"std_err\"].to_list()\n",
    "std_err_hypoxia_h1a_fb_scaled = [i/1E5 for i in std_err_hypoxia_h1a_fb]\n",
    "meptrs_normoxia_h1a_fb = df_normoxia_data[df_normoxia_data[\"condition\"] == \"h1a_fb_hbs\"][\"meptrs\"].to_list()[0]\n",
    "meptrs_normoxia_h1a_fb_scaled = meptrs_normoxia_h1a_fb/1E5\n",
    "std_err_normoxia_h1a_fb = df_normoxia_data[df_normoxia_data[\"condition\"] == \"h1a_fb_hbs\"][\"std_err\"].to_list()[0]\n",
    "std_err_normoxia_h1a_fb_scaled = std_err_normoxia_h1a_fb/1E5\n",
    "print(meptrs_normoxia_h1a_fb_scaled, std_err_normoxia_h1a_fb_scaled)"
   ]
  },
  {
   "cell_type": "code",
   "execution_count": 14,
   "metadata": {},
   "outputs": [
    {
     "name": "stdout",
     "output_type": "stream",
     "text": [
      "0.1673180545 0.004282704076\n"
     ]
    }
   ],
   "source": [
    "# h2a fb data\n",
    "meptrs_hypoxia_h2a_fb = df_hypoxia_data[df_hypoxia_data[\"condition\"] == \"h2a_fb_hbs\"][\"meptrs\"].to_list()\n",
    "meptrs_hypoxia_h2a_fb_scaled = [i/1E5 for i in meptrs_hypoxia_h2a_fb]\n",
    "std_err_hypoxia_h2a_fb = df_hypoxia_data[df_hypoxia_data[\"condition\"] == \"h2a_fb_hbs\"][\"std_err\"].to_list()\n",
    "std_err_hypoxia_h2a_fb_scaled = [i/1E5 for i in std_err_hypoxia_h2a_fb]\n",
    "meptrs_normoxia_h2a_fb = df_normoxia_data[df_normoxia_data[\"condition\"] == \"h2a_fb_hbs\"][\"meptrs\"].to_list()[0]\n",
    "meptrs_normoxia_h2a_fb_scaled = meptrs_normoxia_h2a_fb/1E5\n",
    "std_err_normoxia_h2a_fb = df_normoxia_data[df_normoxia_data[\"condition\"] == \"h2a_fb_hbs\"][\"std_err\"].to_list()[0]\n",
    "std_err_normoxia_h2a_fb_scaled = std_err_normoxia_h2a_fb/1E5\n",
    "print(meptrs_normoxia_h2a_fb_scaled, std_err_normoxia_h2a_fb_scaled)"
   ]
  },
  {
   "cell_type": "code",
   "execution_count": null,
   "metadata": {},
   "outputs": [],
   "source": [
    "normoxia_gray = [(i/255) for i in [127, 127, 127]]\n",
    "# create figure 2D plot\n",
    "fig, axs = plt.subplots(1, 3, figsize=(3.79, 1.7), sharey=True)\n",
    "axs = axs.ravel()\n",
    "(_, caps1, _) = axs[0].errorbar(days, meptrs_hypoxia_simple_scaled, std_err_hypoxia_simple_scaled, color=\"mediumpurple\", linestyle=\"-\", marker=\"o\", markersize=\"1.5\", ecolor=\"k\", capsize=1.5, elinewidth=0.5)\n",
    "axs[0].fill_between(\n",
    "    days, meptrs_normoxia_simple_scaled-std_err_normoxia_simple_scaled, \n",
    "    meptrs_normoxia_simple_scaled+std_err_normoxia_simple_scaled, color=normoxia_gray)\n",
    "axs[0].set_xlabel(\"Days of treatment\")\n",
    "axs[0].set_xticks([0, 1, 2, 3, 4])\n",
    "axs[0].set_ylabel(\"Mean exp. (x10^5 MEPTRs)\")\n",
    "axs[0].set_xlim(left=0)\n",
    "axs[0].set_ylim([0, 6])\n",
    "axs[0].set_box_aspect(1)\n",
    "(_, caps2, _) = axs[1].errorbar(days, meptrs_hypoxia_h1a_fb_scaled, std_err_hypoxia_h1a_fb_scaled, color=\"mediumpurple\", linestyle=\"-\", marker=\"o\", markersize=\"1.5\", ecolor=\"k\", capsize=1.5, elinewidth=0.5)\n",
    "axs[1].fill_between(\n",
    "    days, meptrs_normoxia_h1a_fb_scaled-std_err_normoxia_h1a_fb_scaled, \n",
    "    meptrs_normoxia_h1a_fb_scaled+std_err_normoxia_h1a_fb_scaled, color=normoxia_gray)\n",
    "axs[1].set_xlabel(\"Days of treatment\")\n",
    "axs[1].set_xlim(left=0)\n",
    "axs[1].set_xticks([0, 1, 2, 3, 4])\n",
    "axs[1].set_box_aspect(1)\n",
    "(_, caps3, _) = axs[2].errorbar(days, meptrs_hypoxia_h2a_fb_scaled, std_err_hypoxia_h2a_fb_scaled, color=\"mediumpurple\", linestyle=\"-\", marker=\"o\", markersize=\"1.5\", ecolor=\"k\", capsize=1.5, elinewidth=0.5)\n",
    "axs[2].fill_between(\n",
    "    days, meptrs_normoxia_h2a_fb_scaled-std_err_normoxia_h2a_fb_scaled, \n",
    "    meptrs_normoxia_h2a_fb_scaled+std_err_normoxia_h2a_fb_scaled, color=normoxia_gray)\n",
    "axs[2].set_xlabel(\"Days of treatment\")\n",
    "axs[2].set_xlim(left=0)\n",
    "axs[2].set_xticks([0, 1, 2, 3, 4])\n",
    "axs[2].set_box_aspect(1)\n",
    "\n",
    "for cap in caps1:\n",
    "    cap.set_markeredgewidth(0.5)\n",
    "for cap in caps2:\n",
    "    cap.set_markeredgewidth(0.5)\n",
    "for cap in caps3:\n",
    "    cap.set_markeredgewidth(0.5)\n",
    "\n",
    "# plt.show()\n",
    "plt.savefig(path_plots+\"figure_5C.svg\")"
   ]
  },
  {
   "cell_type": "markdown",
   "metadata": {},
   "source": [
    "#### Supplementary Figure 13 plot"
   ]
  },
  {
   "cell_type": "code",
   "execution_count": null,
   "metadata": {},
   "outputs": [],
   "source": [
    "normoxia_gray = [(i/255) for i in [127, 127, 127]]\n",
    "fig, ax = plt.subplots(1, 1, figsize=(3, 2))\n",
    "x_ticks = []\n",
    "xtick_labels = [\"no_fb\", \"h1a_fb\", \"h2a_fb\"]\n",
    "baselines = [meptrs_normoxia_simple_scaled, meptrs_normoxia_h1a_fb_scaled, meptrs_normoxia_h2a_fb_scaled]\n",
    "baselines_stderr = [std_err_normoxia_simple_scaled, std_err_normoxia_h1a_fb_scaled, std_err_normoxia_h2a_fb_scaled]\n",
    "\n",
    "for index, baseline in enumerate(baselines):\n",
    "    ax.bar(index, baselines[index], width=0.5, color=normoxia_gray, align=\"center\", label=xtick_labels[index])\n",
    "    (_, caps1, _) = ax.errorbar(index, baselines[index], baselines_stderr[index], color=\"k\", capsize=1.5, elinewidth=0.5)\n",
    "    x_ticks.append(index)\n",
    "\n",
    "for cap in caps1:\n",
    "    cap.set_markeredgewidth(0.5)\n",
    "\n",
    "ax.set_xticks(x_ticks)\n",
    "ax.set_xticklabels(xtick_labels)\n",
    "ax.set_ylabel(\"Mean exp. (x10^5 MEPTRs)\")\n",
    "ax.set_xlim([-0.5, 2.5])\n",
    "ax.set_ylim(bottom=0)\n",
    "ax.set_yticks([0, 0.1, 0.2, 0.3])\n",
    "# plt.show()\n",
    "plt.savefig(path_plots+\"supp_figure_13.svg\")"
   ]
  },
  {
   "cell_type": "markdown",
   "metadata": {},
   "source": [
    "### Figure 5D Statistical tests"
   ]
  },
  {
   "cell_type": "code",
   "execution_count": null,
   "metadata": {},
   "outputs": [],
   "source": [
    "df = pd.read_csv(path_exp_data+\"Exp11.csv\")\n",
    "df_hypoxic = df[df[\"day\"] != \"normoxic\"].copy()\n",
    "# print(df_hypoxic)"
   ]
  },
  {
   "cell_type": "code",
   "execution_count": 14,
   "metadata": {},
   "outputs": [],
   "source": [
    "# run 2-way repeated measures ANOVA\n",
    "anova_rm_table = repeated_measures_anova(path_stats, \"figure5D\", df_hypoxic, \"meptrs\", \"day\", \"condition\")\n",
    "# print(anova_rm_table)\n",
    "\n",
    "# run tukey's hsd\n",
    "tukeys_table_i, tukeys_tables = tukeys_hsd(path_stats, \"figure5D\", \"meptrs\", df_hypoxic, [\"condition\", \"day\"], [\"condition\",\"day\"]) \n",
    "# print(tukeys_table_i)\n",
    "# for table in tukeys_tables:\n",
    "#     print(table)\n",
    "\n",
    "# run t-tests for each day vs. normoxia for simple, h1a fb, h2a fb\n",
    "# format df for t-test code\n",
    "df[\"condition\"] = df[\"condition\"] + \"_\" + df[\"day\"].astype(str)\n",
    "# print(df)\n",
    "comparisons = [\n",
    "    [\"simple_hbs_0\", \"simple_hbs_normoxic\"],\n",
    "    [\"simple_hbs_1\", \"simple_hbs_normoxic\"],\n",
    "    [\"simple_hbs_2\", \"simple_hbs_normoxic\"],\n",
    "    [\"simple_hbs_3\", \"simple_hbs_normoxic\"],\n",
    "    [\"simple_hbs_4\", \"simple_hbs_normoxic\"],\n",
    "    [\"h1a_fb_hbs_0\", \"h1a_fb_hbs_normoxic\"],\n",
    "    [\"h1a_fb_hbs_1\", \"h1a_fb_hbs_normoxic\"],\n",
    "    [\"h1a_fb_hbs_2\", \"h1a_fb_hbs_normoxic\"],\n",
    "    [\"h1a_fb_hbs_3\", \"h1a_fb_hbs_normoxic\"],\n",
    "    [\"h1a_fb_hbs_4\", \"h1a_fb_hbs_normoxic\"],\n",
    "    [\"h2a_fb_hbs_0\", \"h2a_fb_hbs_normoxic\"],\n",
    "    [\"h2a_fb_hbs_1\", \"h2a_fb_hbs_normoxic\"],\n",
    "    [\"h2a_fb_hbs_2\", \"h2a_fb_hbs_normoxic\"],\n",
    "    [\"h2a_fb_hbs_3\", \"h2a_fb_hbs_normoxic\"],\n",
    "    [\"h2a_fb_hbs_4\", \"h2a_fb_hbs_normoxic\"],\n",
    "]\n",
    "t_test_df = run_corrected_t_tests(path_stats, \"figure5D\", \"meptrs\", df, comparisons)\n",
    "# print(t_test_df)"
   ]
  },
  {
   "cell_type": "markdown",
   "metadata": {},
   "source": [
    "### Figure 5D plots"
   ]
  },
  {
   "cell_type": "code",
   "execution_count": null,
   "metadata": {},
   "outputs": [],
   "source": [
    "df_data_plot = pd.read_csv(path_exp_data+\"plot_figure5D.csv\")\n",
    "print(df_data_plot)\n",
    "df_hypoxia_data = df_data_plot[df_data_plot[\"day\"] != \"baseline\"].copy()\n",
    "df_normoxia_data = df_data_plot[df_data_plot[\"day\"] == \"baseline\"].copy()\n",
    "days = [0, 1, 2, 3, 4]"
   ]
  },
  {
   "cell_type": "code",
   "execution_count": 45,
   "metadata": {},
   "outputs": [],
   "source": [
    "# simple HBS data\n",
    "meptrs_hypoxia_simple = df_hypoxia_data[df_hypoxia_data[\"condition\"] == \"simple_hbs\"][\"meptrs\"].to_list()\n",
    "meptrs_hypoxia_simple_scaled = [i/1E5 for i in meptrs_hypoxia_simple]\n",
    "std_err_hypoxia_simple = df_hypoxia_data[df_hypoxia_data[\"condition\"] == \"simple_hbs\"][\"std_err\"].to_list()\n",
    "std_err_hypoxia_simple_scaled = [i/1E5 for i in std_err_hypoxia_simple]\n",
    "meptrs_normoxia_simple = df_normoxia_data[df_normoxia_data[\"condition\"] == \"simple_hbs\"][\"meptrs\"].to_list()[0]\n",
    "meptrs_normoxia_simple_scaled = meptrs_normoxia_simple/1E5\n",
    "std_err_normoxia_simple = df_normoxia_data[df_normoxia_data[\"condition\"] == \"simple_hbs\"][\"std_err\"].to_list()[0]\n",
    "std_err_normoxia_simple_scaled = std_err_normoxia_simple/1E5"
   ]
  },
  {
   "cell_type": "code",
   "execution_count": 46,
   "metadata": {},
   "outputs": [],
   "source": [
    "# h1a fb HBS data\n",
    "meptrs_hypoxia_h1a_fb = df_hypoxia_data[df_hypoxia_data[\"condition\"] == \"h1a_fb_hbs\"][\"meptrs\"].to_list()\n",
    "meptrs_hypoxia_h1a_fb_scaled = [i/1E5 for i in meptrs_hypoxia_h1a_fb]\n",
    "std_err_hypoxia_h1a_fb = df_hypoxia_data[df_hypoxia_data[\"condition\"] == \"h1a_fb_hbs\"][\"std_err\"].to_list()\n",
    "std_err_hypoxia_h1a_fb_scaled = [i/1E5 for i in std_err_hypoxia_h1a_fb]\n",
    "meptrs_normoxia_h1a_fb = df_normoxia_data[df_normoxia_data[\"condition\"] == \"h1a_fb_hbs\"][\"meptrs\"].to_list()[0]\n",
    "meptrs_normoxia_h1a_fb_scaled = meptrs_normoxia_h1a_fb/1E5\n",
    "std_err_normoxia_h1a_fb = df_normoxia_data[df_normoxia_data[\"condition\"] == \"h1a_fb_hbs\"][\"std_err\"].to_list()[0]\n",
    "std_err_normoxia_h1a_fb_scaled = std_err_normoxia_h1a_fb/1E5"
   ]
  },
  {
   "cell_type": "code",
   "execution_count": 47,
   "metadata": {},
   "outputs": [],
   "source": [
    "# h2a fb HBS data\n",
    "meptrs_hypoxia_h2a_fb = df_hypoxia_data[df_hypoxia_data[\"condition\"] == \"h2a_fb_hbs\"][\"meptrs\"].to_list()\n",
    "meptrs_hypoxia_h2a_fb_scaled = [i/1E5 for i in meptrs_hypoxia_h2a_fb]\n",
    "std_err_hypoxia_h2a_fb = df_hypoxia_data[df_hypoxia_data[\"condition\"] == \"h2a_fb_hbs\"][\"std_err\"].to_list()\n",
    "std_err_hypoxia_h2a_fb_scaled = [i/1E5 for i in std_err_hypoxia_h2a_fb]\n",
    "meptrs_normoxia_h2a_fb = df_normoxia_data[df_normoxia_data[\"condition\"] == \"h2a_fb_hbs\"][\"meptrs\"].to_list()[0]\n",
    "meptrs_normoxia_h2a_fb_scaled = meptrs_normoxia_h2a_fb/1E5\n",
    "std_err_normoxia_h2a_fb = df_normoxia_data[df_normoxia_data[\"condition\"] == \"h2a_fb_hbs\"][\"std_err\"].to_list()[0]\n",
    "std_err_normoxia_h2a_fb_scaled = std_err_normoxia_h2a_fb/1E5"
   ]
  },
  {
   "cell_type": "code",
   "execution_count": null,
   "metadata": {},
   "outputs": [],
   "source": [
    "blue_ = [(i/255) for i in [86, 180, 233]]\n",
    "normoxia_gray = [(i/255) for i in [127, 127, 127]]\n",
    "\n",
    "fig, axs = plt.subplots(1, 3, figsize=(3.79, 1.7), sharey=True)\n",
    "axs = axs.ravel()\n",
    "(_, caps1, _) = axs[0].errorbar(days, meptrs_hypoxia_simple_scaled, std_err_hypoxia_simple_scaled, color=blue_, linestyle=\"-\", marker=\"o\", markersize=\"1.5\", ecolor=\"k\", capsize=1.5, elinewidth=0.5)\n",
    "axs[0].fill_between(\n",
    "    days, meptrs_normoxia_simple_scaled-std_err_normoxia_simple_scaled, \n",
    "    meptrs_normoxia_simple_scaled+std_err_normoxia_simple_scaled, color=normoxia_gray)\n",
    "axs[0].set_xlabel(\"Days of treatment\")\n",
    "axs[0].set_xticks([0, 1, 2, 3, 4])\n",
    "axs[0].set_ylabel(\"Mean exp. (x10^5 MEPTRs)\")\n",
    "axs[0].set_xlim(left=0)\n",
    "axs[0].set_ylim([0, 6])\n",
    "axs[0].set_box_aspect(1)\n",
    "(_, caps2, _) = axs[1].errorbar(days, meptrs_hypoxia_h1a_fb_scaled, std_err_hypoxia_h1a_fb_scaled, color=blue_, linestyle=\"-\", marker=\"o\", markersize=\"1.5\", ecolor=\"k\", capsize=1.5, elinewidth=0.5)\n",
    "axs[1].fill_between(\n",
    "    days, meptrs_normoxia_h1a_fb_scaled-std_err_normoxia_h1a_fb_scaled, \n",
    "    meptrs_normoxia_h1a_fb_scaled+std_err_normoxia_h1a_fb_scaled, color=normoxia_gray)\n",
    "axs[1].set_xlabel(\"Days of treatment\")\n",
    "axs[1].set_xticks([0, 1, 2, 3, 4])\n",
    "axs[1].set_xlim(left=0)\n",
    "axs[1].set_box_aspect(1)\n",
    "(_, caps3, _) = axs[2].errorbar(days, meptrs_hypoxia_h2a_fb_scaled, std_err_hypoxia_h2a_fb_scaled, color=blue_, linestyle=\"-\", marker=\"o\", markersize=\"1.5\", ecolor=\"k\", capsize=1.5, elinewidth=0.5)\n",
    "axs[2].fill_between(\n",
    "    days, meptrs_normoxia_h2a_fb_scaled-std_err_normoxia_h2a_fb_scaled, \n",
    "    meptrs_normoxia_h2a_fb_scaled+std_err_normoxia_h2a_fb_scaled, color=normoxia_gray)\n",
    "axs[2].set_xlabel(\"Days of treatment\")\n",
    "axs[2].set_xticks([0, 1, 2, 3, 4])\n",
    "axs[2].set_xlim(left=0)\n",
    "axs[2].set_box_aspect(1)\n",
    "\n",
    "for cap in caps1:\n",
    "    cap.set_markeredgewidth(0.5)\n",
    "for cap in caps2:\n",
    "    cap.set_markeredgewidth(0.5)\n",
    "for cap in caps3:\n",
    "    cap.set_markeredgewidth(0.5)\n",
    "# plt.show()\n",
    "plt.savefig(path_plots+\"figure_5D.svg\")"
   ]
  }
 ],
 "metadata": {
  "kernelspec": {
   "display_name": ".venv",
   "language": "python",
   "name": "python3"
  },
  "language_info": {
   "codemirror_mode": {
    "name": "ipython",
    "version": 3
   },
   "file_extension": ".py",
   "mimetype": "text/x-python",
   "name": "python",
   "nbconvert_exporter": "python",
   "pygments_lexer": "ipython3",
   "version": "3.10.10"
  }
 },
 "nbformat": 4,
 "nbformat_minor": 2
}
