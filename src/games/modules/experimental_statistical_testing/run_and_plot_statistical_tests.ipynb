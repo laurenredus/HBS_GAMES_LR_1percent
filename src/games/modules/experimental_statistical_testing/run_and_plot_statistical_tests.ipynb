{
 "cells": [
  {
   "cell_type": "code",
   "execution_count": 2,
   "metadata": {},
   "outputs": [
    {
     "name": "stderr",
     "output_type": "stream",
     "text": [
      "/Users/kdreyer/Documents/Github/HBS_GAMES2/.venv/lib/python3.10/site-packages/outdated/utils.py:14: OutdatedPackageWarning: The package pingouin is out of date. Your version is 0.5.3, the latest is 0.5.5.\n",
      "Set the environment variable OUTDATED_IGNORE=1 to disable these warnings.\n",
      "  return warn(\n"
     ]
    }
   ],
   "source": [
    "import numpy as np\n",
    "import pandas as pd\n",
    "import matplotlib.pyplot as plt\n",
    "from matplotlib.ticker import ScalarFormatter\n",
    "from games.modules.experimental_statistical_testing.experimental_statistical_tests import (anova,\n",
    "                                                  tukeys_hsd,\n",
    "                                                  t_tests,\n",
    "                                                  BH_correction,\n",
    "                                                  run_corrected_t_tests,\n",
    "                                                  repeated_measures_anova)\n",
    "plt.style.use(\"/Users/kdreyer/Documents/Github/HBS_GAMES2/src/games/paper.mplstyle.py\")\n",
    "path = \"/Users/kdreyer/Documents/Github/HBS_GAMES2/src/games/modules/experimental_statistical_testing/\"\n",
    "path_exp_data = path + \"experimental_data/\"\n",
    "path_stats = path + \"results/\"\n",
    "path_plots = path + \"experimental_data_plots/\""
   ]
  },
  {
   "cell_type": "markdown",
   "metadata": {},
   "source": [
    "## Figure 1"
   ]
  },
  {
   "cell_type": "markdown",
   "metadata": {},
   "source": [
    "### Figure 1A plot"
   ]
  },
  {
   "cell_type": "code",
   "execution_count": 8,
   "metadata": {},
   "outputs": [],
   "source": [
    "df_plot_pO2 = pd.read_csv(path_exp_data+\"plot_figure1A_pO2.csv\")\n",
    "# print(df_plot_pO2)\n",
    "df_plot_pctO2 = pd.read_csv(path_exp_data+\"plot_figure1A_pctO2.csv\")\n",
    "# print(df_plot_pctO2)"
   ]
  },
  {
   "cell_type": "code",
   "execution_count": 25,
   "metadata": {},
   "outputs": [
    {
     "data": {
      "image/png": "[encoded data removed]",
      "text/plain": [
       "<Figure size 244x194.3 with 2 Axes>"
      ]
     },
     "metadata": {},
     "output_type": "display_data"
    }
   ],
   "source": [
    "# create figure 2D plot\n",
    "blues = plt.cm.get_cmap(\"Blues\", 10)\n",
    "fig, ax = plt.subplots(1, 1, figsize=(2.44, 1.943), sharey=True)\n",
    "ax2 = ax.twinx()\n",
    "ax.plot(df_plot_pO2[\"time_min\"], df_plot_pO2[\"media_0_pO2\"], color=\"gray\", linestyle=\"none\", marker=\"o\", markersize=\"1\", label=\"0 uL\")\n",
    "ax.plot(df_plot_pO2[\"time_min\"], df_plot_pO2[\"media_125_pO2\"], color=blues(3), linestyle=\"none\", marker=\"o\", markersize=\"0.75\", label=\"125 uL\")\n",
    "ax.plot(df_plot_pO2[\"time_min\"], df_plot_pO2[\"media_250_pO2\"], color=blues(4), linestyle=\"none\", marker=\"o\", markersize=\"0.75\", label=\"250 uL\")\n",
    "ax.plot(df_plot_pO2[\"time_min\"], df_plot_pO2[\"media_500_pO2\"], color=blues(5), linestyle=\"none\", marker=\"o\", markersize=\"0.75\", label=\"500 uL\")\n",
    "ax.plot(df_plot_pO2[\"time_min\"], df_plot_pO2[\"media_750_pO2\"], color=blues(7), linestyle=\"none\", marker=\"o\", markersize=\"0.75\", label=\"750 uL\")\n",
    "ax.plot(df_plot_pO2[\"time_min\"], df_plot_pO2[\"media_1000_pO2\"], color=blues(8), linestyle=\"none\", marker=\"o\", markersize=\"0.75\", label=\"1000 uL\")\n",
    "ax.plot(df_plot_pO2[\"time_min\"], df_plot_pO2[\"media_1500_pO2\"], color=blues(9), linestyle=\"none\", marker=\"o\", markersize=\"0.75\", label=\"1500 uL\")\n",
    "ax2.plot(df_plot_pctO2[\"time_min\"], df_plot_pctO2[\"pct_O2\"], color=\"k\", linestyle=\"-\", marker=\"o\", markersize=\"0.75\", label=\"Air\")\n",
    "ax.set_xlabel(\"Time (min)\")\n",
    "ax.set_xticks([0, 60, 120, 180, 240])\n",
    "ax.set_ylim([0, 150])\n",
    "ax.set_ylabel(\"pO2 at bottom of well (mmHg)\")\n",
    "ax.set_yticks([0, 50, 100, 150])\n",
    "ax.spines[['right']].set_visible(True)\n",
    "# ax.set_box_aspect(1)\n",
    "ax2.set_ylabel(\"% O2 in incubator\")\n",
    "ax2.set_yticks([0, 5, 10, 15, 20])\n",
    "ax2.set_ylim([0, 20])\n",
    "# plt.show()\n",
    "plt.savefig(path_plots+\"figure_1a.svg\")"
   ]
  },
  {
   "cell_type": "markdown",
   "metadata": {},
   "source": [
    "### Figure 1C statistical tests"
   ]
  },
  {
   "cell_type": "code",
   "execution_count": null,
   "metadata": {},
   "outputs": [],
   "source": [
    "df_all = pd.read_csv(path_exp_data+\"Exp03_main.csv\")\n",
    "# print(df_all)"
   ]
  },
  {
   "cell_type": "code",
   "execution_count": null,
   "metadata": {},
   "outputs": [],
   "source": [
    "### red fluorescent protein ###\n",
    "# select data for red only\n",
    "df_red = df_all[df_all[\"condition\"].str.contains(\"red\")]\n",
    "# print(df_red)\n",
    "# run t-tests\n",
    "red_comparisons = [\n",
    "    [\"red_normoxic\", \"red_hypoxic_ice\"], \n",
    "    [\"red_normoxic\", \"red_hypoxic_rt\"], \n",
    "    [\"red_normoxic\", \"red_hypoxic_ox_ice\"]\n",
    "]\n",
    "# t_test_df = run_corrected_t_tests(path_stats, \"figure1c_red\", \"rfu\", df_all, red_comparisons)\n",
    "# print(t_test_df)\n",
    "\n",
    "# run 1 way anova\n",
    "# anova_table = anova(path_stats, \"figure1c_red\", df_red, \"rfu\", \"condition\")\n",
    "# print(anova_table)\n",
    "# run tukey's hsd\n",
    "# tukeys_tables = tukeys_hsd(path_stats, \"figure1c_red\", \"rfu\", df_red, [\"condition\"])\n",
    "# for table in tukeys_tables:\n",
    "#     print(table)"
   ]
  },
  {
   "cell_type": "code",
   "execution_count": null,
   "metadata": {},
   "outputs": [],
   "source": [
    "### green fluorescent protein ###\n",
    "# select data for green only\n",
    "df_green = df_all[df_all[\"condition\"].str.contains(\"green\")]\n",
    "# run t-tests\n",
    "green_comparisons = [\n",
    "    [\"green_normoxic\", \"green_hypoxic_ice\"], \n",
    "    [\"green_normoxic\", \"green_hypoxic_rt\"], \n",
    "    [\"green_normoxic\", \"green_hypoxic_ox_ice\"]\n",
    "]\n",
    "# t_test_df = run_corrected_t_tests(path_stats, \"figure1c_green\", \"rfu\", df_all, green_comparisons)\n",
    "# print(t_test_df)\n",
    "\n",
    "# run 1 way anova\n",
    "# anova_table = anova(path_stats, \"figure1c_green\", df_green, \"rfu\", \"condition\")\n",
    "# print(anova_table)\n",
    "# run tukey's hsd\n",
    "tukeys_tables = tukeys_hsd(path_stats, \"figure1c_green\", \"rfu\", df_green, [\"condition\"])\n",
    "for table in tukeys_tables:\n",
    "    print(table)"
   ]
  },
  {
   "cell_type": "code",
   "execution_count": null,
   "metadata": {},
   "outputs": [],
   "source": [
    "### blue fluorescent protein ###\n",
    "# select data for green only\n",
    "df_blue = df_all[df_all[\"condition\"].str.contains(\"blue\")]\n",
    "# run t-tests\n",
    "blue_comparisons = [\n",
    "    [\"blue_normoxic\", \"blue_hypoxic_ice\"], \n",
    "    [\"blue_normoxic\", \"blue_hypoxic_rt\"], \n",
    "    [\"blue_normoxic\", \"blue_hypoxic_ox_ice\"]\n",
    "]\n",
    "# t_test_df = run_corrected_t_tests(path_stats, \"figure1c_blue\", \"rfu\", df_all, blue_comparisons)\n",
    "# print(t_test_df)\n",
    "\n",
    "# run 1 way anova\n",
    "# anova_table = anova(path_stats, \"figure1c_blue\", df_blue, \"rfu\", \"condition\")\n",
    "# print(anova_table)\n",
    "# run tukey's hsd\n",
    "tukeys_tables = tukeys_hsd(path_stats, \"figure1c_blue\", \"rfu\", df_blue, [\"condition\"])\n",
    "for table in tukeys_tables:\n",
    "    print(table)"
   ]
  },
  {
   "cell_type": "markdown",
   "metadata": {},
   "source": [
    "### Figure 1C plot"
   ]
  },
  {
   "cell_type": "code",
   "execution_count": 9,
   "metadata": {},
   "outputs": [],
   "source": [
    "df_data_plot = pd.read_csv(path_exp_data+\"plot_figure1C_supp_figure3.csv\")\n",
    "df_data_main = df_data_plot[~df_data_plot[\"condition\"].str.contains(\"f\")]\n",
    "# print(df_data_main)"
   ]
  },
  {
   "cell_type": "code",
   "execution_count": null,
   "metadata": {},
   "outputs": [],
   "source": [
    "# format data and labels for plotting\n",
    "conditions = df_data_main[\"condition\"].to_list()\n",
    "plot_xlabels = [conditions[i] for i in range(0, len(conditions), 3)]\n",
    "rfu = df_data_main[\"rfu\"].to_list()\n",
    "plot_rfu = [rfu[i:i + 3] for i in range(0, len(rfu), 3)]\n",
    "std_err = df_data_main[\"std_err\"].to_list()\n",
    "plot_std_err = [std_err[i:i + 3] for i in range(0, len(std_err), 3)]\n",
    "\n",
    "# create plot\n",
    "blue_ = [(i/255) for i in [0, 0, 154]]\n",
    "red_ = [(i/255) for i in [237, 28, 36]]\n",
    "green_ = [(i/255) for i in [0, 159, 53]]\n",
    "fig, ax = plt.subplots(1, 1, figsize=(2.25, 1.75))\n",
    "x_ticks = []\n",
    "for index, rfu_list in enumerate(plot_rfu[:4]):\n",
    "    ax.bar(index-0.3, rfu_list[2], width=0.25, color=blue_, align=\"center\", label=\"blue\")\n",
    "    (_, caps1, _) = ax.errorbar(index-0.3, rfu_list[2], plot_std_err[index][2], color=\"k\", capsize=1.5, elinewidth=0.5)\n",
    "    ax.bar(index, rfu_list[1], width=0.25, color=green_, align=\"center\", label=\"green\")\n",
    "    (_, caps2, _) = ax.errorbar(index, rfu_list[1], plot_std_err[index][1], color=\"k\", capsize=1.5, elinewidth=0.5)\n",
    "    ax.bar(index+0.3, rfu_list[0], width=0.25, color=red_, align=\"center\", label=\"red\")\n",
    "    (_, caps3, _) = ax.errorbar(index+0.3, rfu_list[0], plot_std_err[index][0], color=\"k\", capsize=1.5, elinewidth=0.5)\n",
    "    x_ticks.append(index)\n",
    "\n",
    "    for cap in caps1:\n",
    "        cap.set_markeredgewidth(0.5)\n",
    "    for cap in caps2:\n",
    "        cap.set_markeredgewidth(0.5)\n",
    "    for cap in caps3:\n",
    "        cap.set_markeredgewidth(0.5)\n",
    "    \n",
    "ax.axhline(y=1.0, color=\"grey\", linestyle=\"dotted\", linewidth=0.75)\n",
    "ax.set_ylabel(\"Fluorescence (relative to normoxic control)\")\n",
    "ax.set_xticks(x_ticks)\n",
    "ax.set_xticklabels(plot_xlabels[:4])\n",
    "\n",
    "# plt.show()\n",
    "plt.savefig(path_plots+\"figure_1c.svg\")"
   ]
  },
  {
   "cell_type": "markdown",
   "metadata": {},
   "source": [
    "### Figure 1D statistical tests"
   ]
  },
  {
   "cell_type": "code",
   "execution_count": 16,
   "metadata": {},
   "outputs": [],
   "source": [
    "df_data = pd.read_csv(path_exp_data+\"Exp04_pt1_dox_DsR.csv\")\n",
    "# print(df_data)"
   ]
  },
  {
   "cell_type": "code",
   "execution_count": 15,
   "metadata": {},
   "outputs": [],
   "source": [
    "# format df for t-test code\n",
    "# df_data[\"condition\"] = df_data[\"condition\"] + \"_\" + df_data[\"day\"].astype(str)\n",
    "# print(df_data)\n",
    "# comparisons = [\n",
    "#     [\"normoxia_0\", \"hypoxia_0\"],\n",
    "#     [\"normoxia_1\", \"hypoxia_1\"],\n",
    "#     [\"normoxia_2\", \"hypoxia_2\"],\n",
    "#     [\"normoxia_3\", \"hypoxia_3\"],\n",
    "#     [\"normoxia_4\", \"hypoxia_4\"],\n",
    "#     [\"normoxia_5\", \"hypoxia_5\"],\n",
    "#     [\"normoxia_dox_0\", \"hypoxia_dox_0\"],\n",
    "#     [\"normoxia_dox_1\", \"hypoxia_dox_1\"],\n",
    "#     [\"normoxia_dox_2\", \"hypoxia_dox_2\"],\n",
    "#     [\"normoxia_dox_3\", \"hypoxia_dox_3\"],\n",
    "#     [\"normoxia_dox_4\", \"hypoxia_dox_4\"],\n",
    "#     [\"normoxia_dox_5\", \"hypoxia_dox_5\"],\n",
    "# ]\n",
    "# t_test_df = run_corrected_t_tests(path_stats, \"figure1d\", \"meptrs\", df_data, comparisons)\n",
    "# print(t_test_df)\n",
    "\n",
    "# run 2-way repeated measures ANOVA\n",
    "# anova_rm_table = repeated_measures_anova(path_stats, \"figure1d\", df_data, \"meptrs\", \"day\", \"condition\")\n",
    "# print(anova_rm_table)\n",
    "\n",
    "# run tukey's hsd\n",
    "# tukeys_table_i, tukeys_tables = tukeys_hsd(path_stats, \"figure1d\", \"meptrs\", df_data, [\"condition\", \"day\"], [\"condition\",\"day\"]) \n",
    "# print(tukeys_table_i)\n",
    "# for table in tukeys_tables:\n",
    "#     print(table)\n"
   ]
  },
  {
   "cell_type": "markdown",
   "metadata": {},
   "source": [
    "### Figure 1D plot"
   ]
  },
  {
   "cell_type": "code",
   "execution_count": 3,
   "metadata": {},
   "outputs": [],
   "source": [
    "df_data_plot = pd.read_csv(path_exp_data+\"plot_figure1D.csv\")\n",
    "# print(df_data_plot)\n",
    "days = [0, 1, 2, 3, 4]"
   ]
  },
  {
   "cell_type": "code",
   "execution_count": 4,
   "metadata": {},
   "outputs": [],
   "source": [
    "# normoxia data\n",
    "meptrs_normoxia = df_data_plot[df_data_plot[\"condition\"] == \"normoxia\"][\"meptrs\"].to_list()\n",
    "meptrs_normoxia_scaled = [i/1E5 for i in meptrs_normoxia]\n",
    "std_err_normoxia = df_data_plot[df_data_plot[\"condition\"] == \"normoxia\"][\"std_err\"].to_list()\n",
    "std_err_normoxia_scaled = [i/1E5 for i in std_err_normoxia]"
   ]
  },
  {
   "cell_type": "code",
   "execution_count": 5,
   "metadata": {},
   "outputs": [],
   "source": [
    "# normoxia dox data\n",
    "meptrs_normoxia_dox = df_data_plot[df_data_plot[\"condition\"] == \"normoxia_dox\"][\"meptrs\"].to_list()\n",
    "meptrs_normoxia_dox_scaled = [i/1E5 for i in meptrs_normoxia_dox]\n",
    "std_err_normoxia_dox = df_data_plot[df_data_plot[\"condition\"] == \"normoxia_dox\"][\"std_err\"].to_list()\n",
    "std_err_normoxia_dox_scaled = [i/1E5 for i in std_err_normoxia_dox]"
   ]
  },
  {
   "cell_type": "code",
   "execution_count": 6,
   "metadata": {},
   "outputs": [],
   "source": [
    "# hypoxia data\n",
    "meptrs_hypoxia = df_data_plot[df_data_plot[\"condition\"] == \"hypoxia\"][\"meptrs\"].to_list()\n",
    "meptrs_hypoxia_scaled = [i/1E5 for i in meptrs_hypoxia]\n",
    "std_err_hypoxia = df_data_plot[df_data_plot[\"condition\"] == \"hypoxia\"][\"std_err\"].to_list()\n",
    "std_err_hypoxia_scaled = [i/1E5 for i in std_err_hypoxia]"
   ]
  },
  {
   "cell_type": "code",
   "execution_count": 7,
   "metadata": {},
   "outputs": [],
   "source": [
    "# hypoxia dox data\n",
    "meptrs_hypoxia_dox = df_data_plot[df_data_plot[\"condition\"] == \"hypoxia_dox\"][\"meptrs\"].to_list()\n",
    "meptrs_hypoxia_dox_scaled = [i/1E5 for i in meptrs_hypoxia_dox]\n",
    "std_err_hypoxia_dox = df_data_plot[df_data_plot[\"condition\"] == \"hypoxia_dox\"][\"std_err\"].to_list()\n",
    "std_err_hypoxia_dox_scaled = [i/1E5 for i in std_err_hypoxia_dox]"
   ]
  },
  {
   "cell_type": "code",
   "execution_count": 8,
   "metadata": {},
   "outputs": [
    {
     "data": {
      "image/png": "[encoded data removed]",
      "text/plain": [
       "<Figure size 275x200 with 1 Axes>"
      ]
     },
     "metadata": {},
     "output_type": "display_data"
    }
   ],
   "source": [
    "normoxia_gray = [(i/255) for i in [127, 127, 127]]\n",
    "\n",
    "normox_dox = [(i/255) for i in [158, 31, 99]]\n",
    "\n",
    "# create figure 1D plot\n",
    "fig, ax = plt.subplots(1, 1, figsize=(2.75, 2), sharey=True)\n",
    "(_, caps1, _) = ax.errorbar(days, meptrs_normoxia_scaled, std_err_normoxia_scaled, color=normoxia_gray, linestyle=\"-\", marker=\"o\", markersize=\"1.5\", ecolor=\"k\", capsize=1.5, elinewidth=0.5, label=\"normoxia\")\n",
    "(_, caps2, _) = ax.errorbar(days, meptrs_normoxia_dox_scaled, std_err_normoxia_dox_scaled, color=normox_dox, linestyle=\"-\", marker=\"o\", markersize=\"1.5\", ecolor=\"k\", capsize=1.5, elinewidth=0.5, label=\"normoxia_dox\")\n",
    "(_, caps3, _) = ax.errorbar(days, meptrs_hypoxia_scaled, std_err_hypoxia_scaled, color=\"mediumpurple\", linestyle=\"-\", marker=\"o\", markersize=\"1.5\", ecolor=\"k\", capsize=1.5, elinewidth=0.5, label=\"hypoxia\")\n",
    "(_, caps4, _) = ax.errorbar(days, meptrs_hypoxia_dox_scaled, std_err_hypoxia_dox_scaled, color=\"rebeccapurple\", linestyle=\"-\", marker=\"o\", markersize=\"1.5\", ecolor=\"k\", capsize=1.5, elinewidth=0.5, label=\"hypoxia_dox\")\n",
    "ax.set_xlabel(\"Days of treatment\")\n",
    "ax.set_xticks([0, 1, 2, 3, 4])\n",
    "ax.set_xlim(left=0)\n",
    "ax.set_ylabel(\"Mean reporter exp. \\n (x10^5 MEPTRs)\")\n",
    "ax.set_ylim([0, 90])\n",
    "# ax.set_box_aspect(1)\n",
    "\n",
    "for cap in caps1:\n",
    "    cap.set_markeredgewidth(0.5)\n",
    "for cap in caps2:\n",
    "    cap.set_markeredgewidth(0.5)\n",
    "for cap in caps3:\n",
    "    cap.set_markeredgewidth(0.5)\n",
    "for cap in caps4:\n",
    "    cap.set_markeredgewidth(0.5)\n",
    "# plt.show()\n",
    "plt.savefig(path_plots+\"figure_1d_test.svg\")"
   ]
  },
  {
   "cell_type": "markdown",
   "metadata": {},
   "source": [
    "## Supplementary Figure 3"
   ]
  },
  {
   "cell_type": "markdown",
   "metadata": {},
   "source": [
    "### Supplementary Figure 3 statistical tests"
   ]
  },
  {
   "cell_type": "code",
   "execution_count": null,
   "metadata": {},
   "outputs": [],
   "source": [
    "df_all = pd.read_csv(path_exp_data+\"Exp03_supplement.csv\")\n",
    "# print(df_all)"
   ]
  },
  {
   "cell_type": "code",
   "execution_count": null,
   "metadata": {},
   "outputs": [],
   "source": [
    "### red fluorescent protein ###\n",
    "# select data for red only\n",
    "df_red = df_all[df_all[\"condition\"].str.contains(\"red\")]\n",
    "# print(df_red)\n",
    "# run 1 way anova\n",
    "# anova_table = anova(path_stats, \"supp_figure3_red\", df_red, \"rfu\", \"condition\")\n",
    "# print(anova_table)\n",
    "# run tukey's hsd\n",
    "tukeys_tables = tukeys_hsd(path_stats, \"supp_figure3_red\", \"rfu\", df_red, [\"condition\"])\n",
    "for table in tukeys_tables:\n",
    "    print(table)"
   ]
  },
  {
   "cell_type": "code",
   "execution_count": null,
   "metadata": {},
   "outputs": [],
   "source": [
    "### green fluorescent protein ###\n",
    "# select data for red only\n",
    "df_green = df_all[df_all[\"condition\"].str.contains(\"green\")]\n",
    "# run 1 way anova\n",
    "# anova_table = anova(path_stats, \"supp_figure3_green\", df_green, \"rfu\", \"condition\")\n",
    "# print(anova_table)\n",
    "# run tukey's hsd\n",
    "tukeys_tables = tukeys_hsd(path_stats, \"supp_figure3_green\", \"rfu\", df_green, [\"condition\"])\n",
    "for table in tukeys_tables:\n",
    "    print(table)"
   ]
  },
  {
   "cell_type": "code",
   "execution_count": null,
   "metadata": {},
   "outputs": [],
   "source": [
    "### blue fluorescent protein ###\n",
    "# select data for red only\n",
    "df_blue = df_all[df_all[\"condition\"].str.contains(\"blue\")]\n",
    "# run 1 way anova\n",
    "# anova_table = anova(path_stats, \"supp_figure3_blue\", df_blue, \"rfu\", \"condition\")\n",
    "# print(anova_table)\n",
    "# run tukey's hsd\n",
    "tukeys_tables = tukeys_hsd(path_stats, \"supp_figure3_blue\", \"rfu\", df_blue, [\"condition\"])\n",
    "for table in tukeys_tables:\n",
    "    print(table)"
   ]
  },
  {
   "cell_type": "markdown",
   "metadata": {},
   "source": [
    "### Supplementary Figure 3 plot"
   ]
  },
  {
   "cell_type": "code",
   "execution_count": null,
   "metadata": {},
   "outputs": [],
   "source": [
    "conditions = df_data_plot[\"condition\"].to_list()\n",
    "plot_xlabels = [conditions[i] for i in range(0, len(conditions), 3)]\n",
    "rfu = df_data_plot[\"rfu\"].to_list()\n",
    "plot_rfu = [rfu[i:i + 3] for i in range(0, len(rfu), 3)]\n",
    "std_err = df_data_plot[\"std_err\"].to_list()\n",
    "plot_std_err = [std_err[i:i + 3] for i in range(0, len(std_err), 3)]\n",
    "\n",
    "# create plot\n",
    "fig, ax = plt.subplots(1, 1, figsize=(7, 2.5))\n",
    "x_ticks = []\n",
    "for index, rfu_list in enumerate(plot_rfu):\n",
    "    ax.bar(index-0.3, rfu_list[2], width=0.2, color=\"blue\", align=\"center\", label=\"blue\")\n",
    "    ax.errorbar(index-0.3, rfu_list[2], plot_std_err[index][2], color=\"k\", capsize=2, elinewidth=0.5)\n",
    "    ax.bar(index, rfu_list[1], width=0.2, color=\"green\", align=\"center\", label=\"green\")\n",
    "    ax.errorbar(index, rfu_list[1], plot_std_err[index][1], color=\"k\", capsize=2, elinewidth=0.5)\n",
    "    ax.bar(index+0.3, rfu_list[0], width=0.2, color=\"red\", align=\"center\", label=\"red\")\n",
    "    ax.errorbar(index+0.3, rfu_list[0], plot_std_err[index][0], color=\"k\", capsize=2, elinewidth=0.5)\n",
    "    x_ticks.append(index)\n",
    "ax.axhline(y=1.0, color=\"grey\", linestyle=\"dotted\", linewidth=1.5)\n",
    "ax.set_ylabel(\"Relative Fluorescence\")\n",
    "ax.set_yticks([0, 0.2, 0.4, 0.6, 0.8, 1.0, 1.2])\n",
    "ax.set_xticks(x_ticks)\n",
    "ax.set_xlim([x_ticks[0]-0.8, x_ticks[-1]+0.75])\n",
    "ax.set_xticklabels(plot_xlabels)\n",
    "ax.tick_params(axis='x', which='major', labelsize=6)\n",
    "# plt.show()\n",
    "plt.savefig(path_plots+\"supp_figure_3.svg\")"
   ]
  },
  {
   "cell_type": "markdown",
   "metadata": {},
   "source": [
    "## Figure 2"
   ]
  },
  {
   "cell_type": "markdown",
   "metadata": {},
   "source": [
    "### Figure 2D-2E statistical tests"
   ]
  },
  {
   "cell_type": "code",
   "execution_count": null,
   "metadata": {},
   "outputs": [],
   "source": [
    "df = pd.read_csv(path_exp_data+\"Exp05_pt1.csv\")\n",
    "print(df)\n",
    "\n",
    "# run t-tests\n",
    "comparisons = [\n",
    "    [\"cobalt_0\", \"cobalt_3\"], \n",
    "    [\"cobalt_0\", \"cobalt_15\"], \n",
    "    [\"cobalt_0\", \"cobalt_30\"],\n",
    "    [\"cobalt_0\", \"cobalt_150\"],\n",
    "    [\"cobalt_0\", \"cobalt_300\"],\n",
    "    [\"cobalt_0\", \"cobalt_600\"]\n",
    "]\n",
    "t_test_df = run_corrected_t_tests(path_stats, \"figure2d-e\", \"meptrs\", df, comparisons)\n",
    "print(t_test_df)"
   ]
  },
  {
   "cell_type": "markdown",
   "metadata": {},
   "source": [
    "### Figure 2D plot"
   ]
  },
  {
   "cell_type": "code",
   "execution_count": 15,
   "metadata": {},
   "outputs": [
    {
     "data": {
      "image/png": "[encoded data removed]",
      "text/plain": [
       "<Figure size 225x200 with 1 Axes>"
      ]
     },
     "metadata": {},
     "output_type": "display_data"
    }
   ],
   "source": [
    "df_data_plot = pd.read_csv(path_exp_data+\"plot_figure2D-E.csv\")\n",
    "# print(df_data_plot)\n",
    "cobalt_doses = df_data_plot[\"cobalt_dose\"].to_list()\n",
    "meptrs = df_data_plot[\"meptrs\"].to_list()\n",
    "meptrs_scaled = [i/1E5 for i in meptrs]\n",
    "std_err = df_data_plot[\"std_err\"].to_list()\n",
    "std_err_scaled = [i/1E5 for i in std_err]\n",
    "pink_ = [(i/255) for i in [233, 140, 194]]\n",
    "\n",
    "# create figure 2D plot\n",
    "fig, ax = plt.subplots(1, 1, figsize=(2.25, 2))\n",
    "(_, caps, _) = ax.errorbar(cobalt_doses, meptrs_scaled, std_err_scaled, color=pink_, linestyle=\"-\", marker=\"o\", markersize=\"2\", ecolor=\"k\", capsize=1.5, elinewidth=0.5)\n",
    "ax.set_xscale('symlog', subs=[2, 3, 4, 5, 6, 7, 8, 9])\n",
    "ax.set_xlim([0,1000])\n",
    "ax.set_ylim([0, 0.4])\n",
    "ax.set_yticks([0, 0.1, 0.2, 0.3, 0.4])\n",
    "ax.xaxis.set_major_formatter(ScalarFormatter())\n",
    "ax.set_xlabel(\"CoCl2 dose (uM)\")\n",
    "ax.set_ylabel(\"Mean exp. (x10^5 MEPTRs)\")\n",
    "# ax.minorticks_on()\n",
    "ax.tick_params(axis='x', which='minor')\n",
    "ax.set_box_aspect(1)\n",
    "\n",
    "for cap in caps:\n",
    "    cap.set_markeredgewidth(0.5)\n",
    "\n",
    "# plt.show()\n",
    "plt.savefig(path_plots+\"figure_2d_test.svg\")"
   ]
  },
  {
   "cell_type": "markdown",
   "metadata": {},
   "source": [
    "### Figure 2G statistical tests"
   ]
  },
  {
   "cell_type": "code",
   "execution_count": 49,
   "metadata": {},
   "outputs": [
    {
     "name": "stdout",
     "output_type": "stream",
     "text": [
      "    condition       bin  replicate        meptrs       fold\n",
      "0   untreated  unsorted          1   2349.969686   1.000000\n",
      "1   untreated  unsorted          2   1634.309413   1.000000\n",
      "2   untreated  unsorted          3   1492.750238   1.000000\n",
      "3   untreated         1          1    158.704570   1.000000\n",
      "4   untreated         1          2     56.705694   1.000000\n",
      "..        ...       ...        ...           ...        ...\n",
      "61     cobalt         9          2  49436.365690  14.123401\n",
      "62     cobalt         9          3  47576.401900  13.592031\n",
      "63     cobalt        10          1  93382.411580  16.882277\n",
      "64     cobalt        10          2  74709.007230  13.506378\n",
      "65     cobalt        10          3  67459.156840  12.195703\n",
      "\n",
      "[66 rows x 5 columns]\n",
      "                       df        sum_sq       mean_sq           F  \\\n",
      "C(condition)          1.0  1.308840e+10  1.308840e+10  569.915848   \n",
      "C(bin)               10.0  8.579754e+09  8.579754e+08   37.359335   \n",
      "C(condition):C(bin)  10.0  6.459139e+09  6.459139e+08   28.125414   \n",
      "Residual             44.0  1.010481e+09  2.296549e+07         NaN   \n",
      "\n",
      "                           PR(>F)  \n",
      "C(condition)         8.142049e-27  \n",
      "C(bin)               3.087015e-18  \n",
      "C(condition):C(bin)  6.623506e-16  \n",
      "Residual                      NaN  \n",
      "                                Multiple Comparison of Means - Tukey HSD, FWER=0.05                                 \n",
      "====================================================================================================================\n",
      "             group1                           group2                 meandiff  p-adj     lower       upper    reject\n",
      "--------------------------------------------------------------------------------------------------------------------\n",
      "       condition_cobalt & bin_1          condition_cobalt & bin_10  76457.9353    0.0  61499.8006  91416.0699   True\n",
      "       condition_cobalt & bin_1           condition_cobalt & bin_2   4936.6012 0.9995 -10021.5335  19894.7359  False\n",
      "       condition_cobalt & bin_1           condition_cobalt & bin_3  10912.8895 0.4346  -4045.2452  25871.0242  False\n",
      "       condition_cobalt & bin_1           condition_cobalt & bin_4   15433.756 0.0364    475.6213  30391.8907   True\n",
      "       condition_cobalt & bin_1           condition_cobalt & bin_5  20328.3839 0.0009   5370.2492  35286.5186   True\n",
      "       condition_cobalt & bin_1           condition_cobalt & bin_6  25048.9444    0.0  10090.8097  40007.0791   True\n",
      "       condition_cobalt & bin_1           condition_cobalt & bin_7  33335.3761    0.0  18377.2414  48293.5108   True\n",
      "       condition_cobalt & bin_1           condition_cobalt & bin_8  39377.5472    0.0  24419.4125  54335.6818   True\n",
      "       condition_cobalt & bin_1           condition_cobalt & bin_9   53460.767    0.0  38502.6323  68418.9016   True\n",
      "       condition_cobalt & bin_1    condition_cobalt & bin_unsorted  27954.5054    0.0  12996.3708  42912.6401   True\n",
      "       condition_cobalt & bin_1        condition_untreated & bin_1  -1981.1275    1.0 -16939.2622  12977.0071  False\n",
      "       condition_cobalt & bin_1       condition_untreated & bin_10   3472.4639    1.0 -11485.6708  18430.5986  False\n",
      "       condition_cobalt & bin_1        condition_untreated & bin_2  -1738.0834    1.0  -16696.218  13220.0513  False\n",
      "       condition_cobalt & bin_1        condition_untreated & bin_3  -1446.6729    1.0 -16404.8076  13511.4617  False\n",
      "       condition_cobalt & bin_1        condition_untreated & bin_4  -1223.0231    1.0 -16181.1578  13735.1115  False\n",
      "       condition_cobalt & bin_1        condition_untreated & bin_5   -852.0971    1.0 -15810.2317  14106.0376  False\n",
      "       condition_cobalt & bin_1        condition_untreated & bin_6    -389.009    1.0 -15347.1437  14569.1256  False\n",
      "       condition_cobalt & bin_1        condition_untreated & bin_7   -148.4841    1.0 -15106.6187  14809.6506  False\n",
      "       condition_cobalt & bin_1        condition_untreated & bin_8    535.6717    1.0 -14422.4629  15493.8064  False\n",
      "       condition_cobalt & bin_1        condition_untreated & bin_9   1441.3927    1.0  -13516.742  16399.5273  False\n",
      "       condition_cobalt & bin_1 condition_untreated & bin_unsorted   -233.2468    1.0 -15191.3815  14724.8878  False\n",
      "      condition_cobalt & bin_10           condition_cobalt & bin_2 -71521.3341    0.0 -86479.4687 -56563.1994   True\n",
      "      condition_cobalt & bin_10           condition_cobalt & bin_3 -65545.0458    0.0 -80503.1804 -50586.9111   True\n",
      "      condition_cobalt & bin_10           condition_cobalt & bin_4 -61024.1793    0.0 -75982.3139 -46066.0446   True\n",
      "      condition_cobalt & bin_10           condition_cobalt & bin_5 -56129.5514    0.0  -71087.686 -41171.4167   True\n",
      "      condition_cobalt & bin_10           condition_cobalt & bin_6 -51408.9909    0.0 -66367.1255 -36450.8562   True\n",
      "      condition_cobalt & bin_10           condition_cobalt & bin_7 -43122.5592    0.0 -58080.6939 -28164.4245   True\n",
      "      condition_cobalt & bin_10           condition_cobalt & bin_8 -37080.3881    0.0 -52038.5228 -22122.2535   True\n",
      "      condition_cobalt & bin_10           condition_cobalt & bin_9 -22997.1683 0.0001  -37955.303  -8039.0337   True\n",
      "      condition_cobalt & bin_10    condition_cobalt & bin_unsorted -48503.4299    0.0 -63461.5645 -33545.2952   True\n",
      "      condition_cobalt & bin_10        condition_untreated & bin_1 -78439.0628    0.0 -93397.1975 -63480.9282   True\n",
      "      condition_cobalt & bin_10       condition_untreated & bin_10 -72985.4714    0.0  -87943.606 -58027.3367   True\n",
      "      condition_cobalt & bin_10        condition_untreated & bin_2 -78196.0186    0.0 -93154.1533  -63237.884   True\n",
      "      condition_cobalt & bin_10        condition_untreated & bin_3 -77904.6082    0.0 -92862.7429 -62946.4736   True\n",
      "      condition_cobalt & bin_10        condition_untreated & bin_4 -77680.9584    0.0 -92639.0931 -62722.8238   True\n",
      "      condition_cobalt & bin_10        condition_untreated & bin_5 -77310.0323    0.0  -92268.167 -62351.8977   True\n",
      "      condition_cobalt & bin_10        condition_untreated & bin_6 -76846.9443    0.0  -91805.079 -61888.8097   True\n",
      "      condition_cobalt & bin_10        condition_untreated & bin_7 -76606.4194    0.0  -91564.554 -61648.2847   True\n",
      "      condition_cobalt & bin_10        condition_untreated & bin_8 -75922.2635    0.0 -90880.3982 -60964.1289   True\n",
      "      condition_cobalt & bin_10        condition_untreated & bin_9 -75016.5426    0.0 -89974.6773 -60058.4079   True\n",
      "      condition_cobalt & bin_10 condition_untreated & bin_unsorted -76691.1821    0.0 -91649.3168 -61733.0474   True\n",
      "       condition_cobalt & bin_2           condition_cobalt & bin_3   5976.2883 0.9938  -8981.8464   20934.423  False\n",
      "       condition_cobalt & bin_2           condition_cobalt & bin_4  10497.1548 0.5058  -4460.9799  25455.2895  False\n",
      "       condition_cobalt & bin_2           condition_cobalt & bin_5  15391.7827 0.0375     433.648  30349.9174   True\n",
      "       condition_cobalt & bin_2           condition_cobalt & bin_6  20112.3432 0.0011   5154.2086  35070.4779   True\n",
      "       condition_cobalt & bin_2           condition_cobalt & bin_7  28398.7749    0.0  13440.6402  43356.9096   True\n",
      "       condition_cobalt & bin_2           condition_cobalt & bin_8   34440.946    0.0  19482.8113  49399.0806   True\n",
      "       condition_cobalt & bin_2           condition_cobalt & bin_9  48524.1658    0.0  33566.0311  63482.3004   True\n",
      "       condition_cobalt & bin_2    condition_cobalt & bin_unsorted  23017.9042 0.0001   8059.7696  37976.0389   True\n",
      "       condition_cobalt & bin_2        condition_untreated & bin_1  -6917.7287 0.9698 -21875.8634   8040.4059  False\n",
      "       condition_cobalt & bin_2       condition_untreated & bin_10  -1464.1373    1.0  -16422.272  13493.9974  False\n",
      "       condition_cobalt & bin_2        condition_untreated & bin_2  -6674.6846 0.9789 -21632.8192   8283.4501  False\n",
      "       condition_cobalt & bin_2        condition_untreated & bin_3  -6383.2741 0.9868 -21341.4088   8574.8605  False\n",
      "       condition_cobalt & bin_2        condition_untreated & bin_4  -6159.6243 0.9912  -21117.759   8798.5103  False\n",
      "       condition_cobalt & bin_2        condition_untreated & bin_5  -5788.6983 0.9957 -20746.8329   9169.4364  False\n",
      "       condition_cobalt & bin_2        condition_untreated & bin_6  -5325.6102 0.9985 -20283.7449   9632.5244  False\n",
      "       condition_cobalt & bin_2        condition_untreated & bin_7  -5085.0853 0.9992 -20043.2199   9873.0494  False\n",
      "       condition_cobalt & bin_2        condition_untreated & bin_8  -4400.9295 0.9999 -19359.0641  10557.2052  False\n",
      "       condition_cobalt & bin_2        condition_untreated & bin_9  -3495.2085    1.0 -18453.3432  11462.9261  False\n",
      "       condition_cobalt & bin_2 condition_untreated & bin_unsorted   -5169.848  0.999 -20127.9827   9788.2866  False\n",
      "       condition_cobalt & bin_3           condition_cobalt & bin_4   4520.8665 0.9999 -10437.2682  19479.0012  False\n",
      "       condition_cobalt & bin_3           condition_cobalt & bin_5   9415.4944 0.6956  -5542.6403  24373.6291  False\n",
      "       condition_cobalt & bin_3           condition_cobalt & bin_6  14136.0549 0.0843   -822.0798  29094.1896  False\n",
      "       condition_cobalt & bin_3           condition_cobalt & bin_7  22422.4866 0.0002   7464.3519  37380.6212   True\n",
      "       condition_cobalt & bin_3           condition_cobalt & bin_8  28464.6577    0.0   13506.523  43422.7923   True\n",
      "       condition_cobalt & bin_3           condition_cobalt & bin_9  42547.8775    0.0  27589.7428  57506.0121   True\n",
      "       condition_cobalt & bin_3    condition_cobalt & bin_unsorted  17041.6159 0.0117   2083.4813  31999.7506   True\n",
      "       condition_cobalt & bin_3        condition_untreated & bin_1  -12894.017  0.173 -27852.1517   2064.1176  False\n",
      "       condition_cobalt & bin_3       condition_untreated & bin_10  -7440.4256 0.9409 -22398.5603   7517.7091  False\n",
      "       condition_cobalt & bin_3        condition_untreated & bin_2 -12650.9729 0.1968 -27609.1075   2307.1618  False\n",
      "       condition_cobalt & bin_3        condition_untreated & bin_3 -12359.5624 0.2285 -27317.6971   2598.5722  False\n",
      "       condition_cobalt & bin_3        condition_untreated & bin_4 -12135.9126 0.2551 -27094.0473    2822.222  False\n",
      "       condition_cobalt & bin_3        condition_untreated & bin_5 -11764.9866 0.3037 -26723.1212   3193.1481  False\n",
      "       condition_cobalt & bin_3        condition_untreated & bin_6 -11301.8985 0.3719 -26260.0332   3656.2361  False\n",
      "       condition_cobalt & bin_3        condition_untreated & bin_7 -11061.3736 0.4101 -26019.5082   3896.7611  False\n",
      "       condition_cobalt & bin_3        condition_untreated & bin_8 -10377.2178 0.5269 -25335.3524   4580.9169  False\n",
      "       condition_cobalt & bin_3        condition_untreated & bin_9  -9471.4968 0.6861 -24429.6315   5486.6378  False\n",
      "       condition_cobalt & bin_3 condition_untreated & bin_unsorted -11146.1363 0.3964  -26104.271   3811.9983  False\n",
      "       condition_cobalt & bin_4           condition_cobalt & bin_5   4894.6279 0.9995 -10063.5068  19852.7626  False\n",
      "       condition_cobalt & bin_4           condition_cobalt & bin_6   9615.1884 0.6614  -5342.9463  24573.3231  False\n",
      "       condition_cobalt & bin_4           condition_cobalt & bin_7  17901.6201 0.0061   2943.4854  32859.7547   True\n",
      "       condition_cobalt & bin_4           condition_cobalt & bin_8  23943.7912    0.0   8985.6565  38901.9258   True\n",
      "       condition_cobalt & bin_4           condition_cobalt & bin_9   38027.011    0.0  23068.8763  52985.1456   True\n",
      "       condition_cobalt & bin_4    condition_cobalt & bin_unsorted  12520.7494 0.2105  -2437.3852  27478.8841  False\n",
      "       condition_cobalt & bin_4        condition_untreated & bin_1 -17414.8835 0.0088 -32373.0182  -2456.7489   True\n",
      "       condition_cobalt & bin_4       condition_untreated & bin_10 -11961.2921 0.2773 -26919.4268   2996.8426  False\n",
      "       condition_cobalt & bin_4        condition_untreated & bin_2 -17171.8394 0.0106  -32129.974  -2213.7047   True\n",
      "       condition_cobalt & bin_4        condition_untreated & bin_3 -16880.4289 0.0131 -31838.5636  -1922.2943   True\n",
      "       condition_cobalt & bin_4        condition_untreated & bin_4 -16656.7791 0.0154 -31614.9138  -1698.6445   True\n",
      "       condition_cobalt & bin_4        condition_untreated & bin_5 -16285.8531 0.0201 -31243.9877  -1327.7184   True\n",
      "       condition_cobalt & bin_4        condition_untreated & bin_6  -15822.765 0.0279 -30780.8997   -864.6304   True\n",
      "       condition_cobalt & bin_4        condition_untreated & bin_7 -15582.2401 0.0329 -30540.3747   -624.1054   True\n",
      "       condition_cobalt & bin_4        condition_untreated & bin_8 -14898.0843  0.052 -29856.2189     60.0504  False\n",
      "       condition_cobalt & bin_4        condition_untreated & bin_9 -13992.3633 0.0921  -28950.498    965.7713  False\n",
      "       condition_cobalt & bin_4 condition_untreated & bin_unsorted -15667.0028 0.0311 -30625.1375   -708.8682   True\n",
      "       condition_cobalt & bin_5           condition_cobalt & bin_6   4720.5605 0.9997 -10237.5742  19678.6952  False\n",
      "       condition_cobalt & bin_5           condition_cobalt & bin_7  13006.9922 0.1627  -1951.1425  27965.1268  False\n",
      "       condition_cobalt & bin_5           condition_cobalt & bin_8  19049.1633 0.0025   4091.0286  34007.2979   True\n",
      "       condition_cobalt & bin_5           condition_cobalt & bin_9   33132.383    0.0  18174.2484  48090.5177   True\n",
      "       condition_cobalt & bin_5    condition_cobalt & bin_unsorted   7626.1215  0.927  -7332.0131  22584.2562  False\n",
      "       condition_cobalt & bin_5        condition_untreated & bin_1 -22309.5114 0.0002 -37267.6461  -7351.3768   True\n",
      "       condition_cobalt & bin_5       condition_untreated & bin_10   -16855.92 0.0134 -31814.0547  -1897.7853   True\n",
      "       condition_cobalt & bin_5        condition_untreated & bin_2 -22066.4673 0.0002 -37024.6019  -7108.3326   True\n",
      "       condition_cobalt & bin_5        condition_untreated & bin_3 -21775.0568 0.0003 -36733.1915  -6816.9222   True\n",
      "       condition_cobalt & bin_5        condition_untreated & bin_4  -21551.407 0.0003 -36509.5417  -6593.2724   True\n",
      "       condition_cobalt & bin_5        condition_untreated & bin_5  -21180.481 0.0005 -36138.6156  -6222.3463   True\n",
      "       condition_cobalt & bin_5        condition_untreated & bin_6 -20717.3929 0.0007 -35675.5276  -5759.2583   True\n",
      "       condition_cobalt & bin_5        condition_untreated & bin_7  -20476.868 0.0008 -35435.0026  -5518.7333   True\n",
      "       condition_cobalt & bin_5        condition_untreated & bin_8 -19792.7122 0.0014 -34750.8468  -4834.5775   True\n",
      "       condition_cobalt & bin_5        condition_untreated & bin_9 -18886.9912 0.0029 -33845.1259  -3928.8566   True\n",
      "       condition_cobalt & bin_5 condition_untreated & bin_unsorted -20561.6307 0.0007 -35519.7654  -5603.4961   True\n",
      "       condition_cobalt & bin_6           condition_cobalt & bin_7   8286.4317 0.8614   -6671.703  23244.5663  False\n",
      "       condition_cobalt & bin_6           condition_cobalt & bin_8  14328.6028 0.0748   -629.5319  29286.7374  False\n",
      "       condition_cobalt & bin_6           condition_cobalt & bin_9  28411.8225    0.0  13453.6879  43369.9572   True\n",
      "       condition_cobalt & bin_6    condition_cobalt & bin_unsorted    2905.561    1.0 -12052.5736  17863.6957  False\n",
      "       condition_cobalt & bin_6        condition_untreated & bin_1 -27030.0719    0.0 -41988.2066 -12071.9373   True\n",
      "       condition_cobalt & bin_6       condition_untreated & bin_10 -21576.4805 0.0003 -36534.6152  -6618.3458   True\n",
      "       condition_cobalt & bin_6        condition_untreated & bin_2 -26787.0278    0.0 -41745.1624 -11828.8931   True\n",
      "       condition_cobalt & bin_6        condition_untreated & bin_3 -26495.6173    0.0  -41453.752 -11537.4827   True\n",
      "       condition_cobalt & bin_6        condition_untreated & bin_4 -26271.9675    0.0 -41230.1022 -11313.8329   True\n",
      "       condition_cobalt & bin_6        condition_untreated & bin_5 -25901.0415    0.0 -40859.1761 -10942.9068   True\n",
      "       condition_cobalt & bin_6        condition_untreated & bin_6 -25437.9534    0.0 -40396.0881 -10479.8188   True\n",
      "       condition_cobalt & bin_6        condition_untreated & bin_7 -25197.4285    0.0 -40155.5631 -10239.2938   True\n",
      "       condition_cobalt & bin_6        condition_untreated & bin_8 -24513.2727    0.0 -39471.4073   -9555.138   True\n",
      "       condition_cobalt & bin_6        condition_untreated & bin_9 -23607.5517 0.0001 -38565.6864  -8649.4171   True\n",
      "       condition_cobalt & bin_6 condition_untreated & bin_unsorted -25282.1912    0.0 -40240.3259 -10324.0566   True\n",
      "       condition_cobalt & bin_7           condition_cobalt & bin_8   6042.1711 0.9929  -8915.9636  21000.3057  False\n",
      "       condition_cobalt & bin_7           condition_cobalt & bin_9  20125.3909 0.0011   5167.2562  35083.5255   True\n",
      "       condition_cobalt & bin_7    condition_cobalt & bin_unsorted  -5380.8707 0.9983 -20339.0053    9577.264  False\n",
      "       condition_cobalt & bin_7        condition_untreated & bin_1 -35316.5036    0.0 -50274.6383  -20358.369   True\n",
      "       condition_cobalt & bin_7       condition_untreated & bin_10 -29862.9122    0.0 -44821.0468 -14904.7775   True\n",
      "       condition_cobalt & bin_7        condition_untreated & bin_2 -35073.4594    0.0 -50031.5941 -20115.3248   True\n",
      "       condition_cobalt & bin_7        condition_untreated & bin_3  -34782.049    0.0 -49740.1837 -19823.9144   True\n",
      "       condition_cobalt & bin_7        condition_untreated & bin_4 -34558.3992    0.0 -49516.5339 -19600.2646   True\n",
      "       condition_cobalt & bin_7        condition_untreated & bin_5 -34187.4732    0.0 -49145.6078 -19229.3385   True\n",
      "       condition_cobalt & bin_7        condition_untreated & bin_6 -33724.3851    0.0 -48682.5198 -18766.2505   True\n",
      "       condition_cobalt & bin_7        condition_untreated & bin_7 -33483.8602    0.0 -48441.9948 -18525.7255   True\n",
      "       condition_cobalt & bin_7        condition_untreated & bin_8 -32799.7044    0.0  -47757.839 -17841.5697   True\n",
      "       condition_cobalt & bin_7        condition_untreated & bin_9 -31893.9834    0.0 -46852.1181 -16935.8488   True\n",
      "       condition_cobalt & bin_7 condition_untreated & bin_unsorted -33568.6229    0.0 -48526.7576 -18610.4883   True\n",
      "       condition_cobalt & bin_8           condition_cobalt & bin_9  14083.2198 0.0871   -874.9149  29041.3545  False\n",
      "       condition_cobalt & bin_8    condition_cobalt & bin_unsorted -11423.0417 0.3533 -26381.1764   3535.0929  False\n",
      "       condition_cobalt & bin_8        condition_untreated & bin_1 -41358.6747    0.0 -56316.8093   -26400.54   True\n",
      "       condition_cobalt & bin_8       condition_untreated & bin_10 -35905.0833    0.0 -50863.2179 -20946.9486   True\n",
      "       condition_cobalt & bin_8        condition_untreated & bin_2 -41115.6305    0.0 -56073.7652 -26157.4959   True\n",
      "       condition_cobalt & bin_8        condition_untreated & bin_3 -40824.2201    0.0 -55782.3547 -25866.0854   True\n",
      "       condition_cobalt & bin_8        condition_untreated & bin_4 -40600.5703    0.0  -55558.705 -25642.4356   True\n",
      "       condition_cobalt & bin_8        condition_untreated & bin_5 -40229.6442    0.0 -55187.7789 -25271.5096   True\n",
      "       condition_cobalt & bin_8        condition_untreated & bin_6 -39766.5562    0.0 -54724.6908 -24808.4215   True\n",
      "       condition_cobalt & bin_8        condition_untreated & bin_7 -39526.0312    0.0 -54484.1659 -24567.8966   True\n",
      "       condition_cobalt & bin_8        condition_untreated & bin_8 -38841.8754    0.0 -53800.0101 -23883.7408   True\n",
      "       condition_cobalt & bin_8        condition_untreated & bin_9 -37936.1545    0.0 -52894.2891 -22978.0198   True\n",
      "       condition_cobalt & bin_8 condition_untreated & bin_unsorted  -39610.794    0.0 -54568.9286 -24652.6593   True\n",
      "       condition_cobalt & bin_9    condition_cobalt & bin_unsorted -25506.2615    0.0 -40464.3962 -10548.1269   True\n",
      "       condition_cobalt & bin_9        condition_untreated & bin_1 -55441.8945    0.0 -70400.0291 -40483.7598   True\n",
      "       condition_cobalt & bin_9       condition_untreated & bin_10 -49988.3031    0.0 -64946.4377 -35030.1684   True\n",
      "       condition_cobalt & bin_9        condition_untreated & bin_2 -55198.8503    0.0  -70156.985 -40240.7157   True\n",
      "       condition_cobalt & bin_9        condition_untreated & bin_3 -54907.4399    0.0 -69865.5745 -39949.3052   True\n",
      "       condition_cobalt & bin_9        condition_untreated & bin_4 -54683.7901    0.0 -69641.9248 -39725.6554   True\n",
      "       condition_cobalt & bin_9        condition_untreated & bin_5  -54312.864    0.0 -69270.9987 -39354.7294   True\n",
      "       condition_cobalt & bin_9        condition_untreated & bin_6  -53849.776    0.0 -68807.9106 -38891.6413   True\n",
      "       condition_cobalt & bin_9        condition_untreated & bin_7  -53609.251    0.0 -68567.3857 -38651.1164   True\n",
      "       condition_cobalt & bin_9        condition_untreated & bin_8 -52925.0952    0.0 -67883.2299 -37966.9606   True\n",
      "       condition_cobalt & bin_9        condition_untreated & bin_9 -52019.3743    0.0 -66977.5089 -37061.2396   True\n",
      "       condition_cobalt & bin_9 condition_untreated & bin_unsorted -53694.0138    0.0 -68652.1484 -38735.8791   True\n",
      "condition_cobalt & bin_unsorted        condition_untreated & bin_1  -29935.633    0.0 -44893.7676 -14977.4983   True\n",
      "condition_cobalt & bin_unsorted       condition_untreated & bin_10 -24482.0415    0.0 -39440.1762  -9523.9069   True\n",
      "condition_cobalt & bin_unsorted        condition_untreated & bin_2 -29692.5888    0.0 -44650.7234 -14734.4541   True\n",
      "condition_cobalt & bin_unsorted        condition_untreated & bin_3 -29401.1784    0.0  -44359.313 -14443.0437   True\n",
      "condition_cobalt & bin_unsorted        condition_untreated & bin_4 -29177.5286    0.0 -44135.6632 -14219.3939   True\n",
      "condition_cobalt & bin_unsorted        condition_untreated & bin_5 -28806.6025    0.0 -43764.7372 -13848.4678   True\n",
      "condition_cobalt & bin_unsorted        condition_untreated & bin_6 -28343.5145    0.0 -43301.6491 -13385.3798   True\n",
      "condition_cobalt & bin_unsorted        condition_untreated & bin_7 -28102.9895    0.0 -43061.1242 -13144.8548   True\n",
      "condition_cobalt & bin_unsorted        condition_untreated & bin_8 -27418.8337    0.0 -42376.9683  -12460.699   True\n",
      "condition_cobalt & bin_unsorted        condition_untreated & bin_9 -26513.1128    0.0 -41471.2474 -11554.9781   True\n",
      "condition_cobalt & bin_unsorted condition_untreated & bin_unsorted -28187.7523    0.0 -43145.8869 -13229.6176   True\n",
      "    condition_untreated & bin_1       condition_untreated & bin_10   5453.5914  0.998  -9504.5432  20411.7261  False\n",
      "    condition_untreated & bin_1        condition_untreated & bin_2    243.0442    1.0 -14715.0905  15201.1788  False\n",
      "    condition_untreated & bin_1        condition_untreated & bin_3    534.4546    1.0 -14423.6801  15492.5893  False\n",
      "    condition_untreated & bin_1        condition_untreated & bin_4    758.1044    1.0 -14200.0303   15716.239  False\n",
      "    condition_untreated & bin_1        condition_untreated & bin_5   1129.0305    1.0 -13829.1042  16087.1651  False\n",
      "    condition_untreated & bin_1        condition_untreated & bin_6   1592.1185    1.0 -13366.0162  16550.2532  False\n",
      "    condition_untreated & bin_1        condition_untreated & bin_7   1832.6435    1.0 -13125.4912  16790.7781  False\n",
      "    condition_untreated & bin_1        condition_untreated & bin_8   2516.7993    1.0 -12441.3354  17474.9339  False\n",
      "    condition_untreated & bin_1        condition_untreated & bin_9   3422.5202    1.0 -11535.6145  18380.6549  False\n",
      "    condition_untreated & bin_1 condition_untreated & bin_unsorted   1747.8807    1.0  -13210.254  16706.0154  False\n",
      "   condition_untreated & bin_10        condition_untreated & bin_2  -5210.5473 0.9989 -20168.6819   9747.5874  False\n",
      "   condition_untreated & bin_10        condition_untreated & bin_3  -4919.1368 0.9995 -19877.2715  10038.9978  False\n",
      "   condition_untreated & bin_10        condition_untreated & bin_4   -4695.487 0.9997 -19653.6217  10262.6476  False\n",
      "   condition_untreated & bin_10        condition_untreated & bin_5   -4324.561 0.9999 -19282.6956  10633.5737  False\n",
      "   condition_untreated & bin_10        condition_untreated & bin_6  -3861.4729    1.0 -18819.6076  11096.6617  False\n",
      "   condition_untreated & bin_10        condition_untreated & bin_7   -3620.948    1.0 -18579.0826  11337.1867  False\n",
      "   condition_untreated & bin_10        condition_untreated & bin_8  -2936.7922    1.0 -17894.9268  12021.3425  False\n",
      "   condition_untreated & bin_10        condition_untreated & bin_9  -2031.0712    1.0 -16989.2059  12927.0634  False\n",
      "   condition_untreated & bin_10 condition_untreated & bin_unsorted  -3705.7107    1.0 -18663.8454  11252.4239  False\n",
      "    condition_untreated & bin_2        condition_untreated & bin_3    291.4104    1.0 -14666.7242  15249.5451  False\n",
      "    condition_untreated & bin_2        condition_untreated & bin_4    515.0602    1.0 -14443.0744  15473.1949  False\n",
      "    condition_untreated & bin_2        condition_untreated & bin_5    885.9863    1.0 -14072.1484   15844.121  False\n",
      "    condition_untreated & bin_2        condition_untreated & bin_6   1349.0743    1.0 -13609.0603   16307.209  False\n",
      "    condition_untreated & bin_2        condition_untreated & bin_7   1589.5993    1.0 -13368.5354  16547.7339  False\n",
      "    condition_untreated & bin_2        condition_untreated & bin_8   2273.7551    1.0 -12684.3796  17231.8898  False\n",
      "    condition_untreated & bin_2        condition_untreated & bin_9    3179.476    1.0 -11778.6586  18137.6107  False\n",
      "    condition_untreated & bin_2 condition_untreated & bin_unsorted   1504.8365    1.0 -13453.2981  16462.9712  False\n",
      "    condition_untreated & bin_3        condition_untreated & bin_4    223.6498    1.0 -14734.4849  15181.7844  False\n",
      "    condition_untreated & bin_3        condition_untreated & bin_5    594.5759    1.0 -14363.5588  15552.7105  False\n",
      "    condition_untreated & bin_3        condition_untreated & bin_6   1057.6639    1.0 -13900.4708  16015.7986  False\n",
      "    condition_untreated & bin_3        condition_untreated & bin_7   1298.1889    1.0 -13659.9458  16256.3235  False\n",
      "    condition_untreated & bin_3        condition_untreated & bin_8   1982.3447    1.0   -12975.79  16940.4793  False\n",
      "    condition_untreated & bin_3        condition_untreated & bin_9   2888.0656    1.0 -12070.0691  17846.2003  False\n",
      "    condition_untreated & bin_3 condition_untreated & bin_unsorted   1213.4261    1.0 -13744.7086  16171.5608  False\n",
      "    condition_untreated & bin_4        condition_untreated & bin_5    370.9261    1.0 -14587.2086  15329.0607  False\n",
      "    condition_untreated & bin_4        condition_untreated & bin_6    834.0141    1.0 -14124.1205  15792.1488  False\n",
      "    condition_untreated & bin_4        condition_untreated & bin_7   1074.5391    1.0 -13883.5956  16032.6737  False\n",
      "    condition_untreated & bin_4        condition_untreated & bin_8   1758.6949    1.0 -13199.4398  16716.8295  False\n",
      "    condition_untreated & bin_4        condition_untreated & bin_9   2664.4158    1.0 -12293.7188  17622.5505  False\n",
      "    condition_untreated & bin_4 condition_untreated & bin_unsorted    989.7763    1.0 -13968.3583   15947.911  False\n",
      "    condition_untreated & bin_5        condition_untreated & bin_6     463.088    1.0 -14495.0466  15421.2227  False\n",
      "    condition_untreated & bin_5        condition_untreated & bin_7     703.613    1.0 -14254.5217  15661.7476  False\n",
      "    condition_untreated & bin_5        condition_untreated & bin_8   1387.7688    1.0 -13570.3659  16345.9035  False\n",
      "    condition_untreated & bin_5        condition_untreated & bin_9   2293.4897    1.0 -12664.6449  17251.6244  False\n",
      "    condition_untreated & bin_5 condition_untreated & bin_unsorted    618.8502    1.0 -14339.2844  15576.9849  False\n",
      "    condition_untreated & bin_6        condition_untreated & bin_7     240.525    1.0 -14717.6097  15198.6596  False\n",
      "    condition_untreated & bin_6        condition_untreated & bin_8    924.6808    1.0 -14033.4539  15882.8154  False\n",
      "    condition_untreated & bin_6        condition_untreated & bin_9   1830.4017    1.0 -13127.7329  16788.5364  False\n",
      "    condition_untreated & bin_6 condition_untreated & bin_unsorted    155.7622    1.0 -14802.3724  15113.8969  False\n",
      "    condition_untreated & bin_7        condition_untreated & bin_8    684.1558    1.0 -14273.9788  15642.2905  False\n",
      "    condition_untreated & bin_7        condition_untreated & bin_9   1589.8768    1.0 -13368.2579  16548.0114  False\n",
      "    condition_untreated & bin_7 condition_untreated & bin_unsorted    -84.7627    1.0 -15042.8974  14873.3719  False\n",
      "    condition_untreated & bin_8        condition_untreated & bin_9    905.7209    1.0 -14052.4137  15863.8556  False\n",
      "    condition_untreated & bin_8 condition_untreated & bin_unsorted   -768.9186    1.0 -15727.0532  14189.2161  False\n",
      "    condition_untreated & bin_9 condition_untreated & bin_unsorted  -1674.6395    1.0 -16632.7742  13283.4952  False\n",
      "--------------------------------------------------------------------------------------------------------------------\n",
      "       Multiple Comparison of Means - Tukey HSD, FWER=0.05       \n",
      "=================================================================\n",
      "group1   group2    meandiff  p-adj    lower       upper    reject\n",
      "-----------------------------------------------------------------\n",
      "cobalt untreated -28164.4474   0.0 -35952.5884 -20376.3065   True\n",
      "-----------------------------------------------------------------\n",
      "      Multiple Comparison of Means - Tukey HSD, FWER=0.05       \n",
      "================================================================\n",
      "group1  group2    meandiff  p-adj     lower      upper    reject\n",
      "----------------------------------------------------------------\n",
      "     1       10  40955.7634 0.0214   3478.3004 78433.2263   True\n",
      "     1        2   2589.8227    1.0 -34887.6403 40067.2856  False\n",
      "     1        3   5723.6721    1.0 -31753.7909  43201.135  False\n",
      "     1        4   8095.9302 0.9997 -29381.5328 45573.3931  False\n",
      "     1        5  10728.7072 0.9963 -26748.7558 48206.1701  False\n",
      "     1        6  13320.5315 0.9807 -24156.9315 50797.9944  False\n",
      "     1        7  17584.0098 0.8857 -19893.4532 55061.4727  False\n",
      "     1        8  20947.1732 0.7291 -16530.2897 58424.6362  False\n",
      "     1        9  28441.6436 0.3008  -9035.8194 65919.1065  False\n",
      "     1 unsorted  14851.1931 0.9591 -22626.2699  52328.656  False\n",
      "    10        2 -38365.9407 0.0405 -75843.4036  -888.4777   True\n",
      "    10        3 -35232.0913  0.083 -72709.5542  2245.3716  False\n",
      "    10        4 -32859.8332 0.1361 -70337.2961  4617.6298  False\n",
      "    10        5 -30227.0562 0.2232 -67704.5191  7250.4068  False\n",
      "    10        6 -27635.2319 0.3408 -65112.6948   9842.231  False\n",
      "    10        7 -23371.7536 0.5865 -60849.2165 14105.7094  False\n",
      "    10        8 -20008.5901 0.7792 -57486.0531 17468.8728  False\n",
      "    10        9 -12514.1198 0.9877 -49991.5827 24963.3432  False\n",
      "    10 unsorted -26104.5703 0.4237 -63582.0332 11372.8927  False\n",
      "     2        3   3133.8494    1.0 -34343.6136 40611.3123  False\n",
      "     2        4   5506.1075    1.0 -31971.3554 42983.5705  False\n",
      "     2        5   8138.8845 0.9996 -29338.5784 45616.3474  False\n",
      "     2        6  10730.7088 0.9963 -26746.7542 48208.1717  False\n",
      "     2        7  14994.1871 0.9565 -22483.2759   52471.65  False\n",
      "     2        8  18357.3505 0.8558 -19120.1124 55834.8135  False\n",
      "     2        9  25851.8209 0.4381  -11625.642 63329.2838  False\n",
      "     2 unsorted  12261.3704 0.9895 -25216.0926 49738.8333  False\n",
      "     3        4   2372.2581    1.0 -35105.2048 39849.7211  False\n",
      "     3        5   5005.0351    1.0 -32472.4278 42482.4981  False\n",
      "     3        6   7596.8594 0.9998 -29880.6035 45074.3223  False\n",
      "     3        7  11860.3377 0.9918 -25617.1252 49337.8007  False\n",
      "     3        8  15223.5012  0.952 -22253.9618 52700.9641  False\n",
      "     3        9  22717.9715 0.6261 -14759.4914 60195.4345  False\n",
      "     3 unsorted    9127.521  0.999 -28349.9419  46604.984  False\n",
      "     4        5    2632.777    1.0  -34844.686 40110.2399  False\n",
      "     4        6   5224.6013    1.0 -32252.8617 42702.0642  False\n",
      "     4        7   9488.0796 0.9987 -27989.3834 46965.5425  False\n",
      "     4        8   12851.243 0.9851 -24626.2199  50328.706  False\n",
      "     4        9  20345.7134 0.7617 -17131.7496 57823.1763  False\n",
      "     4 unsorted   6755.2629 0.9999 -30722.2001 44232.7258  False\n",
      "     5        6   2591.8243    1.0 -34885.6387 40069.2872  False\n",
      "     5        7   6855.3026 0.9999 -30622.1604 44332.7655  False\n",
      "     5        8   10218.466 0.9975 -27258.9969  47695.929  False\n",
      "     5        9  17712.9364  0.881 -19764.5265 55190.3993  False\n",
      "     5 unsorted   4122.4859    1.0 -33354.9771 41599.9488  False\n",
      "     6        7   4263.4783    1.0 -33213.9846 41740.9413  False\n",
      "     6        8   7626.6418 0.9998 -29850.8212 45104.1047  False\n",
      "     6        9  15121.1121  0.954 -22356.3508 52598.5751  False\n",
      "     6 unsorted   1530.6616    1.0 -35946.8013 39008.1246  False\n",
      "     7        8   3363.1634    1.0 -34114.2995 40840.6264  False\n",
      "     7        9  10857.6338 0.9959 -26619.8291 48335.0968  False\n",
      "     7 unsorted  -2732.8167    1.0 -40210.2796 34744.6462  False\n",
      "     8        9   7494.4704 0.9998 -29982.9926 44971.9333  False\n",
      "     8 unsorted  -6095.9801    1.0 -43573.4431 31381.4828  False\n",
      "     9 unsorted -13590.4505 0.9777 -51067.9135 23887.0124  False\n",
      "----------------------------------------------------------------\n"
     ]
    }
   ],
   "source": [
    "df = pd.read_csv(path_exp_data+\"Exp05_pt2_bins.csv\")\n",
    "print(df)\n",
    "\n",
    "# run 2-way ANOVA\n",
    "anova_table = anova(path_stats, \"figure2g\", df, \"meptrs\", \"condition\", \"bin\")\n",
    "print(anova_table)\n",
    "# run tukey's hsd\n",
    "tukeys_table_i, tukeys_tables = tukeys_hsd(path_stats, \"figure2g\", \"meptrs\", df, [\"condition\", \"bin\"], [\"condition\",\"bin\"])\n",
    "print(tukeys_table_i)\n",
    "for table in tukeys_tables:\n",
    "    print(table)"
   ]
  },
  {
   "cell_type": "code",
   "execution_count": 51,
   "metadata": {},
   "outputs": [
    {
     "name": "stdout",
     "output_type": "stream",
     "text": [
      "            df      sum_sq    mean_sq        F    PR(>F)\n",
      "C(bin)    10.0  384.356695  38.435670  2.37753  0.043432\n",
      "Residual  22.0  355.656859  16.166221      NaN       NaN\n",
      "  Multiple Comparison of Means - Tukey HSD, FWER=0.05  \n",
      "=======================================================\n",
      "group1  group2  meandiff p-adj   lower    upper  reject\n",
      "-------------------------------------------------------\n",
      "     1       10  -12.271 0.0354 -24.0068 -0.5352   True\n",
      "     1        2   -4.662 0.9301 -16.3978  7.0738  False\n",
      "     1        3  -5.2787 0.8629 -17.0144  6.4571  False\n",
      "     1        4   -5.539 0.8267 -17.2748  6.1968  False\n",
      "     1        5  -7.9152  0.403  -19.651  3.8206  False\n",
      "     1        6 -10.2327  0.125 -21.9684  1.5031  False\n",
      "     1        7   -7.939  0.399 -19.6748  3.7968  False\n",
      "     1        8 -10.4955 0.1072 -22.2312  1.2403  False\n",
      "     1        9 -10.6044 0.1005 -22.3402  1.1314  False\n",
      "     1 unsorted -10.0261 0.1407 -21.7619  1.7096  False\n",
      "    10        2    7.609 0.4562  -4.1268 19.3448  False\n",
      "    10        3   6.9923 0.5703  -4.7435 18.7281  False\n",
      "    10        4    6.732 0.6196  -5.0038 18.4678  False\n",
      "    10        5   4.3558 0.9536    -7.38 16.0916  False\n",
      "    10        6   2.0383 0.9999  -9.6975 13.7741  False\n",
      "    10        7    4.332 0.9551  -7.4038 16.0678  False\n",
      "    10        8   1.7755    1.0  -9.9603 13.5113  False\n",
      "    10        9   1.6666    1.0 -10.0692 13.4023  False\n",
      "    10 unsorted   2.2448 0.9997  -9.4909 13.9806  False\n",
      "     2        3  -0.6167    1.0 -12.3525 11.1191  False\n",
      "     2        4   -0.877    1.0 -12.6128 10.8588  False\n",
      "     2        5  -3.2532 0.9939  -14.989  8.4826  False\n",
      "     2        6  -5.5707  0.822 -17.3065  6.1651  False\n",
      "     2        7   -3.277 0.9936 -15.0128  8.4588  False\n",
      "     2        8  -5.8335 0.7808 -17.5693  5.9023  False\n",
      "     2        9  -5.9424 0.7627 -17.6782  5.7933  False\n",
      "     2 unsorted  -5.3642 0.8515 -17.0999  6.3716  False\n",
      "     3        4  -0.2603    1.0 -11.9961 11.4754  False\n",
      "     3        5  -2.6365 0.9989 -14.3723  9.0992  False\n",
      "     3        6   -4.954 0.9016 -16.6898  6.7818  False\n",
      "     3        7  -2.6603 0.9988 -14.3961  9.0755  False\n",
      "     3        8  -5.2168 0.8708 -16.9526   6.519  False\n",
      "     3        9  -5.3258 0.8566 -17.0615    6.41  False\n",
      "     3 unsorted  -4.7475 0.9224 -16.4833  6.9883  False\n",
      "     4        5  -2.3762 0.9995  -14.112  9.3596  False\n",
      "     4        6  -4.6937 0.9273 -16.4294  7.0421  False\n",
      "     4        7     -2.4 0.9995 -14.1357  9.3358  False\n",
      "     4        8  -4.9565 0.9014 -16.6922  6.7793  False\n",
      "     4        9  -5.0654 0.8892 -16.8012  6.6704  False\n",
      "     4 unsorted  -4.4871 0.9443 -16.2229  7.2486  False\n",
      "     5        6  -2.3175 0.9996 -14.0533  9.4183  False\n",
      "     5        7  -0.0238    1.0 -11.7596  11.712  False\n",
      "     5        8  -2.5803 0.9991  -14.316  9.1555  False\n",
      "     5        9  -2.6892 0.9987  -14.425  9.0466  False\n",
      "     5 unsorted  -2.1109 0.9998 -13.8467  9.6248  False\n",
      "     6        7   2.2937 0.9997  -9.4421 14.0295  False\n",
      "     6        8  -0.2628    1.0 -11.9986  11.473  False\n",
      "     6        9  -0.3718    1.0 -12.1075  11.364  False\n",
      "     6 unsorted   0.2065    1.0 -11.5292 11.9423  False\n",
      "     7        8  -2.5565 0.9991 -14.2923  9.1793  False\n",
      "     7        9  -2.6654 0.9988 -14.4012  9.0703  False\n",
      "     7 unsorted  -2.0872 0.9999 -13.8229  9.6486  False\n",
      "     8        9   -0.109    1.0 -11.8447 11.6268  False\n",
      "     8 unsorted   0.4693    1.0 -11.2665 12.2051  False\n",
      "     9 unsorted   0.5783    1.0 -11.1575 12.3141  False\n",
      "-------------------------------------------------------\n"
     ]
    }
   ],
   "source": [
    "# run 1 way ANOVA on fold induction for each condition\n",
    "df_fold = df[df[\"fold\"] != 1]\n",
    "# print(df_fold)\n",
    "anova_table = anova(path_stats, \"figure2g_fold\", df_fold, \"fold\", \"bin\")\n",
    "print(anova_table)\n",
    "# run tukey's hsd\n",
    "tukeys_tables = tukeys_hsd(path_stats, \"figure2g_fold\", \"fold\", df_fold, [\"bin\"])\n",
    "for table in tukeys_tables:\n",
    "    print(table)"
   ]
  },
  {
   "cell_type": "markdown",
   "metadata": {},
   "source": [
    "### Figure 2G/H plot"
   ]
  },
  {
   "cell_type": "code",
   "execution_count": 35,
   "metadata": {},
   "outputs": [
    {
     "name": "stdout",
     "output_type": "stream",
     "text": [
      "    condition       bin        meptrs      std_err         FI  FI_std_err\n",
      "0   untreated  unsorted   1825.676445   266.659635        NaN         NaN\n",
      "1      cobalt  unsorted  30013.428690  3193.354379  16.439621    2.970716\n",
      "2   untreated         1     77.795740    42.515716        NaN         NaN\n",
      "3      cobalt         1   1905.887894   335.927021  24.498615   14.067705\n",
      "4   untreated         2    320.839909   103.388868        NaN         NaN\n",
      "5      cobalt         2   6842.489091   969.176173  21.326802    7.507022\n",
      "6   untreated         3    612.250340   110.796924        NaN         NaN\n",
      "7      cobalt         3  12818.777400  2220.532068  20.937150    5.244989\n",
      "8   untreated         4    835.900124   171.835513        NaN         NaN\n",
      "9      cobalt         4  17339.643900  2143.807714  20.743679    4.976093\n",
      "10  untreated         5   1206.826202   295.379295        NaN         NaN\n",
      "11     cobalt         5  22234.271800  2518.537207  18.423756    4.968842\n",
      "12  untreated         6   1669.914234   348.516041        NaN         NaN\n",
      "13     cobalt         6  26954.832300  2580.562896  16.141447    3.706296\n",
      "14  untreated         7   1910.439191   192.366556        NaN         NaN\n",
      "15     cobalt         7  35241.263990  3608.019183  18.446682    2.648928\n",
      "16  untreated         8   2594.595007   449.299725        NaN         NaN\n",
      "17     cobalt         8  41283.435050  3908.414663  15.911321    3.140217\n",
      "18  untreated         9   3500.315943   473.432416        NaN         NaN\n",
      "19     cobalt         9  55366.654850  7153.445314  15.817616    2.958642\n",
      "20  untreated        10   5531.387165   512.124402        NaN         NaN\n",
      "21     cobalt        10  78363.823180  7874.468811  14.167120    1.935742\n"
     ]
    }
   ],
   "source": [
    "df_data_plot2g = pd.read_csv(path_exp_data+\"plot_figure2G.csv\")\n",
    "print(df_data_plot2g)\n",
    "# format data and labels for plotting\n",
    "meptrs2g = df_data_plot2g[\"meptrs\"].to_list()\n",
    "meptrs_scaled2g = [i/1E5 for i in meptrs2g]\n",
    "# print(meptrs_scaled2g)\n",
    "plot_meptrs2g = [meptrs_scaled2g[i:i + 2] for i in range(0, len(meptrs_scaled2g), 2)]\n",
    "std_err2g = df_data_plot2g[\"std_err\"].to_list()\n",
    "std_err_scaled2g = [i/1E5 for i in std_err2g]\n",
    "plot_std_err2g = [std_err_scaled2g[i:i + 2] for i in range(0, len(std_err_scaled2g), 2)]\n",
    "fi2g = df_data_plot2g[\"FI\"].to_list()\n",
    "plot_fi2g = [fi2g[i] for i in range(1, len(fi2g), 2)]\n",
    "fi_std_err2g = df_data_plot2g[\"FI_std_err\"].to_list()\n",
    "plot_fi_std_err2g = [fi_std_err2g[i] for i in range(1, len(fi_std_err2g), 2)]"
   ]
  },
  {
   "cell_type": "code",
   "execution_count": 36,
   "metadata": {},
   "outputs": [],
   "source": [
    "df_data_plot2h = pd.read_csv(path_exp_data+\"plot_figure2H.csv\")\n",
    "# print(df_data_plot2h)\n",
    "# format data and labels for plotting\n",
    "meptrs2h = df_data_plot2h[\"meptrs\"].to_list()\n",
    "meptrs_scaled2h = [i/1E5 for i in meptrs2h]\n",
    "plot_meptrs2h = [meptrs_scaled2h[i:i + 2] for i in range(0, len(meptrs_scaled2h), 2)]\n",
    "std_err2h = df_data_plot2h[\"std_err\"].to_list()\n",
    "std_err_scaled2h = [i/1E5 for i in std_err2h]\n",
    "plot_std_err2h = [std_err_scaled2h[i:i + 2] for i in range(0, len(std_err_scaled2h), 2)]\n",
    "fi2h = df_data_plot2h[\"FI\"].to_list()\n",
    "plot_fi2h = [fi2h[i] for i in range(1, len(fi2h), 2)]\n",
    "fi_std_err2h = df_data_plot2h[\"FI_std_err\"].to_list()\n",
    "plot_fi_std_err2h = [fi_std_err2h[i] for i in range(1, len(fi_std_err2h), 2)]"
   ]
  },
  {
   "cell_type": "code",
   "execution_count": 41,
   "metadata": {},
   "outputs": [
    {
     "data": {
      "image/png": "[encoded data removed]",
      "text/plain": [
       "<Figure size 618.575x197.2 with 4 Axes>"
      ]
     },
     "metadata": {},
     "output_type": "display_data"
    }
   ],
   "source": [
    "pink_ = [(i/255) for i in [233, 140, 194]]\n",
    "grey_ = [(i/255) for i in [127, 127, 127]]\n",
    "# create plot\n",
    "fig, axs = plt.subplots(1, 2, figsize=(6.18575, 1.972))#, gridspec_kw={\n",
    "                           #'width_ratios': [1, 1.1]})\n",
    "axs0_2 = axs[0].twinx()\n",
    "axs1_2 = axs[1].twinx()\n",
    "for index, meptrs_list in enumerate(plot_meptrs2g):\n",
    "    axs[0].bar(index-0.175, meptrs_list[0], width=0.35, color=grey_, align=\"center\", label=\"untreated\")\n",
    "    (_, caps1, _) = axs[0].errorbar(index-0.175, meptrs_list[0], plot_std_err2g[index][0], color=\"k\", capsize=1.5, elinewidth=0.5)\n",
    "    axs[0].bar(index+0.175, meptrs_list[1], width=0.35, color=pink_, align=\"center\", label=\"cobalt\")\n",
    "    (_, caps2, _) = axs[0].errorbar(index+0.175, meptrs_list[1], plot_std_err2g[index][1], color=\"k\", capsize=1.5, elinewidth=0.5)\n",
    "    (_, caps3, _) = axs0_2.errorbar(index, plot_fi2g[index], plot_fi_std_err2g[index], color=\"k\", marker=\"o\", markersize=\"1.5\", linestyle=\"none\", ecolor=\"k\", capsize=1.5, elinewidth=0.5)\n",
    "\n",
    "    for cap in caps1:\n",
    "        cap.set_markeredgewidth(0.5)\n",
    "    for cap in caps2:\n",
    "        cap.set_markeredgewidth(0.5)\n",
    "    for cap in caps3:\n",
    "        cap.set_markeredgewidth(0.5)\n",
    "axs[0].set_xticks([0, 1, 2, 3, 4, 5, 6, 7, 8, 9, 10])\n",
    "axs[0].set_xlim(left=-0.5, right=10.5)\n",
    "axs[0].set_yticks([0, 0.2, 0.4, 0.6, 0.8, 1])\n",
    "axs[0].set_xlabel(\"Bin (Decile of EBFP2 expression level)\")\n",
    "axs[0].set_ylabel(\"Mean exp. (x10^5 MEPTRs)\")\n",
    "axs[0].spines[['right']].set_visible(True)\n",
    "axs0_2.set_yticks([0, 10, 20, 30, 40])\n",
    "axs0_2.set_ylabel(\"Fold induction\")\n",
    "\n",
    "\n",
    "for index, meptrs_list in enumerate(plot_meptrs2h):\n",
    "    axs[1].bar(index-0.175, meptrs_list[0], width=0.35, color=grey_, align=\"center\", label=\"untreated\")\n",
    "    (_, caps1, _) = axs[1].errorbar(index-0.175, meptrs_list[0], plot_std_err2h[index][0], color=\"k\", capsize=1.5, elinewidth=0.5)\n",
    "    axs[1].bar(index+0.175, meptrs_list[1], width=0.35, color=pink_, align=\"center\", label=\"cobalt\")\n",
    "    (_, caps2, _) = axs[1].errorbar(index+0.175, meptrs_list[1], plot_std_err2h[index][1], color=\"k\", capsize=1.5, elinewidth=0.5)\n",
    "    (_, caps3, _) = axs1_2.errorbar(index, plot_fi2h[index], plot_fi_std_err2h[index], color=\"k\", marker=\"o\", markersize=\"1.5\", linestyle=\"none\", ecolor=\"k\", capsize=1.5, elinewidth=0.5)\n",
    "\n",
    "    for cap in caps1:\n",
    "        cap.set_markeredgewidth(0.5)\n",
    "    for cap in caps2:\n",
    "        cap.set_markeredgewidth(0.5)\n",
    "    for cap in caps3:\n",
    "        cap.set_markeredgewidth(0.5)\n",
    "\n",
    "axs[1].set_xticks([0, 1, 2, 3, 4, 5, 6, 7, 8, 9, 10])\n",
    "axs[1].set_xlim(left=-0.5, right=10.5)\n",
    "axs[1].set_yticks([0, 1, 2, 3, 4, 5])\n",
    "axs[1].set_xlabel(\"Sorted population (on decile of EBFP2 expression)\")\n",
    "axs[1].set_ylabel(\"Mean exp. (x10^5 MEPTRs)\")\n",
    "axs[1].spines[['right']].set_visible(True)\n",
    "axs1_2.set_yticks([0, 100, 200, 300])\n",
    "axs1_2.set_ylabel(\"Fold induction\")\n",
    "\n",
    "# plt.show()\n",
    "plt.savefig(path_plots+\"figure_2gh_test2.svg\")"
   ]
  },
  {
   "cell_type": "markdown",
   "metadata": {},
   "source": [
    "### Figure 2H statistical tests"
   ]
  },
  {
   "cell_type": "code",
   "execution_count": 4,
   "metadata": {},
   "outputs": [],
   "source": [
    "df = pd.read_csv(path_exp_data+\"Exp06.csv\")\n",
    "# print(df)\n"
   ]
  },
  {
   "cell_type": "code",
   "execution_count": null,
   "metadata": {},
   "outputs": [],
   "source": [
    "\n",
    "# run 2-way ANOVA\n",
    "anova_table = anova(path_stats, \"figure2h\", df, \"meptrs\", \"condition\", \"sorted_population\")\n",
    "print(anova_table)\n",
    "# run tukey's hsd\n",
    "# tukeys_table_i, tukeys_tables = tukeys_hsd(path_stats, \"figure2h\", \"meptrs\", df, [\"condition\", \"sorted_population\"], [\"condition\",\"sorted_population\"])\n",
    "# print(tukeys_table_i)\n",
    "# for table in tukeys_tables:\n",
    "#     print(table)"
   ]
  },
  {
   "cell_type": "markdown",
   "metadata": {},
   "source": [
    "## Figure 3"
   ]
  },
  {
   "cell_type": "markdown",
   "metadata": {},
   "source": [
    "### Figure 3B, left statistical tests"
   ]
  },
  {
   "cell_type": "code",
   "execution_count": 9,
   "metadata": {},
   "outputs": [],
   "source": [
    "df = pd.read_csv(path_exp_data+\"Exp07_pt1_HEK.csv\")\n",
    "# print(df)"
   ]
  },
  {
   "cell_type": "code",
   "execution_count": 13,
   "metadata": {},
   "outputs": [],
   "source": [
    "# run 2-way ANOVA\n",
    "anova_table = anova(path_stats, \"figure3b_left\", df, \"mefls\", \"condition\", \"minimal_promoter\")\n",
    "# print(anova_table)\n",
    "# run tukey's hsd\n",
    "tukeys_table_i, tukeys_tables = tukeys_hsd(path_stats, \"figure3b_left\", \"mefls\", df, [\"condition\", \"minimal_promoter\"], [\"condition\",\"minimal_promoter\"])\n",
    "# print(tukeys_table_i)\n",
    "# for table in tukeys_tables:\n",
    "#     print(table)c"
   ]
  },
  {
   "cell_type": "markdown",
   "metadata": {},
   "source": [
    "### Figure 3B, left plot"
   ]
  },
  {
   "cell_type": "code",
   "execution_count": 36,
   "metadata": {},
   "outputs": [],
   "source": [
    "#plot\n",
    "df_data_plot = pd.read_csv(path_exp_data+\"plot_figure3B_left.csv\")\n",
    "# print(df_data_plot)"
   ]
  },
  {
   "cell_type": "code",
   "execution_count": 37,
   "metadata": {},
   "outputs": [
    {
     "data": {
      "image/png": "[encoded data removed]",
      "text/plain": [
       "<Figure size 260x170 with 1 Axes>"
      ]
     },
     "metadata": {},
     "output_type": "display_data"
    }
   ],
   "source": [
    "pink_ = [(i/255) for i in [233, 140, 194]]\n",
    "grey_ = [(i/255) for i in [127, 127, 127]]\n",
    "# format data and labels for plotting\n",
    "conditions = df_data_plot[\"minimal_promoter\"].to_list()\n",
    "plot_xlabels = [conditions[i] for i in range(0, len(conditions), 2)]\n",
    "mefls = df_data_plot[\"mefls\"].to_list()\n",
    "mefls_scaled = [i/1E5 for i in mefls]\n",
    "plot_mefls = [mefls_scaled[i:i + 2] for i in range(0, len(mefls_scaled), 2)]\n",
    "std_err = df_data_plot[\"std_err\"].to_list()\n",
    "std_err_scaled = [i/1E5 for i in std_err]\n",
    "plot_std_err = [std_err_scaled[i:i + 2] for i in range(0, len(std_err_scaled), 2)]\n",
    "\n",
    "# create plot\n",
    "fig, ax = plt.subplots(1, 1, figsize=(2.6, 1.7))\n",
    "x_ticks = []\n",
    "for index, mefls_list in enumerate(plot_mefls):\n",
    "    ax.bar(index-0.125, mefls_list[0], width=0.25, color=grey_, align=\"center\", label=\"untreated\")\n",
    "    (_, caps1, _) = ax.errorbar(index-0.125, mefls_list[0], plot_std_err[index][0], color=\"k\", capsize=1.5, elinewidth=0.5)\n",
    "    ax.bar(index+0.125, mefls_list[1], width=0.25, color=pink_, align=\"center\", label=\"cobalt\")\n",
    "    (_, caps2, _) = ax.errorbar(index+0.125, mefls_list[1], plot_std_err[index][1], color=\"k\", capsize=1.5, elinewidth=0.5)\n",
    "    x_ticks.append(index)\n",
    "\n",
    "    for cap in caps1:\n",
    "        cap.set_markeredgewidth(0.5)\n",
    "    for cap in caps2:\n",
    "        cap.set_markeredgewidth(0.5)\n",
    "ax.set_xticks(x_ticks)\n",
    "ax.set_xticklabels(plot_xlabels)\n",
    "ax.set_yticks([0, 10, 20, 30])\n",
    "ax.set_xlabel(\"Minimal Promoter\")\n",
    "ax.set_ylabel(\"Mean exp. \\n (x10^5 MEFLs)\")\n",
    "# plt.show()\n",
    "plt.savefig(path_plots+\"figure_3b_left_test.svg\")"
   ]
  },
  {
   "cell_type": "markdown",
   "metadata": {},
   "source": [
    "### Figure 3B, right statistical tests"
   ]
  },
  {
   "cell_type": "code",
   "execution_count": null,
   "metadata": {},
   "outputs": [],
   "source": [
    "df = pd.read_csv(path_exp_data+\"Exp07_pt2_B16.csv\")\n",
    "print(df)"
   ]
  },
  {
   "cell_type": "code",
   "execution_count": 53,
   "metadata": {},
   "outputs": [],
   "source": [
    "# run 2-way ANOVA\n",
    "anova_table = anova(path_stats, \"figure3b_right\", df, \"mefls\", \"condition\", \"minimal_promoter\")\n",
    "# print(anova_table)\n",
    "# run tukey's hsd\n",
    "tukeys_table_i, tukeys_tables = tukeys_hsd(path_stats, \"figure3b_right\", \"mefls\", df, [\"condition\", \"minimal_promoter\"], [\"condition\",\"minimal_promoter\"])\n",
    "# print(tukeys_table_i)\n",
    "# for table in tukeys_tables:\n",
    "    # print(table)"
   ]
  },
  {
   "cell_type": "markdown",
   "metadata": {},
   "source": [
    "### Figure 3B, right plot"
   ]
  },
  {
   "cell_type": "code",
   "execution_count": 38,
   "metadata": {},
   "outputs": [],
   "source": [
    "#plot\n",
    "df_data_plot = pd.read_csv(path_exp_data+\"plot_figure3B_right.csv\")\n",
    "# print(df_data_plot)"
   ]
  },
  {
   "cell_type": "code",
   "execution_count": 39,
   "metadata": {},
   "outputs": [
    {
     "data": {
      "image/png": "[encoded data removed]",
      "text/plain": [
       "<Figure size 260x170 with 1 Axes>"
      ]
     },
     "metadata": {},
     "output_type": "display_data"
    }
   ],
   "source": [
    "pink_ = [(i/255) for i in [233, 140, 194]]\n",
    "grey_ = [(i/255) for i in [127, 127, 127]]\n",
    "\n",
    "# format data and labels for plotting\n",
    "conditions = df_data_plot[\"minimal_promoter\"].to_list()\n",
    "plot_xlabels = [conditions[i] for i in range(0, len(conditions), 2)]\n",
    "mefls = df_data_plot[\"mefls\"].to_list()\n",
    "mefls_scaled = [i/1E5 for i in mefls]\n",
    "plot_mefls = [mefls_scaled[i:i + 2] for i in range(0, len(mefls_scaled), 2)]\n",
    "std_err = df_data_plot[\"std_err\"].to_list()\n",
    "std_err_scaled = [i/1E5 for i in std_err]\n",
    "plot_std_err = [std_err_scaled[i:i + 2] for i in range(0, len(std_err_scaled), 2)]\n",
    "\n",
    "# create plot\n",
    "fig, ax = plt.subplots(1, 1, figsize=(2.6, 1.7))\n",
    "x_ticks = []\n",
    "for index, mefls_list in enumerate(plot_mefls):\n",
    "    ax.bar(index-0.125, mefls_list[0], width=0.25, color=grey_, align=\"center\", label=\"untreated\")\n",
    "    (_, caps1, _) = ax.errorbar(index-0.125, mefls_list[0], plot_std_err[index][0], color=\"k\", capsize=1.5, elinewidth=0.5)\n",
    "    ax.bar(index+0.125, mefls_list[1], width=0.25, color=pink_, align=\"center\", label=\"cobalt\")\n",
    "    (_, caps2, _) = ax.errorbar(index+0.125, mefls_list[1], plot_std_err[index][1], color=\"k\", capsize=1.5, elinewidth=0.5)\n",
    "    x_ticks.append(index)\n",
    "\n",
    "    for cap in caps1:\n",
    "        cap.set_markeredgewidth(0.5)\n",
    "    for cap in caps2:\n",
    "        cap.set_markeredgewidth(0.5)\n",
    "ax.set_xticks(x_ticks)\n",
    "ax.set_xticklabels(plot_xlabels)\n",
    "ax.set_yticks([0, 10, 20, 30])\n",
    "ax.set_xlabel(\"Minimal Promoter\")\n",
    "ax.set_ylabel(\"Mean exp. \\n (x10^5 MEFLs)\")\n",
    "# plt.show()\n",
    "plt.savefig(path_plots+\"figure_3b_right_test.svg\")"
   ]
  },
  {
   "cell_type": "markdown",
   "metadata": {},
   "source": [
    "### Figure 3C, top statistical tests"
   ]
  },
  {
   "cell_type": "code",
   "execution_count": 26,
   "metadata": {},
   "outputs": [],
   "source": [
    "df = pd.read_csv(path_exp_data+\"Exp04_pt2_YBTATA.csv\")\n",
    "# print(df)"
   ]
  },
  {
   "cell_type": "code",
   "execution_count": 28,
   "metadata": {},
   "outputs": [],
   "source": [
    "# run 2-way repeated measures ANOVA\n",
    "# anova_rm_table = repeated_measures_anova(path_stats, \"figure3c_top\", df, \"meptrs\", \"day\", \"condition\")\n",
    "# print(anova_rm_table)\n",
    "\n",
    "# run tukey's hsd\n",
    "# tukeys_table_i, tukeys_tables = tukeys_hsd(path_stats, \"figure3c_top\", \"meptrs\", df, [\"condition\", \"day\"], [\"condition\",\"day\"]) \n",
    "# print(tukeys_table_i)\n",
    "# for table in tukeys_tables:\n",
    "#     print(table)"
   ]
  },
  {
   "cell_type": "markdown",
   "metadata": {},
   "source": [
    "### Figure 3C, top plot"
   ]
  },
  {
   "cell_type": "code",
   "execution_count": 7,
   "metadata": {},
   "outputs": [
    {
     "name": "stdout",
     "output_type": "stream",
     "text": [
      "          condition  day        meptrs       std_err\n",
      "0          normoxia    0  1.626201e+03     90.218468\n",
      "1          normoxia    1  1.088635e+03     71.984131\n",
      "2          normoxia    2  1.223716e+03    178.930581\n",
      "3          normoxia    3  9.680467e+03    413.577763\n",
      "4          normoxia    4  5.793373e+04   2206.099702\n",
      "5   normoxia_cobalt    0  1.626201e+03     90.218468\n",
      "6   normoxia_cobalt    1  1.498463e+05   5500.702088\n",
      "7   normoxia_cobalt    2  1.463696e+05   2846.692778\n",
      "8   normoxia_cobalt    3  1.290738e+05   4928.218806\n",
      "9   normoxia_cobalt    4  1.627349e+05   2744.686591\n",
      "10          hypoxia    0  1.626201e+03     90.218468\n",
      "11          hypoxia    1  5.116018e+05  47916.682400\n",
      "12          hypoxia    2  1.350227e+06  22026.854350\n",
      "13          hypoxia    3  1.679482e+06  15474.038940\n",
      "14          hypoxia    4  1.899947e+06  54194.678590\n"
     ]
    }
   ],
   "source": [
    "df_plot = pd.read_csv(path_exp_data+\"plot_figure3C_top.csv\")\n",
    "print(df_plot)\n",
    "days = [0, 1, 2, 3, 4]"
   ]
  },
  {
   "cell_type": "code",
   "execution_count": 11,
   "metadata": {},
   "outputs": [],
   "source": [
    "# normoxia data\n",
    "meptrs_normoxia = df_plot[df_plot[\"condition\"] == \"normoxia\"][\"meptrs\"].to_list()\n",
    "meptrs_normoxia_scaled = [i/1E5 for i in meptrs_normoxia]\n",
    "std_err_normoxia = df_plot[df_plot[\"condition\"] == \"normoxia\"][\"std_err\"].to_list()\n",
    "std_err_normoxia_scaled = [i/1E5 for i in std_err_normoxia]"
   ]
  },
  {
   "cell_type": "code",
   "execution_count": 12,
   "metadata": {},
   "outputs": [],
   "source": [
    "# normoxia + cobalt data\n",
    "meptrs_normoxia_cobalt = df_plot[df_plot[\"condition\"] == \"normoxia_cobalt\"][\"meptrs\"].to_list()\n",
    "meptrs_normoxia_cobalt_scaled = [i/1E5 for i in meptrs_normoxia_cobalt]\n",
    "std_err_normoxia_cobalt = df_plot[df_plot[\"condition\"] == \"normoxia_cobalt\"][\"std_err\"].to_list()\n",
    "std_err_normoxia_cobalt_scaled = [i/1E5 for i in std_err_normoxia_cobalt]"
   ]
  },
  {
   "cell_type": "code",
   "execution_count": 13,
   "metadata": {},
   "outputs": [],
   "source": [
    "# hypoxia data\n",
    "meptrs_hypoxia = df_plot[df_plot[\"condition\"] == \"hypoxia\"][\"meptrs\"].to_list()\n",
    "meptrs_hypoxia_scaled = [i/1E5 for i in meptrs_hypoxia]\n",
    "std_err_hypoxia = df_plot[df_plot[\"condition\"] == \"hypoxia\"][\"std_err\"].to_list()\n",
    "std_err_hypoxia_scaled = [i/1E5 for i in std_err_hypoxia]"
   ]
  },
  {
   "cell_type": "code",
   "execution_count": 14,
   "metadata": {},
   "outputs": [
    {
     "data": {
      "image/png": "[encoded data removed]",
      "text/plain": [
       "<Figure size 200x170 with 1 Axes>"
      ]
     },
     "metadata": {},
     "output_type": "display_data"
    }
   ],
   "source": [
    "pink_ = [(i/255) for i in [233, 140, 194]]\n",
    "normoxia_gray = [(i/255) for i in [127, 127, 127]]\n",
    "\n",
    "# create figure 2D plot\n",
    "fig, ax = plt.subplots(1, 1, figsize=(2, 1.7), sharey=True)\n",
    "(_, caps1, _) = ax.errorbar(days, meptrs_normoxia_scaled, std_err_normoxia_scaled, color=normoxia_gray, linestyle=\"-\", marker=\"o\", markersize=\"1.5\", ecolor=\"k\", capsize=1.5, elinewidth=0.5, label=\"normoxia\")\n",
    "(_, caps2, _) = ax.errorbar(days, meptrs_normoxia_cobalt_scaled, std_err_normoxia_cobalt_scaled, color=pink_, linestyle=\"-\", marker=\"o\", markersize=\"1.5\", ecolor=\"k\", capsize=1.5, elinewidth=0.5, label=\"normoxia_cobalt\")\n",
    "(_, caps3, _) = ax.errorbar(days, meptrs_hypoxia_scaled, std_err_hypoxia_scaled, color=\"mediumpurple\", linestyle=\"-\", marker=\"o\", markersize=\"1.5\", ecolor=\"k\", capsize=1.5, elinewidth=0.5, label=\"hypoxia\")\n",
    "ax.set_xlabel(\"Days post plating\")\n",
    "ax.set_xticks([0, 1, 2, 3, 4])\n",
    "ax.set_xlim(left=0)\n",
    "ax.set_ylabel(\"Mean exp. (x10^5 MEPTRs)\")\n",
    "ax.set_yticks([0, 10, 20, 30, 40, 50])\n",
    "ax.set_ylim([0,50])\n",
    "# ax.set_box_aspect(1)\n",
    "\n",
    "for cap in caps1:\n",
    "    cap.set_markeredgewidth(0.5)\n",
    "for cap in caps2:\n",
    "    cap.set_markeredgewidth(0.5)\n",
    "for cap in caps3:\n",
    "    cap.set_markeredgewidth(0.5)\n",
    "\n",
    "# plt.show()\n",
    "plt.savefig(path_plots+\"figure_3c_top.svg\")"
   ]
  },
  {
   "cell_type": "markdown",
   "metadata": {},
   "source": [
    "### Figure 3C, bottom statistical tests"
   ]
  },
  {
   "cell_type": "code",
   "execution_count": 37,
   "metadata": {},
   "outputs": [],
   "source": [
    "df = pd.read_csv(path_exp_data+\"Exp04_pt3_CMV.csv\")\n",
    "# print(df)"
   ]
  },
  {
   "cell_type": "code",
   "execution_count": 39,
   "metadata": {},
   "outputs": [],
   "source": [
    "# run 2-way repeated measures ANOVA\n",
    "# anova_rm_table = repeated_measures_anova(path_stats, \"figure3c_bottom\", df, \"meptrs\", \"day\", \"condition\")\n",
    "# print(anova_rm_table)\n",
    "\n",
    "# run tukey's hsd\n",
    "# tukeys_table_i, tukeys_tables = tukeys_hsd(path_stats, \"figure3c_bottom\", \"meptrs\", df, [\"condition\", \"day\"], [\"condition\",\"day\"]) \n",
    "# print(tukeys_table_i)\n",
    "# for table in tukeys_tables:\n",
    "#     print(table)"
   ]
  },
  {
   "cell_type": "markdown",
   "metadata": {},
   "source": []
  },
  {
   "cell_type": "markdown",
   "metadata": {},
   "source": [
    "### Figure 3C, bottom plot"
   ]
  },
  {
   "cell_type": "code",
   "execution_count": 8,
   "metadata": {},
   "outputs": [
    {
     "name": "stdout",
     "output_type": "stream",
     "text": [
      "          condition  day        meptrs        std_err\n",
      "0          normoxia    0  5.360905e+04    3460.636595\n",
      "1          normoxia    1  3.939295e+04     752.438260\n",
      "2          normoxia    2  3.345763e+04    2708.511678\n",
      "3          normoxia    3  7.237088e+04    6252.243855\n",
      "4          normoxia    4  2.115829e+05   11118.889210\n",
      "5   normoxia_cobalt    0  5.360905e+04    3460.636595\n",
      "6   normoxia_cobalt    1  6.595375e+05   23211.844670\n",
      "7   normoxia_cobalt    2  7.653391e+05   55451.839790\n",
      "8   normoxia_cobalt    3  8.276165e+05   43420.765410\n",
      "9   normoxia_cobalt    4  1.038319e+06   97537.855370\n",
      "10          hypoxia    0  5.360905e+04    3460.636595\n",
      "11          hypoxia    1  1.235921e+06   25640.415630\n",
      "12          hypoxia    2  2.942400e+06   63314.003560\n",
      "13          hypoxia    3  3.883229e+06   81660.281560\n",
      "14          hypoxia    4  4.325980e+06  119951.754800\n"
     ]
    }
   ],
   "source": [
    "df_plot = pd.read_csv(path_exp_data+\"plot_figure3C_bottom.csv\")\n",
    "print(df_plot)\n",
    "days = [0, 1, 2, 3, 4]"
   ]
  },
  {
   "cell_type": "code",
   "execution_count": 22,
   "metadata": {},
   "outputs": [],
   "source": [
    "# normoxia data\n",
    "meptrs_normoxia = df_plot[df_plot[\"condition\"] == \"normoxia\"][\"meptrs\"].to_list()\n",
    "meptrs_normoxia_scaled = [i/1E5 for i in meptrs_normoxia]\n",
    "std_err_normoxia = df_plot[df_plot[\"condition\"] == \"normoxia\"][\"std_err\"].to_list()\n",
    "std_err_normoxia_scaled = [i/1E5 for i in std_err_normoxia]"
   ]
  },
  {
   "cell_type": "code",
   "execution_count": 23,
   "metadata": {},
   "outputs": [],
   "source": [
    "# normoxia + cobalt data\n",
    "meptrs_normoxia_cobalt = df_plot[df_plot[\"condition\"] == \"normoxia_cobalt\"][\"meptrs\"].to_list()\n",
    "meptrs_normoxia_cobalt_scaled = [i/1E5 for i in meptrs_normoxia_cobalt]\n",
    "std_err_normoxia_cobalt = df_plot[df_plot[\"condition\"] == \"normoxia_cobalt\"][\"std_err\"].to_list()\n",
    "std_err_normoxia_cobalt_scaled = [i/1E5 for i in std_err_normoxia_cobalt]"
   ]
  },
  {
   "cell_type": "code",
   "execution_count": 24,
   "metadata": {},
   "outputs": [],
   "source": [
    "# hypoxia data\n",
    "meptrs_hypoxia = df_plot[df_plot[\"condition\"] == \"hypoxia\"][\"meptrs\"].to_list()\n",
    "meptrs_hypoxia_scaled = [i/1E5 for i in meptrs_hypoxia]\n",
    "std_err_hypoxia = df_plot[df_plot[\"condition\"] == \"hypoxia\"][\"std_err\"].to_list()\n",
    "std_err_hypoxia_scaled = [i/1E5 for i in std_err_hypoxia]"
   ]
  },
  {
   "cell_type": "code",
   "execution_count": 25,
   "metadata": {},
   "outputs": [
    {
     "data": {
      "image/png": "[encoded data removed]",
      "text/plain": [
       "<Figure size 200x170 with 1 Axes>"
      ]
     },
     "metadata": {},
     "output_type": "display_data"
    }
   ],
   "source": [
    "pink_ = [(i/255) for i in [233, 140, 194]]\n",
    "normoxia_gray = [(i/255) for i in [127, 127, 127]]\n",
    "\n",
    "# create figure 2D plot\n",
    "fig, ax = plt.subplots(1, 1, figsize=(2, 1.7), sharey=True)\n",
    "(_, caps1, _) = ax.errorbar(days, meptrs_normoxia_scaled, std_err_normoxia_scaled, color=normoxia_gray, linestyle=\"-\", marker=\"o\", markersize=\"1.5\", ecolor=\"k\", capsize=1.5, elinewidth=0.5, label=\"normoxia\")\n",
    "(_, caps2, _) = ax.errorbar(days, meptrs_normoxia_cobalt_scaled, std_err_normoxia_cobalt_scaled, color=pink_, linestyle=\"-\", marker=\"o\", markersize=\"1.5\", ecolor=\"k\", capsize=1.5, elinewidth=0.5, label=\"normoxia_cobalt\")\n",
    "(_, caps3, _) = ax.errorbar(days, meptrs_hypoxia_scaled, std_err_hypoxia_scaled, color=\"mediumpurple\", linestyle=\"-\", marker=\"o\", markersize=\"1.5\", ecolor=\"k\", capsize=1.5, elinewidth=0.5, label=\"hypoxia\")\n",
    "ax.set_xlabel(\"Days post plating\")\n",
    "ax.set_xticks([0, 1, 2, 3, 4])\n",
    "ax.set_xlim(left=0)\n",
    "ax.set_ylabel(\"Mean exp. (x10^5 MEPTRs)\")\n",
    "ax.set_yticks([0, 10, 20, 30, 40, 50])\n",
    "ax.set_ylim([0, 50])\n",
    "# ax.set_box_aspect(1)\n",
    "\n",
    "for cap in caps1:\n",
    "    cap.set_markeredgewidth(0.5)\n",
    "for cap in caps2:\n",
    "    cap.set_markeredgewidth(0.5)\n",
    "for cap in caps3:\n",
    "    cap.set_markeredgewidth(0.5)\n",
    "\n",
    "# plt.show()\n",
    "plt.savefig(path_plots+\"figure_3c_bottom_test.svg\")"
   ]
  },
  {
   "cell_type": "markdown",
   "metadata": {},
   "source": [
    "### Figure 3D -- Experiment 8"
   ]
  },
  {
   "cell_type": "markdown",
   "metadata": {},
   "source": [
    "#### Figure 3D left (YB_TATA) statistical tests"
   ]
  },
  {
   "cell_type": "code",
   "execution_count": 18,
   "metadata": {},
   "outputs": [
    {
     "name": "stdout",
     "output_type": "stream",
     "text": [
      "          condition  day  subject         meptrs\n",
      "0          normoxia    0        0    4340.077533\n",
      "1          normoxia    0        1    5252.077533\n",
      "2          normoxia    0        2    4530.077533\n",
      "3          normoxia    1        0    6080.000000\n",
      "4          normoxia    1        1    4928.000000\n",
      "5          normoxia    1        2    4544.000000\n",
      "6          normoxia    2        0    1963.513333\n",
      "7          normoxia    2        1    2009.473333\n",
      "8          normoxia    2        2    2208.633333\n",
      "9          normoxia    3        0    9168.950000\n",
      "10         normoxia    3        1    5063.450000\n",
      "11         normoxia    3        2    3968.650000\n",
      "12         normoxia    4        0   35473.633330\n",
      "13         normoxia    4        1   31681.633330\n",
      "14         normoxia    4        2   35157.633330\n",
      "15  normoxia_cobalt    0        3    4340.077533\n",
      "16  normoxia_cobalt    0        4    5252.077533\n",
      "17  normoxia_cobalt    0        5    4530.077533\n",
      "18  normoxia_cobalt    1        3  125811.200000\n",
      "19  normoxia_cobalt    1        4  118899.200000\n",
      "20  normoxia_cobalt    1        5  111987.200000\n",
      "21  normoxia_cobalt    2        3  190908.903300\n",
      "22  normoxia_cobalt    2        4  180567.903300\n",
      "23  normoxia_cobalt    2        5  172524.903300\n",
      "24  normoxia_cobalt    3        3  105433.150000\n",
      "25  normoxia_cobalt    3        4  104651.150000\n",
      "26  normoxia_cobalt    3        5  105824.150000\n",
      "27  normoxia_cobalt    4        3  144809.633300\n",
      "28  normoxia_cobalt    4        4   91089.633330\n",
      "29  normoxia_cobalt    4        5  123874.633300\n",
      "30         physoxia    0        6    4340.077533\n",
      "31         physoxia    0        7    5252.077533\n",
      "32         physoxia    0        8    4530.077533\n",
      "33         physoxia    1        6    6272.000000\n",
      "34         physoxia    1        7    5696.000000\n",
      "35         physoxia    1        8   13299.200000\n",
      "36         physoxia    2        6  391600.903300\n",
      "37         physoxia    2        7  224995.903300\n",
      "38         physoxia    2        8  427985.903300\n",
      "39         physoxia    3        6  161737.150000\n",
      "40         physoxia    3        7  160564.150000\n",
      "41         physoxia    3        8  178941.150000\n",
      "42         physoxia    4        6  289379.633300\n",
      "43         physoxia    4        7  305969.633300\n",
      "44         physoxia    4        8  482534.633300\n"
     ]
    }
   ],
   "source": [
    "df = pd.read_csv(path_exp_data+\"Exp08_pt1_YBTATA.csv\")\n",
    "print(df)"
   ]
  },
  {
   "cell_type": "code",
   "execution_count": 19,
   "metadata": {},
   "outputs": [
    {
     "name": "stdout",
     "output_type": "stream",
     "text": [
      "                                  Multiple Comparison of Means - Tukey HSD, FWER=0.05                                  \n",
      "=======================================================================================================================\n",
      "              group1                            group2                meandiff   p-adj     lower        upper    reject\n",
      "-----------------------------------------------------------------------------------------------------------------------\n",
      "       condition_normoxia & day_0        condition_normoxia & day_1     476.5891    1.0 -120319.5454 121272.7237  False\n",
      "       condition_normoxia & day_0        condition_normoxia & day_2   -2646.8709    1.0 -123443.0054 118149.2637  False\n",
      "       condition_normoxia & day_0        condition_normoxia & day_3    1359.6058    1.0 -119436.5287 122155.7403  False\n",
      "       condition_normoxia & day_0        condition_normoxia & day_4   29396.8891 0.9998  -91399.2454 150193.0237  False\n",
      "       condition_normoxia & day_0 condition_normoxia_cobalt & day_0          0.0    1.0 -120796.1345 120796.1345  False\n",
      "       condition_normoxia & day_0 condition_normoxia_cobalt & day_1  114191.7891 0.0787   -6604.3454 234987.9237  False\n",
      "       condition_normoxia & day_0 condition_normoxia_cobalt & day_2  176626.4924 0.0006   55830.3579  297422.627   True\n",
      "       condition_normoxia & day_0 condition_normoxia_cobalt & day_3  100595.4058  0.185  -20200.7287 221391.5403  False\n",
      "       condition_normoxia & day_0 condition_normoxia_cobalt & day_4  115217.2224 0.0735   -5578.9121  236013.357  False\n",
      "       condition_normoxia & day_0        condition_physoxia & day_0          0.0    1.0 -120796.1345 120796.1345  False\n",
      "       condition_normoxia & day_0        condition_physoxia & day_1    3714.9891    1.0 -117081.1454 124511.1237  False\n",
      "       condition_normoxia & day_0        condition_physoxia & day_2  343486.8258    0.0  222690.6912 464282.9603   True\n",
      "       condition_normoxia & day_0        condition_physoxia & day_3  162373.4058  0.002   41577.2713 283169.5403   True\n",
      "       condition_normoxia & day_0        condition_physoxia & day_4  354587.2224    0.0  233791.0879  475383.357   True\n",
      "       condition_normoxia & day_1        condition_normoxia & day_2     -3123.46    1.0 -123919.5945 117672.6745  False\n",
      "       condition_normoxia & day_1        condition_normoxia & day_3     883.0167    1.0 -119913.1179 121679.1512  False\n",
      "       condition_normoxia & day_1        condition_normoxia & day_4      28920.3 0.9998  -91875.8345 149716.4345  False\n",
      "       condition_normoxia & day_1 condition_normoxia_cobalt & day_0    -476.5891    1.0 -121272.7237 120319.5454  False\n",
      "       condition_normoxia & day_1 condition_normoxia_cobalt & day_1     113715.2 0.0813   -7080.9345 234511.3345  False\n",
      "       condition_normoxia & day_1 condition_normoxia_cobalt & day_2  176149.9033 0.0007   55353.7688 296946.0378   True\n",
      "       condition_normoxia & day_1 condition_normoxia_cobalt & day_3  100118.8167 0.1901  -20677.3179 220914.9512  False\n",
      "       condition_normoxia & day_1 condition_normoxia_cobalt & day_4  114740.6333 0.0759   -6055.5012 235536.7678  False\n",
      "       condition_normoxia & day_1        condition_physoxia & day_0    -476.5891    1.0 -121272.7237 120319.5454  False\n",
      "       condition_normoxia & day_1        condition_physoxia & day_1       3238.4    1.0 -117557.7345 124034.5345  False\n",
      "       condition_normoxia & day_1        condition_physoxia & day_2  343010.2366    0.0  222214.1021 463806.3712   True\n",
      "       condition_normoxia & day_1        condition_physoxia & day_3  161896.8167 0.0021   41100.6821 282692.9512   True\n",
      "       condition_normoxia & day_1        condition_physoxia & day_4  354110.6333    0.0  233314.4988 474906.7678   True\n",
      "       condition_normoxia & day_2        condition_normoxia & day_3    4006.4767    1.0 -116789.6579 124802.6112  False\n",
      "       condition_normoxia & day_2        condition_normoxia & day_4     32043.76 0.9994  -88752.3745 152839.8945  False\n",
      "       condition_normoxia & day_2 condition_normoxia_cobalt & day_0    2646.8709    1.0 -118149.2637 123443.0054  False\n",
      "       condition_normoxia & day_2 condition_normoxia_cobalt & day_1    116838.66 0.0658   -3957.4745 237634.7945  False\n",
      "       condition_normoxia & day_2 condition_normoxia_cobalt & day_2  179273.3633 0.0005   58477.2288 300069.4978   True\n",
      "       condition_normoxia & day_2 condition_normoxia_cobalt & day_3  103242.2767 0.1582  -17553.8579 224038.4112  False\n",
      "       condition_normoxia & day_2 condition_normoxia_cobalt & day_4  117864.0933 0.0613   -2932.0412 238660.2278  False\n",
      "       condition_normoxia & day_2        condition_physoxia & day_0    2646.8709    1.0 -118149.2637 123443.0054  False\n",
      "       condition_normoxia & day_2        condition_physoxia & day_1      6361.86    1.0 -114434.2745 127157.9945  False\n",
      "       condition_normoxia & day_2        condition_physoxia & day_2  346133.6966    0.0  225337.5621 466929.8312   True\n",
      "       condition_normoxia & day_2        condition_physoxia & day_3  165020.2767 0.0016   44224.1421 285816.4112   True\n",
      "       condition_normoxia & day_2        condition_physoxia & day_4  357234.0933    0.0  236437.9588 478030.2278   True\n",
      "       condition_normoxia & day_3        condition_normoxia & day_4   28037.2833 0.9999  -92758.8512 148833.4179  False\n",
      "       condition_normoxia & day_3 condition_normoxia_cobalt & day_0   -1359.6058    1.0 -122155.7403 119436.5287  False\n",
      "       condition_normoxia & day_3 condition_normoxia_cobalt & day_1  112832.1833 0.0862   -7963.9512 233628.3179  False\n",
      "       condition_normoxia & day_3 condition_normoxia_cobalt & day_2  175266.8866 0.0007   54470.7521 296063.0212   True\n",
      "       condition_normoxia & day_3 condition_normoxia_cobalt & day_3      99235.8    0.2  -21560.3345 220031.9345  False\n",
      "       condition_normoxia & day_3 condition_normoxia_cobalt & day_4  113857.6166 0.0805   -6938.5179 234653.7512  False\n",
      "       condition_normoxia & day_3        condition_physoxia & day_0   -1359.6058    1.0 -122155.7403 119436.5287  False\n",
      "       condition_normoxia & day_3        condition_physoxia & day_1    2355.3833    1.0 -118440.7512 123151.5179  False\n",
      "       condition_normoxia & day_3        condition_physoxia & day_2    342127.22    0.0  221331.0854 462923.3545   True\n",
      "       condition_normoxia & day_3        condition_physoxia & day_3     161013.8 0.0023   40217.6655 281809.9345   True\n",
      "       condition_normoxia & day_3        condition_physoxia & day_4  353227.6166    0.0  232431.4821 474023.7512   True\n",
      "       condition_normoxia & day_4 condition_normoxia_cobalt & day_0  -29396.8891 0.9998 -150193.0237  91399.2454  False\n",
      "       condition_normoxia & day_4 condition_normoxia_cobalt & day_1      84794.9 0.4159  -36001.2345 205591.0345  False\n",
      "       condition_normoxia & day_4 condition_normoxia_cobalt & day_2  147229.6033 0.0068   26433.4688 268025.7378   True\n",
      "       condition_normoxia & day_4 condition_normoxia_cobalt & day_3   71198.5167 0.6804  -49597.6179 191994.6512  False\n",
      "       condition_normoxia & day_4 condition_normoxia_cobalt & day_4   85820.3333 0.3974  -34975.8012 206616.4678  False\n",
      "       condition_normoxia & day_4        condition_physoxia & day_0  -29396.8891 0.9998 -150193.0237  91399.2454  False\n",
      "       condition_normoxia & day_4        condition_physoxia & day_1     -25681.9    1.0 -146478.0345  95114.2345  False\n",
      "       condition_normoxia & day_4        condition_physoxia & day_2  314089.9366    0.0  193293.8021 434886.0712   True\n",
      "       condition_normoxia & day_4        condition_physoxia & day_3  132976.5167 0.0206   12180.3821 253772.6512   True\n",
      "       condition_normoxia & day_4        condition_physoxia & day_4  325190.3333    0.0  204394.1988 445986.4678   True\n",
      "condition_normoxia_cobalt & day_0 condition_normoxia_cobalt & day_1  114191.7891 0.0787   -6604.3454 234987.9237  False\n",
      "condition_normoxia_cobalt & day_0 condition_normoxia_cobalt & day_2  176626.4924 0.0006   55830.3579  297422.627   True\n",
      "condition_normoxia_cobalt & day_0 condition_normoxia_cobalt & day_3  100595.4058  0.185  -20200.7287 221391.5403  False\n",
      "condition_normoxia_cobalt & day_0 condition_normoxia_cobalt & day_4  115217.2224 0.0735   -5578.9121  236013.357  False\n",
      "condition_normoxia_cobalt & day_0        condition_physoxia & day_0          0.0    1.0 -120796.1345 120796.1345  False\n",
      "condition_normoxia_cobalt & day_0        condition_physoxia & day_1    3714.9891    1.0 -117081.1454 124511.1237  False\n",
      "condition_normoxia_cobalt & day_0        condition_physoxia & day_2  343486.8258    0.0  222690.6912 464282.9603   True\n",
      "condition_normoxia_cobalt & day_0        condition_physoxia & day_3  162373.4058  0.002   41577.2713 283169.5403   True\n",
      "condition_normoxia_cobalt & day_0        condition_physoxia & day_4  354587.2224    0.0  233791.0879  475383.357   True\n",
      "condition_normoxia_cobalt & day_1 condition_normoxia_cobalt & day_2   62434.7033 0.8331  -58361.4312 183230.8378  False\n",
      "condition_normoxia_cobalt & day_1 condition_normoxia_cobalt & day_3  -13596.3833    1.0 -134392.5179 107199.7512  False\n",
      "condition_normoxia_cobalt & day_1 condition_normoxia_cobalt & day_4    1025.4333    1.0 -119770.7012 121821.5678  False\n",
      "condition_normoxia_cobalt & day_1        condition_physoxia & day_0 -114191.7891 0.0787 -234987.9237   6604.3454  False\n",
      "condition_normoxia_cobalt & day_1        condition_physoxia & day_1    -110476.8 0.1006 -231272.9345  10319.3345  False\n",
      "condition_normoxia_cobalt & day_1        condition_physoxia & day_2  229295.0366    0.0  108498.9021 350091.1712   True\n",
      "condition_normoxia_cobalt & day_1        condition_physoxia & day_3   48181.6167 0.9716  -72614.5179 168977.7512  False\n",
      "condition_normoxia_cobalt & day_1        condition_physoxia & day_4  240395.4333    0.0  119599.2988 361191.5678   True\n",
      "condition_normoxia_cobalt & day_2 condition_normoxia_cobalt & day_3  -76031.0866 0.5853 -196827.2212  44765.0479  False\n",
      "condition_normoxia_cobalt & day_2 condition_normoxia_cobalt & day_4    -61409.27  0.848 -182205.4045  59386.8645  False\n",
      "condition_normoxia_cobalt & day_2        condition_physoxia & day_0 -176626.4924 0.0006  -297422.627 -55830.3579   True\n",
      "condition_normoxia_cobalt & day_2        condition_physoxia & day_1 -172911.5033 0.0009 -293707.6378 -52115.3688   True\n",
      "condition_normoxia_cobalt & day_2        condition_physoxia & day_2  166860.3333 0.0014   46064.1988 287656.4679   True\n",
      "condition_normoxia_cobalt & day_2        condition_physoxia & day_3  -14253.0866    1.0 -135049.2212 106543.0479  False\n",
      "condition_normoxia_cobalt & day_2        condition_physoxia & day_4    177960.73 0.0006   57164.5955 298756.8645   True\n",
      "condition_normoxia_cobalt & day_3 condition_normoxia_cobalt & day_4   14621.8166    1.0 -106174.3179 135417.9512  False\n",
      "condition_normoxia_cobalt & day_3        condition_physoxia & day_0 -100595.4058  0.185 -221391.5403  20200.7287  False\n",
      "condition_normoxia_cobalt & day_3        condition_physoxia & day_1  -96880.4167 0.2282 -217676.5512  23915.7179  False\n",
      "condition_normoxia_cobalt & day_3        condition_physoxia & day_2    242891.42    0.0  122095.2854 363687.5545   True\n",
      "condition_normoxia_cobalt & day_3        condition_physoxia & day_3      61778.0 0.8427  -59018.1345 182574.1345  False\n",
      "condition_normoxia_cobalt & day_3        condition_physoxia & day_4  253991.8166    0.0  133195.6821 374787.9512   True\n",
      "condition_normoxia_cobalt & day_4        condition_physoxia & day_0 -115217.2224 0.0735  -236013.357   5578.9121  False\n",
      "condition_normoxia_cobalt & day_4        condition_physoxia & day_1 -111502.2333 0.0941 -232298.3678   9293.9012  False\n",
      "condition_normoxia_cobalt & day_4        condition_physoxia & day_2  228269.6033    0.0  107473.4688 349065.7379   True\n",
      "condition_normoxia_cobalt & day_4        condition_physoxia & day_3   47156.1834 0.9761  -73639.9512 167952.3179  False\n",
      "condition_normoxia_cobalt & day_4        condition_physoxia & day_4     239370.0    0.0  118573.8655 360166.1345   True\n",
      "       condition_physoxia & day_0        condition_physoxia & day_1    3714.9891    1.0 -117081.1454 124511.1237  False\n",
      "       condition_physoxia & day_0        condition_physoxia & day_2  343486.8258    0.0  222690.6912 464282.9603   True\n",
      "       condition_physoxia & day_0        condition_physoxia & day_3  162373.4058  0.002   41577.2713 283169.5403   True\n",
      "       condition_physoxia & day_0        condition_physoxia & day_4  354587.2224    0.0  233791.0879  475383.357   True\n",
      "       condition_physoxia & day_1        condition_physoxia & day_2  339771.8366    0.0  218975.7021 460567.9712   True\n",
      "       condition_physoxia & day_1        condition_physoxia & day_3  158658.4167 0.0027   37862.2821 279454.5512   True\n",
      "       condition_physoxia & day_1        condition_physoxia & day_4  350872.2333    0.0  230076.0988 471668.3678   True\n",
      "       condition_physoxia & day_2        condition_physoxia & day_3   -181113.42 0.0004 -301909.5545 -60317.2854   True\n",
      "       condition_physoxia & day_2        condition_physoxia & day_4   11100.3967    1.0 -109695.7379 131896.5312  False\n",
      "       condition_physoxia & day_3        condition_physoxia & day_4  192213.8166 0.0002   71417.6821 313009.9512   True\n",
      "-----------------------------------------------------------------------------------------------------------------------\n",
      "              Multiple Comparison of Means - Tukey HSD, FWER=0.05               \n",
      "================================================================================\n",
      "     group1          group2      meandiff  p-adj     lower       upper    reject\n",
      "--------------------------------------------------------------------------------\n",
      "       normoxia normoxia_cobalt 95608.9393 0.0427   2607.7503 188610.1283   True\n",
      "       normoxia        physoxia 167115.246 0.0002   74114.057  260116.435   True\n",
      "normoxia_cobalt        physoxia 71506.3067 0.1606 -21494.8823 164507.4957  False\n",
      "--------------------------------------------------------------------------------\n",
      "      Multiple Comparison of Means - Tukey HSD, FWER=0.05       \n",
      "================================================================\n",
      "group1 group2   meandiff  p-adj     lower        upper    reject\n",
      "----------------------------------------------------------------\n",
      "     0      1  39461.1225 0.9355 -105437.3459 184359.5908  False\n",
      "     0      2 172488.8158 0.0126   27590.3474 317387.2841   True\n",
      "     0      3  88109.4725 0.4239  -56788.9959 233007.9408  False\n",
      "     0      4 166400.4447 0.0174   21501.9763  311298.913   True\n",
      "     1      2 133027.6933 0.0853  -11870.7751 277926.1617  False\n",
      "     1      3    48648.35 0.8717  -96250.1184 193546.8184  False\n",
      "     1      4 126939.3222 0.1104  -17959.1462 271837.7906  False\n",
      "     2      3 -84379.3433 0.4675 -229277.8117  60519.1251  False\n",
      "     2      4  -6088.3711    1.0 -150986.8395 138810.0973  False\n",
      "     3      4  78290.9722 0.5414  -66607.4962 223189.4406  False\n",
      "----------------------------------------------------------------\n"
     ]
    }
   ],
   "source": [
    "# run 2-way repeated measures ANOVA\n",
    "anova_rm_table = repeated_measures_anova(path_stats, \"figure3d_left\", df, \"meptrs\", \"day\", \"condition\")\n",
    "# print(anova_rm_table)\n",
    "\n",
    "# run tukey's hsd\n",
    "tukeys_table_i, tukeys_tables = tukeys_hsd(path_stats, \"figure3d_left\", \"meptrs\", df, [\"condition\", \"day\"], [\"condition\",\"day\"]) \n",
    "print(tukeys_table_i)\n",
    "for table in tukeys_tables:\n",
    "    print(table)"
   ]
  },
  {
   "cell_type": "markdown",
   "metadata": {},
   "source": [
    "#### Figure 3D left (YB_TATA) plot"
   ]
  },
  {
   "cell_type": "code",
   "execution_count": 3,
   "metadata": {},
   "outputs": [
    {
     "name": "stdout",
     "output_type": "stream",
     "text": [
      "          condition  day         meptrs       std_err\n",
      "0          normoxia    0    4707.410867    290.171716\n",
      "1          normoxia    1    5184.000000    473.934195\n",
      "2          normoxia    2    2060.540000  -2864.695662\n",
      "3          normoxia    3    6067.016667   1587.777895\n",
      "4          normoxia    4   34104.300000   1401.724203\n",
      "5   normoxia_cobalt    0    4707.410867    290.171716\n",
      "6   normoxia_cobalt    1  118899.200000   4680.696200\n",
      "7   normoxia_cobalt    2   34958.179560   5365.840931\n",
      "8   normoxia_cobalt    3  105302.816700   2182.010778\n",
      "9   normoxia_cobalt    4  119924.633300  15825.137500\n",
      "10         physoxia    0    4707.410867    290.171716\n",
      "11         physoxia    1    8422.400000   2450.247662\n",
      "12         physoxia    2  201818.512900  62616.434020\n",
      "13         physoxia    3  167080.816700   6853.331839\n",
      "14         physoxia    4  359294.633300  62243.432130\n"
     ]
    }
   ],
   "source": [
    "df_plot = pd.read_csv(path_exp_data+\"plot_figure3D_left.csv\")\n",
    "print(df_plot)\n",
    "days = [0, 1, 2, 3, 4]"
   ]
  },
  {
   "cell_type": "code",
   "execution_count": 4,
   "metadata": {},
   "outputs": [],
   "source": [
    "# normoxia data\n",
    "meptrs_normoxia = df_plot[df_plot[\"condition\"] == \"normoxia\"][\"meptrs\"].to_list()\n",
    "meptrs_normoxia_scaled = [i/1E5 for i in meptrs_normoxia]\n",
    "std_err_normoxia = df_plot[df_plot[\"condition\"] == \"normoxia\"][\"std_err\"].to_list()\n",
    "std_err_normoxia_scaled = [i/1E5 for i in std_err_normoxia]"
   ]
  },
  {
   "cell_type": "code",
   "execution_count": 5,
   "metadata": {},
   "outputs": [],
   "source": [
    "# normoxia + cobalt data\n",
    "meptrs_normoxia_cobalt = df_plot[df_plot[\"condition\"] == \"normoxia_cobalt\"][\"meptrs\"].to_list()\n",
    "meptrs_normoxia_cobalt_scaled = [i/1E5 for i in meptrs_normoxia_cobalt]\n",
    "std_err_normoxia_cobalt = df_plot[df_plot[\"condition\"] == \"normoxia_cobalt\"][\"std_err\"].to_list()\n",
    "std_err_normoxia_cobalt_scaled = [i/1E5 for i in std_err_normoxia_cobalt]"
   ]
  },
  {
   "cell_type": "code",
   "execution_count": 6,
   "metadata": {},
   "outputs": [],
   "source": [
    "# physoxia data\n",
    "meptrs_physoxia = df_plot[df_plot[\"condition\"] == \"physoxia\"][\"meptrs\"].to_list()\n",
    "meptrs_physoxia_scaled = [i/1E5 for i in meptrs_physoxia]\n",
    "std_err_physoxia = df_plot[df_plot[\"condition\"] == \"physoxia\"][\"std_err\"].to_list()\n",
    "std_err_physoxia_scaled = [i/1E5 for i in std_err_physoxia]"
   ]
  },
  {
   "cell_type": "code",
   "execution_count": 7,
   "metadata": {},
   "outputs": [
    {
     "data": {
      "image/png": "[encoded data removed]",
      "text/plain": [
       "<Figure size 200x170 with 1 Axes>"
      ]
     },
     "metadata": {},
     "output_type": "display_data"
    }
   ],
   "source": [
    "pink_ = [(i/255) for i in [233, 140, 194]]\n",
    "normoxia_gray = [(i/255) for i in [127, 127, 127]]\n",
    "blue_ = [(i/255) for i in [86, 180, 233]]\n",
    "\n",
    "# create figure 2D plot\n",
    "fig, ax = plt.subplots(1, 1, figsize=(2, 1.7), sharey=True)\n",
    "(_, caps1, _) = ax.errorbar(days, meptrs_normoxia_scaled, std_err_normoxia_scaled, color=normoxia_gray, linestyle=\"-\", marker=\"o\", markersize=\"1.5\", ecolor=\"k\", capsize=1.5, elinewidth=0.5, label=\"normoxia\")\n",
    "(_, caps2, _) = ax.errorbar(days, meptrs_normoxia_cobalt_scaled, std_err_normoxia_cobalt_scaled, color=pink_, linestyle=\"-\", marker=\"o\", markersize=\"1.5\", ecolor=\"k\", capsize=1.5, elinewidth=0.5, label=\"normoxia_cobalt\")\n",
    "(_, caps3, _) = ax.errorbar(days, meptrs_physoxia_scaled, std_err_physoxia_scaled, color=blue_, linestyle=\"-\", marker=\"o\", markersize=\"1.5\", ecolor=\"k\", capsize=1.5, elinewidth=0.5, label=\"physoxia\")\n",
    "ax.set_xlabel(\"Days of treatment\")\n",
    "ax.set_xticks([0, 1, 2, 3, 4])\n",
    "ax.set_xlim(left=0)\n",
    "ax.set_ylabel(\"Mean exp. (x10^5 MEPTRs)\")\n",
    "ax.set_yticks([0, 10, 20, 30, 40, 50])\n",
    "# ax.set_ylim(bottom=0)\n",
    "ax.set_ylim([0,50])\n",
    "# ax.set_box_aspect(1)\n",
    "\n",
    "for cap in caps1:\n",
    "    cap.set_markeredgewidth(0.5)\n",
    "for cap in caps2:\n",
    "    cap.set_markeredgewidth(0.5)\n",
    "for cap in caps3:\n",
    "    cap.set_markeredgewidth(0.5)\n",
    "\n",
    "# plt.show()\n",
    "plt.savefig(path_plots+\"figure_3D_left.svg\")"
   ]
  },
  {
   "cell_type": "markdown",
   "metadata": {},
   "source": [
    "#### Figure 3D right (CMV) statistical tests"
   ]
  },
  {
   "cell_type": "code",
   "execution_count": 20,
   "metadata": {},
   "outputs": [
    {
     "name": "stdout",
     "output_type": "stream",
     "text": [
      "          condition  day  subject        meptrs\n",
      "0          normoxia    0        0  5.613408e+04\n",
      "1          normoxia    0        1  5.879408e+04\n",
      "2          normoxia    0        2  5.727408e+04\n",
      "3          normoxia    1        0  5.285120e+04\n",
      "4          normoxia    1        1  5.285120e+04\n",
      "5          normoxia    1        2  5.553920e+04\n",
      "6          normoxia    2        0  4.000690e+04\n",
      "7          normoxia    2        1  4.000690e+04\n",
      "8          normoxia    2        2  4.192190e+04\n",
      "9          normoxia    3        0  6.789715e+04\n",
      "10         normoxia    3        1  6.711515e+04\n",
      "11         normoxia    3        2  4.248215e+04\n",
      "12         normoxia    4        0  1.606096e+05\n",
      "13         normoxia    4        1  1.728546e+05\n",
      "14         normoxia    4        2  1.598196e+05\n",
      "15  normoxia_cobalt    0        3  5.613408e+04\n",
      "16  normoxia_cobalt    0        4  5.879408e+04\n",
      "17  normoxia_cobalt    0        5  5.727408e+04\n",
      "18  normoxia_cobalt    1        3  5.643392e+05\n",
      "19  normoxia_cobalt    1        4  5.731712e+05\n",
      "20  normoxia_cobalt    1        5  6.357632e+05\n",
      "21  normoxia_cobalt    2        3  9.902299e+05\n",
      "22  normoxia_cobalt    2        4  1.008614e+06\n",
      "23  normoxia_cobalt    2        5  9.925279e+05\n",
      "24  normoxia_cobalt    3        3  6.942792e+05\n",
      "25  normoxia_cobalt    3        4  7.427632e+05\n",
      "26  normoxia_cobalt    3        5  6.938882e+05\n",
      "27  normoxia_cobalt    4        3  5.500796e+05\n",
      "28  normoxia_cobalt    4        4  5.907646e+05\n",
      "29  normoxia_cobalt    4        5  6.342146e+05\n",
      "30         physoxia    0        6  5.613408e+04\n",
      "31         physoxia    0        7  5.879408e+04\n",
      "32         physoxia    0        8  5.727408e+04\n",
      "33         physoxia    1        6  2.145152e+05\n",
      "34         physoxia    1        7  3.339392e+05\n",
      "35         physoxia    1        8  2.390912e+05\n",
      "36         physoxia    2        6  9.511639e+05\n",
      "37         physoxia    2        7  1.275182e+06\n",
      "38         physoxia    2        8  1.046148e+06\n",
      "39         physoxia    3        6  1.036795e+06\n",
      "40         physoxia    3        7  1.612738e+06\n",
      "41         physoxia    3        8  1.112649e+06\n",
      "42         physoxia    4        6  1.238170e+06\n",
      "43         physoxia    4        7  1.097550e+06\n",
      "44         physoxia    4        8  1.065555e+06\n"
     ]
    }
   ],
   "source": [
    "df = pd.read_csv(path_exp_data+\"Exp08_pt2_CMV.csv\")\n",
    "print(df)"
   ]
  },
  {
   "cell_type": "code",
   "execution_count": 21,
   "metadata": {},
   "outputs": [
    {
     "name": "stdout",
     "output_type": "stream",
     "text": [
      "                                   Multiple Comparison of Means - Tukey HSD, FWER=0.05                                   \n",
      "=========================================================================================================================\n",
      "              group1                            group2                meandiff   p-adj      lower        upper     reject\n",
      "-------------------------------------------------------------------------------------------------------------------------\n",
      "       condition_normoxia & day_0        condition_normoxia & day_1   -3653.5442    1.0  -296942.8622  289635.7738  False\n",
      "       condition_normoxia & day_0        condition_normoxia & day_2  -16755.5075    1.0  -310044.8255  276533.8104  False\n",
      "       condition_normoxia & day_0        condition_normoxia & day_3    1764.0725    1.0  -291525.2455  295053.3904  False\n",
      "       condition_normoxia & day_0        condition_normoxia & day_4  107027.2224 0.9865  -186262.0955  400316.5404  False\n",
      "       condition_normoxia & day_0 condition_normoxia_cobalt & day_0          0.0    1.0   -293289.318   293289.318  False\n",
      "       condition_normoxia & day_0 condition_normoxia_cobalt & day_1  533690.4558    0.0   240401.1378  826979.7738   True\n",
      "       condition_normoxia & day_0 condition_normoxia_cobalt & day_2   939723.159    0.0    646433.841  1233012.477   True\n",
      "       condition_normoxia & day_0 condition_normoxia_cobalt & day_3  652909.4058    0.0   359620.0878  946198.7238   True\n",
      "       condition_normoxia & day_0 condition_normoxia_cobalt & day_4  534285.5558    0.0   240996.2378  827574.8737   True\n",
      "       condition_normoxia & day_0        condition_physoxia & day_0          0.0    1.0   -293289.318   293289.318  False\n",
      "       condition_normoxia & day_0        condition_physoxia & day_1  205114.4558 0.4216   -88174.8622  498403.7738  False\n",
      "       condition_normoxia & day_0        condition_physoxia & day_2 1033430.4922    0.0   740141.1743 1326719.8102   True\n",
      "       condition_normoxia & day_0        condition_physoxia & day_3 1196660.0725    0.0   903370.7545 1489949.3904   True\n",
      "       condition_normoxia & day_0        condition_physoxia & day_4 1076357.2221    0.0   783067.9042 1369646.5401   True\n",
      "       condition_normoxia & day_1        condition_normoxia & day_2  -13101.9633    1.0  -306391.2813  280187.3546  False\n",
      "       condition_normoxia & day_1        condition_normoxia & day_3    5417.6167    1.0  -287871.7013  298706.9346  False\n",
      "       condition_normoxia & day_1        condition_normoxia & day_4  110680.7666  0.982  -182608.5513  403970.0846  False\n",
      "       condition_normoxia & day_1 condition_normoxia_cobalt & day_0    3653.5442    1.0  -289635.7738  296942.8622  False\n",
      "       condition_normoxia & day_1 condition_normoxia_cobalt & day_1     537344.0    0.0    244054.682   830633.318   True\n",
      "       condition_normoxia & day_1 condition_normoxia_cobalt & day_2  943376.7032    0.0   650087.3852 1236666.0212   True\n",
      "       condition_normoxia & day_1 condition_normoxia_cobalt & day_3    656562.95    0.0    363273.632   949852.268   True\n",
      "       condition_normoxia & day_1 condition_normoxia_cobalt & day_4     537939.1    0.0    244649.782  831228.4179   True\n",
      "       condition_normoxia & day_1        condition_physoxia & day_0    3653.5442    1.0  -289635.7738  296942.8622  False\n",
      "       condition_normoxia & day_1        condition_physoxia & day_1     208768.0 0.3945    -84521.318   502057.318  False\n",
      "       condition_normoxia & day_1        condition_physoxia & day_2 1037084.0364    0.0   743794.7185 1330373.3544   True\n",
      "       condition_normoxia & day_1        condition_physoxia & day_3 1200313.6167    0.0   907024.2987 1493602.9346   True\n",
      "       condition_normoxia & day_1        condition_physoxia & day_4 1080010.7663    0.0   786721.4484 1373300.0843   True\n",
      "       condition_normoxia & day_2        condition_normoxia & day_3     18519.58    1.0   -274769.738   311808.898  False\n",
      "       condition_normoxia & day_2        condition_normoxia & day_4    123782.73 0.9559   -169506.588  417072.0479  False\n",
      "       condition_normoxia & day_2 condition_normoxia_cobalt & day_0   16755.5075    1.0  -276533.8104  310044.8255  False\n",
      "       condition_normoxia & day_2 condition_normoxia_cobalt & day_1  550445.9633    0.0   257156.6454  843735.2813   True\n",
      "       condition_normoxia & day_2 condition_normoxia_cobalt & day_2  956478.6665    0.0   663189.3486 1249767.9845   True\n",
      "       condition_normoxia & day_2 condition_normoxia_cobalt & day_3  669664.9133    0.0   376375.5954  962954.2313   True\n",
      "       condition_normoxia & day_2 condition_normoxia_cobalt & day_4  551041.0633    0.0   257751.7453  844330.3813   True\n",
      "       condition_normoxia & day_2        condition_physoxia & day_0   16755.5075    1.0  -276533.8104  310044.8255  False\n",
      "       condition_normoxia & day_2        condition_physoxia & day_1  221869.9633  0.305   -71419.3546  515159.2813  False\n",
      "       condition_normoxia & day_2        condition_physoxia & day_2 1050185.9998    0.0   756896.6818 1343475.3177   True\n",
      "       condition_normoxia & day_2        condition_physoxia & day_3   1213415.58    0.0    920126.262  1506704.898   True\n",
      "       condition_normoxia & day_2        condition_physoxia & day_4 1093112.7297    0.0   799823.4117 1386402.0476   True\n",
      "       condition_normoxia & day_3        condition_normoxia & day_4    105263.15 0.9883   -188026.168  398552.4679  False\n",
      "       condition_normoxia & day_3 condition_normoxia_cobalt & day_0   -1764.0725    1.0  -295053.3904  291525.2455  False\n",
      "       condition_normoxia & day_3 condition_normoxia_cobalt & day_1  531926.3833    0.0   238637.0654  825215.7013   True\n",
      "       condition_normoxia & day_3 condition_normoxia_cobalt & day_2  937959.0865    0.0   644669.7686 1231248.4045   True\n",
      "       condition_normoxia & day_3 condition_normoxia_cobalt & day_3  651145.3333    0.0   357856.0154  944434.6513   True\n",
      "       condition_normoxia & day_3 condition_normoxia_cobalt & day_4  532521.4833    0.0   239232.1653  825810.8013   True\n",
      "       condition_normoxia & day_3        condition_physoxia & day_0   -1764.0725    1.0  -295053.3904  291525.2455  False\n",
      "       condition_normoxia & day_3        condition_physoxia & day_1  203350.3833  0.435   -89938.9346  496639.7013  False\n",
      "       condition_normoxia & day_3        condition_physoxia & day_2 1031666.4198    0.0   738377.1018 1324955.7377   True\n",
      "       condition_normoxia & day_3        condition_physoxia & day_3    1194896.0    0.0    901606.682  1488185.318   True\n",
      "       condition_normoxia & day_3        condition_physoxia & day_4 1074593.1497    0.0   781303.8317 1367882.4676   True\n",
      "       condition_normoxia & day_4 condition_normoxia_cobalt & day_0 -107027.2224 0.9865  -400316.5404  186262.0955  False\n",
      "       condition_normoxia & day_4 condition_normoxia_cobalt & day_1  426663.2334 0.0007   133373.9154  719952.5513   True\n",
      "       condition_normoxia & day_4 condition_normoxia_cobalt & day_2  832695.9366    0.0   539406.6186 1125985.2545   True\n",
      "       condition_normoxia & day_4 condition_normoxia_cobalt & day_3  545882.1834    0.0   252592.8654  839171.5013   True\n",
      "       condition_normoxia & day_4 condition_normoxia_cobalt & day_4  427258.3333 0.0007   133969.0154  720547.6513   True\n",
      "       condition_normoxia & day_4        condition_physoxia & day_0 -107027.2224 0.9865  -400316.5404  186262.0955  False\n",
      "       condition_normoxia & day_4        condition_physoxia & day_1   98087.2334 0.9939  -195202.0846  391376.5513  False\n",
      "       condition_normoxia & day_4        condition_physoxia & day_2  926403.2698    0.0   633113.9518 1219692.5878   True\n",
      "       condition_normoxia & day_4        condition_physoxia & day_3   1089632.85    0.0   796343.5321  1382922.168   True\n",
      "       condition_normoxia & day_4        condition_physoxia & day_4  969329.9997    0.0   676040.6817 1262619.3177   True\n",
      "condition_normoxia_cobalt & day_0 condition_normoxia_cobalt & day_1  533690.4558    0.0   240401.1378  826979.7738   True\n",
      "condition_normoxia_cobalt & day_0 condition_normoxia_cobalt & day_2   939723.159    0.0    646433.841  1233012.477   True\n",
      "condition_normoxia_cobalt & day_0 condition_normoxia_cobalt & day_3  652909.4058    0.0   359620.0878  946198.7238   True\n",
      "condition_normoxia_cobalt & day_0 condition_normoxia_cobalt & day_4  534285.5558    0.0   240996.2378  827574.8737   True\n",
      "condition_normoxia_cobalt & day_0        condition_physoxia & day_0          0.0    1.0   -293289.318   293289.318  False\n",
      "condition_normoxia_cobalt & day_0        condition_physoxia & day_1  205114.4558 0.4216   -88174.8622  498403.7738  False\n",
      "condition_normoxia_cobalt & day_0        condition_physoxia & day_2 1033430.4922    0.0   740141.1743 1326719.8102   True\n",
      "condition_normoxia_cobalt & day_0        condition_physoxia & day_3 1196660.0725    0.0   903370.7545 1489949.3904   True\n",
      "condition_normoxia_cobalt & day_0        condition_physoxia & day_4 1076357.2221    0.0   783067.9042 1369646.5401   True\n",
      "condition_normoxia_cobalt & day_1 condition_normoxia_cobalt & day_2  406032.7032 0.0014   112743.3852  699322.0212   True\n",
      "condition_normoxia_cobalt & day_1 condition_normoxia_cobalt & day_3    119218.95  0.967   -174070.368   412508.268  False\n",
      "condition_normoxia_cobalt & day_1 condition_normoxia_cobalt & day_4        595.1    1.0   -292694.218  293884.4179  False\n",
      "condition_normoxia_cobalt & day_1        condition_physoxia & day_0 -533690.4558    0.0  -826979.7738 -240401.1378   True\n",
      "condition_normoxia_cobalt & day_1        condition_physoxia & day_1    -328576.0 0.0172   -621865.318   -35286.682   True\n",
      "condition_normoxia_cobalt & day_1        condition_physoxia & day_2  499740.0364 0.0001   206450.7185  793029.3544   True\n",
      "condition_normoxia_cobalt & day_1        condition_physoxia & day_3  662969.6167    0.0   369680.2987  956258.9346   True\n",
      "condition_normoxia_cobalt & day_1        condition_physoxia & day_4  542666.7663    0.0   249377.4484  835956.0843   True\n",
      "condition_normoxia_cobalt & day_2 condition_normoxia_cobalt & day_3 -286813.7532 0.0602  -580103.0712    6475.5648  False\n",
      "condition_normoxia_cobalt & day_2 condition_normoxia_cobalt & day_4 -405437.6032 0.0014  -698726.9212 -112148.2853   True\n",
      "condition_normoxia_cobalt & day_2        condition_physoxia & day_0  -939723.159    0.0  -1233012.477  -646433.841   True\n",
      "condition_normoxia_cobalt & day_2        condition_physoxia & day_1 -734608.7032    0.0 -1027898.0212 -441319.3852   True\n",
      "condition_normoxia_cobalt & day_2        condition_physoxia & day_2   93707.3332  0.996  -199581.9847  386996.6512  False\n",
      "condition_normoxia_cobalt & day_2        condition_physoxia & day_3  256936.9135 0.1351   -36352.4045  550226.2314  False\n",
      "condition_normoxia_cobalt & day_2        condition_physoxia & day_4  136634.0631 0.9114  -156655.2548  429923.3811  False\n",
      "condition_normoxia_cobalt & day_3 condition_normoxia_cobalt & day_4   -118623.85 0.9682   -411913.168  174665.4679  False\n",
      "condition_normoxia_cobalt & day_3        condition_physoxia & day_0 -652909.4058    0.0  -946198.7238 -359620.0878   True\n",
      "condition_normoxia_cobalt & day_3        condition_physoxia & day_1   -447794.95 0.0003   -741084.268  -154505.632   True\n",
      "condition_normoxia_cobalt & day_3        condition_physoxia & day_2  380521.0864 0.0032    87231.7685  673810.4044   True\n",
      "condition_normoxia_cobalt & day_3        condition_physoxia & day_3  543750.6667    0.0   250461.3487  837039.9846   True\n",
      "condition_normoxia_cobalt & day_3        condition_physoxia & day_4  423447.8163 0.0008   130158.4984  716737.1343   True\n",
      "condition_normoxia_cobalt & day_4        condition_physoxia & day_0 -534285.5558    0.0  -827574.8737 -240996.2378   True\n",
      "condition_normoxia_cobalt & day_4        condition_physoxia & day_1    -329171.1 0.0169  -622460.4179   -35881.782   True\n",
      "condition_normoxia_cobalt & day_4        condition_physoxia & day_2  499144.9365 0.0001   205855.6185  792434.2544   True\n",
      "condition_normoxia_cobalt & day_4        condition_physoxia & day_3  662374.5167    0.0   369085.1987  955663.8347   True\n",
      "condition_normoxia_cobalt & day_4        condition_physoxia & day_4  542071.6664    0.0   248782.3484  835360.9843   True\n",
      "       condition_physoxia & day_0        condition_physoxia & day_1  205114.4558 0.4216   -88174.8622  498403.7738  False\n",
      "       condition_physoxia & day_0        condition_physoxia & day_2 1033430.4922    0.0   740141.1743 1326719.8102   True\n",
      "       condition_physoxia & day_0        condition_physoxia & day_3 1196660.0725    0.0   903370.7545 1489949.3904   True\n",
      "       condition_physoxia & day_0        condition_physoxia & day_4 1076357.2221    0.0   783067.9042 1369646.5401   True\n",
      "       condition_physoxia & day_1        condition_physoxia & day_2  828316.0364    0.0   535026.7185 1121605.3544   True\n",
      "       condition_physoxia & day_1        condition_physoxia & day_3  991545.6167    0.0   698256.2987 1284834.9346   True\n",
      "       condition_physoxia & day_1        condition_physoxia & day_4  871242.7663    0.0   577953.4484 1164532.0843   True\n",
      "       condition_physoxia & day_2        condition_physoxia & day_3  163229.5802 0.7542  -130059.7377  456518.8982  False\n",
      "       condition_physoxia & day_2        condition_physoxia & day_4   42926.7299    1.0  -250362.5881  336216.0479  False\n",
      "       condition_physoxia & day_3        condition_physoxia & day_4 -120302.8503 0.9645  -413592.1683  172986.4676  False\n",
      "-------------------------------------------------------------------------------------------------------------------------\n",
      "                Multiple Comparison of Means - Tukey HSD, FWER=0.05                \n",
      "===================================================================================\n",
      "     group1          group2       meandiff  p-adj     lower        upper     reject\n",
      "-----------------------------------------------------------------------------------\n",
      "       normoxia normoxia_cobalt 514445.2666 0.0009  196043.0493   832847.484   True\n",
      "       normoxia        physoxia 684635.9999    0.0  366233.7825 1003038.2173   True\n",
      "normoxia_cobalt        physoxia 170190.7333 0.4039 -148211.4841  488592.9506  False\n",
      "-----------------------------------------------------------------------------------\n",
      "       Multiple Comparison of Means - Tukey HSD, FWER=0.05       \n",
      "=================================================================\n",
      "group1 group2   meandiff  p-adj     lower        upper     reject\n",
      "-----------------------------------------------------------------\n",
      "     0      1 245050.4558 0.6877 -289923.1337  780024.0453  False\n",
      "     0      2 652132.7146 0.0101  117159.1251  1187106.304   True\n",
      "     0      3 617111.1836 0.0167   82137.5941 1152084.7731   True\n",
      "     0      4 572556.6668 0.0307   37583.0773 1107530.2563   True\n",
      "     1      2 407082.2588 0.2107 -127891.3307  942055.8482  False\n",
      "     1      3 372060.7278  0.291 -162912.8617  907034.3172  False\n",
      "     1      4  327506.211 0.4171 -207467.3785  862479.8004  False\n",
      "     2      3  -35021.531 0.9997 -569995.1205  499952.0585  False\n",
      "     2      4 -79576.0478 0.9929 -614549.6373  455397.5417  False\n",
      "     3      4 -44554.5168 0.9993 -579528.1063  490419.0727  False\n",
      "-----------------------------------------------------------------\n"
     ]
    }
   ],
   "source": [
    "# run 2-way repeated measures ANOVA\n",
    "anova_rm_table = repeated_measures_anova(path_stats, \"figure3d_right\", df, \"meptrs\", \"day\", \"condition\")\n",
    "# print(anova_rm_table)\n",
    "\n",
    "# run tukey's hsd\n",
    "tukeys_table_i, tukeys_tables = tukeys_hsd(path_stats, \"figure3d_right\", \"meptrs\", df, [\"condition\", \"day\"], [\"condition\",\"day\"]) \n",
    "print(tukeys_table_i)\n",
    "for table in tukeys_tables:\n",
    "    print(table)"
   ]
  },
  {
   "cell_type": "markdown",
   "metadata": {},
   "source": [
    "#### Figure 3D right (CMV)"
   ]
  },
  {
   "cell_type": "code",
   "execution_count": 8,
   "metadata": {},
   "outputs": [
    {
     "name": "stdout",
     "output_type": "stream",
     "text": [
      "          condition  day        meptrs        std_err\n",
      "0          normoxia    0  5.740074e+04    1080.403168\n",
      "1          normoxia    1  5.374720e+04    1423.276844\n",
      "2          normoxia    2  4.064524e+04   -2193.020170\n",
      "3          normoxia    3  5.916482e+04    8431.752058\n",
      "4          normoxia    4  1.644280e+05    5401.240664\n",
      "5   normoxia_cobalt    0  5.740074e+04    1080.403168\n",
      "6   normoxia_cobalt    1  5.910912e+05   25559.235630\n",
      "7   normoxia_cobalt    2  8.507482e+05   17844.789770\n",
      "8   normoxia_cobalt    3  7.103102e+05   21783.622160\n",
      "9   normoxia_cobalt    4  5.916863e+05   27153.660520\n",
      "10         physoxia    0  5.740074e+04    1080.403168\n",
      "11         physoxia    1  2.625152e+05   36808.238700\n",
      "12         physoxia    2  9.444555e+05   97976.288010\n",
      "13         physoxia    3  1.254061e+06  182483.434100\n",
      "14         physoxia    4  1.133758e+06   57890.256000\n"
     ]
    }
   ],
   "source": [
    "df_plot = pd.read_csv(path_exp_data+\"plot_figure3D_right.csv\")\n",
    "print(df_plot)\n",
    "days = [0, 1, 2, 3, 4]"
   ]
  },
  {
   "cell_type": "code",
   "execution_count": 9,
   "metadata": {},
   "outputs": [],
   "source": [
    "# normoxia data\n",
    "meptrs_normoxia = df_plot[df_plot[\"condition\"] == \"normoxia\"][\"meptrs\"].to_list()\n",
    "meptrs_normoxia_scaled = [i/1E5 for i in meptrs_normoxia]\n",
    "std_err_normoxia = df_plot[df_plot[\"condition\"] == \"normoxia\"][\"std_err\"].to_list()\n",
    "std_err_normoxia_scaled = [i/1E5 for i in std_err_normoxia]"
   ]
  },
  {
   "cell_type": "code",
   "execution_count": 10,
   "metadata": {},
   "outputs": [],
   "source": [
    "# normoxia + cobalt data\n",
    "meptrs_normoxia_cobalt = df_plot[df_plot[\"condition\"] == \"normoxia_cobalt\"][\"meptrs\"].to_list()\n",
    "meptrs_normoxia_cobalt_scaled = [i/1E5 for i in meptrs_normoxia_cobalt]\n",
    "std_err_normoxia_cobalt = df_plot[df_plot[\"condition\"] == \"normoxia_cobalt\"][\"std_err\"].to_list()\n",
    "std_err_normoxia_cobalt_scaled = [i/1E5 for i in std_err_normoxia_cobalt]"
   ]
  },
  {
   "cell_type": "code",
   "execution_count": 11,
   "metadata": {},
   "outputs": [],
   "source": [
    "# physoxia data\n",
    "meptrs_physoxia = df_plot[df_plot[\"condition\"] == \"physoxia\"][\"meptrs\"].to_list()\n",
    "meptrs_physoxia_scaled = [i/1E5 for i in meptrs_physoxia]\n",
    "std_err_physoxia = df_plot[df_plot[\"condition\"] == \"physoxia\"][\"std_err\"].to_list()\n",
    "std_err_physoxia_scaled = [i/1E5 for i in std_err_physoxia]"
   ]
  },
  {
   "cell_type": "code",
   "execution_count": 12,
   "metadata": {},
   "outputs": [
    {
     "data": {
      "image/png": "[encoded data removed]",
      "text/plain": [
       "<Figure size 200x170 with 1 Axes>"
      ]
     },
     "metadata": {},
     "output_type": "display_data"
    }
   ],
   "source": [
    "pink_ = [(i/255) for i in [233, 140, 194]]\n",
    "normoxia_gray = [(i/255) for i in [127, 127, 127]]\n",
    "blue_ = [(i/255) for i in [86, 180, 233]]\n",
    "\n",
    "# create figure 2D plot\n",
    "fig, ax = plt.subplots(1, 1, figsize=(2, 1.7), sharey=True)\n",
    "(_, caps1, _) = ax.errorbar(days, meptrs_normoxia_scaled, std_err_normoxia_scaled, color=normoxia_gray, linestyle=\"-\", marker=\"o\", markersize=\"1.5\", ecolor=\"k\", capsize=1.5, elinewidth=0.5, label=\"normoxia\")\n",
    "(_, caps2, _) = ax.errorbar(days, meptrs_normoxia_cobalt_scaled, std_err_normoxia_cobalt_scaled, color=pink_, linestyle=\"-\", marker=\"o\", markersize=\"1.5\", ecolor=\"k\", capsize=1.5, elinewidth=0.5, label=\"normoxia_cobalt\")\n",
    "(_, caps3, _) = ax.errorbar(days, meptrs_physoxia_scaled, std_err_physoxia_scaled, color=blue_, linestyle=\"-\", marker=\"o\", markersize=\"1.5\", ecolor=\"k\", capsize=1.5, elinewidth=0.5, label=\"physoxia\")\n",
    "ax.set_xlabel(\"Days of treatment\")\n",
    "ax.set_xticks([0, 1, 2, 3, 4])\n",
    "ax.set_xlim(left=0)\n",
    "ax.set_ylabel(\"Mean exp. (x10^5 MEPTRs)\")\n",
    "ax.set_yticks([0, 10, 20, 30, 40, 50])\n",
    "# ax.set_ylim(bottom=0)\n",
    "ax.set_ylim([0,50])\n",
    "# ax.set_box_aspect(1)\n",
    "\n",
    "for cap in caps1:\n",
    "    cap.set_markeredgewidth(0.5)\n",
    "for cap in caps2:\n",
    "    cap.set_markeredgewidth(0.5)\n",
    "for cap in caps3:\n",
    "    cap.set_markeredgewidth(0.5)\n",
    "\n",
    "# plt.show()\n",
    "plt.savefig(path_plots+\"figure_3d_right.svg\")"
   ]
  },
  {
   "cell_type": "markdown",
   "metadata": {},
   "source": [
    "## Figure 4"
   ]
  },
  {
   "cell_type": "markdown",
   "metadata": {},
   "source": [
    "### Figure 4B statistical tests"
   ]
  },
  {
   "cell_type": "code",
   "execution_count": 46,
   "metadata": {},
   "outputs": [],
   "source": [
    "df = pd.read_csv(path_exp_data+\"Exp04_pt4_dox_HIF.csv\")\n",
    "# print(df)"
   ]
  },
  {
   "cell_type": "code",
   "execution_count": 49,
   "metadata": {},
   "outputs": [],
   "source": [
    "# run 2-way repeated measures ANOVA\n",
    "# anova_rm_table = repeated_measures_anova(path_stats, \"figure4b\", df, \"meptrs\", \"day\", \"condition\")\n",
    "# print(anova_rm_table)\n",
    "\n",
    "# run tukey's hsd\n",
    "# tukeys_table_i, tukeys_tables = tukeys_hsd(path_stats, \"figure4b\", \"meptrs\", df, [\"condition\", \"day\"], [\"condition\",\"day\"]) \n",
    "# print(tukeys_table_i)\n",
    "# for table in tukeys_tables:\n",
    "#     print(table)"
   ]
  },
  {
   "cell_type": "markdown",
   "metadata": {},
   "source": [
    "### Figure 4B plot"
   ]
  },
  {
   "cell_type": "code",
   "execution_count": 6,
   "metadata": {},
   "outputs": [
    {
     "name": "stdout",
     "output_type": "stream",
     "text": [
      "          condition  day        meptrs       std_err\n",
      "0          normoxia    0  2.014557e+04   2514.135422\n",
      "1          normoxia    1  1.724301e+04    653.820664\n",
      "2          normoxia    2  1.270008e+04    248.534102\n",
      "3          normoxia    3  1.874764e+04   1077.811869\n",
      "4          normoxia    4  6.161319e+04   1285.614534\n",
      "5   normoxia_cobalt    0  2.014557e+04   2514.135422\n",
      "6   normoxia_cobalt    1  2.343233e+05   6015.442667\n",
      "7   normoxia_cobalt    2  3.126179e+05   2756.318362\n",
      "8   normoxia_cobalt    3  3.951412e+05   9908.473144\n",
      "9   normoxia_cobalt    4  4.139532e+05  14817.837100\n",
      "10     normoxia_dox    0  2.014557e+04   2514.135422\n",
      "11     normoxia_dox    1  2.087428e+06  17018.558230\n",
      "12     normoxia_dox    2  4.271983e+06  31118.477970\n",
      "13     normoxia_dox    3  5.626744e+06  63187.745660\n",
      "14     normoxia_dox    4  6.614477e+06  55789.265270\n",
      "15          hypoxia    0  2.014557e+04   2514.135422\n",
      "16          hypoxia    1  3.849537e+05  29590.342500\n",
      "17          hypoxia    2  1.001361e+06  46233.908140\n",
      "18          hypoxia    3  1.481088e+06  50394.809710\n",
      "19          hypoxia    4  1.675500e+06  52946.677160\n"
     ]
    }
   ],
   "source": [
    "df_data_plot = pd.read_csv(path_exp_data+\"plot_figure4B.csv\")\n",
    "print(df_data_plot)\n",
    "days = [0, 1, 2, 3, 4]"
   ]
  },
  {
   "cell_type": "code",
   "execution_count": 32,
   "metadata": {},
   "outputs": [],
   "source": [
    "# normoxia data\n",
    "meptrs_normoxia = df_data_plot[df_data_plot[\"condition\"] == \"normoxia\"][\"meptrs\"].to_list()\n",
    "meptrs_normoxia_scaled = [i/1E5 for i in meptrs_normoxia]\n",
    "std_err_normoxia = df_data_plot[df_data_plot[\"condition\"] == \"normoxia\"][\"std_err\"].to_list()\n",
    "std_err_normoxia_scaled = [i/1E5 for i in std_err_normoxia]"
   ]
  },
  {
   "cell_type": "code",
   "execution_count": 33,
   "metadata": {},
   "outputs": [],
   "source": [
    "# normoxia cobalt data\n",
    "meptrs_normoxia_cobalt = df_data_plot[df_data_plot[\"condition\"] == \"normoxia_cobalt\"][\"meptrs\"].to_list()\n",
    "meptrs_normoxia_cobalt_scaled = [i/1E5 for i in meptrs_normoxia_cobalt]\n",
    "std_err_normoxia_cobalt = df_data_plot[df_data_plot[\"condition\"] == \"normoxia_cobalt\"][\"std_err\"].to_list()\n",
    "std_err_normoxia_cobalt_scaled = [i/1E5 for i in std_err_normoxia_cobalt]"
   ]
  },
  {
   "cell_type": "code",
   "execution_count": 34,
   "metadata": {},
   "outputs": [],
   "source": [
    "# normoxia dox data\n",
    "meptrs_normoxia_dox = df_data_plot[df_data_plot[\"condition\"] == \"normoxia_dox\"][\"meptrs\"].to_list()\n",
    "meptrs_normoxia_dox_scaled = [i/1E5 for i in meptrs_normoxia_dox]\n",
    "std_err_normoxia_dox = df_data_plot[df_data_plot[\"condition\"] == \"normoxia_dox\"][\"std_err\"].to_list()\n",
    "std_err_normoxia_dox_scaled = [i/1E5 for i in std_err_normoxia_dox]"
   ]
  },
  {
   "cell_type": "code",
   "execution_count": 35,
   "metadata": {},
   "outputs": [],
   "source": [
    "# hypoxia data\n",
    "meptrs_hypoxia = df_data_plot[df_data_plot[\"condition\"] == \"hypoxia\"][\"meptrs\"].to_list()\n",
    "meptrs_hypoxia_scaled = [i/1E5 for i in meptrs_hypoxia]\n",
    "std_err_hypoxia = df_data_plot[df_data_plot[\"condition\"] == \"hypoxia\"][\"std_err\"].to_list()\n",
    "std_err_hypoxia_scaled = [i/1E5 for i in std_err_hypoxia]"
   ]
  },
  {
   "cell_type": "code",
   "execution_count": 38,
   "metadata": {},
   "outputs": [
    {
     "data": {
      "image/png": "[encoded data removed]",
      "text/plain": [
       "<Figure size 193.5x200 with 1 Axes>"
      ]
     },
     "metadata": {},
     "output_type": "display_data"
    }
   ],
   "source": [
    "pink_ = [(i/255) for i in [233, 140, 194]]\n",
    "normoxia_gray = [(i/255) for i in [127, 127, 127]]\n",
    "normox_dox = [(i/255) for i in [158, 31, 99]]\n",
    "\n",
    "# create figure 2D plot\n",
    "fig, ax = plt.subplots(1, 1, figsize=(1.935, 2))\n",
    "(_, caps1, _) = ax.errorbar(days, meptrs_normoxia_scaled, std_err_normoxia_scaled, color=normoxia_gray, linestyle=\"-\", marker=\"o\", markersize=\"2\", ecolor=\"k\", capsize=1.5, elinewidth=0.5, label=\"normoxia\")\n",
    "(_, caps2, _) = ax.errorbar(days, meptrs_normoxia_cobalt_scaled, std_err_normoxia_cobalt_scaled, color=pink_, linestyle=\"-\", marker=\"o\", markersize=\"2\", ecolor=\"k\", capsize=1.5, elinewidth=0.5, label=\"normoxia_cobalt\")\n",
    "(_, caps3, _) = ax.errorbar(days, meptrs_normoxia_dox_scaled, std_err_normoxia_dox_scaled, color=normox_dox, linestyle=\"-\", marker=\"o\", markersize=\"2\", ecolor=\"k\", capsize=1.5, elinewidth=0.5, label=\"normoxia_dox\")\n",
    "(_, caps4, _) = ax.errorbar(days, meptrs_hypoxia_scaled, std_err_hypoxia_scaled, color=\"mediumpurple\", linestyle=\"-\", marker=\"o\", markersize=\"2\", ecolor=\"k\", capsize=1.5, elinewidth=0.5, label=\"hypoxia\")\n",
    "ax.set_xlabel(\"Days post plating\")\n",
    "ax.set_xticks([0, 1, 2, 3, 4])\n",
    "ax.set_xlim(left=0)\n",
    "ax.set_ylabel(\"Mean exp. (x10^5 MEPTRs)\")\n",
    "ax.set_ylim(bottom=0)\n",
    "# ax.set_ylim(top=6.0)\n",
    "ax.set_box_aspect(1)\n",
    "\n",
    "for cap in caps1:\n",
    "    cap.set_markeredgewidth(0.5)\n",
    "for cap in caps2:\n",
    "    cap.set_markeredgewidth(0.5)\n",
    "for cap in caps3:\n",
    "    cap.set_markeredgewidth(0.5)\n",
    "for cap in caps4:\n",
    "    cap.set_markeredgewidth(0.5)\n",
    "# plt.show()\n",
    "plt.savefig(path_plots+\"figure_4b.svg\")"
   ]
  },
  {
   "cell_type": "markdown",
   "metadata": {},
   "source": [
    "## Figure 5"
   ]
  },
  {
   "cell_type": "markdown",
   "metadata": {},
   "source": [
    "### Figure 5B statistical tests"
   ]
  },
  {
   "cell_type": "code",
   "execution_count": 6,
   "metadata": {},
   "outputs": [],
   "source": [
    "df = pd.read_csv(path_exp_data+\"Exp09_pt1_promoters.csv\")\n",
    "# print(df)\n",
    "df_promoters = df[~(df[\"minimal_promoter\"].str.contains(\"x\"))].copy()\n",
    "# print(df_promoters)\n",
    "df_yb_tata = df[df[\"minimal_promoter\"].str.contains(\"YB\")].copy()\n",
    "# print(df_yb_tata)"
   ]
  },
  {
   "cell_type": "markdown",
   "metadata": {},
   "source": [
    "#### Figure 5B promoter comparison statistical tests"
   ]
  },
  {
   "cell_type": "code",
   "execution_count": 9,
   "metadata": {},
   "outputs": [],
   "source": [
    "# run 2-way ANOVA\n",
    "anova_table = anova(path_stats, \"figure5b_promoters\", df_promoters, \"meptrs\", \"condition\", \"minimal_promoter\")\n",
    "# print(anova_table)\n",
    "# run tukey's hsd\n",
    "tukeys_table_i, tukeys_tables = tukeys_hsd(path_stats, \"figure5b_promoters\", \"meptrs\", df_promoters, [\"condition\", \"minimal_promoter\"], [\"condition\",\"minimal_promoter\"])\n",
    "# print(tukeys_table_i)\n",
    "# for table in tukeys_tables:\n",
    "#     print(table)"
   ]
  },
  {
   "cell_type": "markdown",
   "metadata": {},
   "source": [
    "#### Figure 5B copy number comparison statistical tests"
   ]
  },
  {
   "cell_type": "code",
   "execution_count": 11,
   "metadata": {},
   "outputs": [],
   "source": [
    "# run 2-way ANOVA\n",
    "anova_table = anova(path_stats, \"figure5b_yb_tata\", df_yb_tata, \"meptrs\", \"condition\", \"minimal_promoter\")\n",
    "# print(anova_table)\n",
    "# run tukey's hsd\n",
    "tukeys_table_i, tukeys_tables = tukeys_hsd(path_stats, \"figure5b_yb_tata\", \"meptrs\", df_yb_tata, [\"condition\", \"minimal_promoter\"], [\"condition\",\"minimal_promoter\"])\n",
    "# print(tukeys_table_i)\n",
    "# for table in tukeys_tables:\n",
    "#     print(table)"
   ]
  },
  {
   "cell_type": "markdown",
   "metadata": {},
   "source": [
    "### Figure 5B plot"
   ]
  },
  {
   "cell_type": "code",
   "execution_count": 5,
   "metadata": {},
   "outputs": [
    {
     "name": "stdout",
     "output_type": "stream",
     "text": [
      "  condition minimal_promoter     meptrs       std_err\n",
      "0  normoxic          YB_TATA    5490.72   1195.279443\n",
      "1   hypoxic          YB_TATA  381585.36  27636.617460\n",
      "2  normoxic              CMV   44499.76  12688.202140\n",
      "3   hypoxic              CMV  297190.96  35060.770960\n",
      "4  normoxic             SV40  230147.76  39100.312240\n",
      "5   hypoxic             SV40  628930.16  11944.474790\n",
      "6  normoxic    YB_TATA_hbsx3    3817.92   1199.759371\n",
      "7   hypoxic    YB_TATA_hbsx3  101342.16   5229.821873\n",
      "8  normoxic    YB_TATA_hbsx4    9813.76   2027.352749\n",
      "9   hypoxic    YB_TATA_hbsx4  139422.96   7804.550978\n"
     ]
    }
   ],
   "source": [
    "#plot\n",
    "df_data_plot5B = pd.read_csv(path_exp_data+\"plot_figure5B.csv\")\n",
    "print(df_data_plot5B)\n"
   ]
  },
  {
   "cell_type": "markdown",
   "metadata": {},
   "source": [
    "### Figure 5D statistical tests"
   ]
  },
  {
   "cell_type": "code",
   "execution_count": 13,
   "metadata": {},
   "outputs": [],
   "source": [
    "df = pd.read_csv(path_exp_data+\"Exp09_pt2_feedback.csv\")\n",
    "# print(df)"
   ]
  },
  {
   "cell_type": "code",
   "execution_count": 15,
   "metadata": {},
   "outputs": [],
   "source": [
    "# run 2-way ANOVA\n",
    "anova_table = anova(path_stats, \"figure5d\", df, \"meptrs\", \"condition\", \"topology\")\n",
    "# print(anova_table)\n",
    "# run tukey's hsd\n",
    "tukeys_table_i, tukeys_tables = tukeys_hsd(path_stats, \"figure5d\", \"meptrs\", df, [\"condition\", \"topology\"], [\"condition\",\"topology\"])\n",
    "# print(tukeys_table_i)\n",
    "# for table in tukeys_tables:\n",
    "#     print(table)"
   ]
  },
  {
   "cell_type": "markdown",
   "metadata": {},
   "source": [
    "### Figure 5D plot"
   ]
  },
  {
   "cell_type": "code",
   "execution_count": 5,
   "metadata": {},
   "outputs": [
    {
     "name": "stdout",
     "output_type": "stream",
     "text": [
      "  condition  minimal_promoter      meptrs       std_err\n",
      "2  normoxic      h1a_feedback    23671.76   2624.555342\n",
      "3   hypoxic      h1a_feedback  1112205.36  32390.193900\n",
      "4  normoxic      h2a_feedback    31609.36   6384.682090\n",
      "5   hypoxic      h2a_feedback   680590.16  12303.164620\n",
      "6  normoxic     h1ab_feedback    38825.36   9324.980177\n",
      "7   hypoxic     h1ab_feedback   729691.76  11947.495370\n",
      "8  normoxic  h2a_h1b_feedback    53880.56   2585.475370\n",
      "9   hypoxic  h2a_h1b_feedback   748322.16  17878.325450\n"
     ]
    }
   ],
   "source": [
    "#plot\n",
    "df_data_plot5D = pd.read_csv(path_exp_data+\"plot_figure5D.csv\")\n",
    "df_data_plot5D = df_data_plot5D.copy()[df_data_plot5D[\"minimal_promoter\"] != \"YB_TATA\"]\n",
    "print(df_data_plot5D)"
   ]
  },
  {
   "cell_type": "code",
   "execution_count": 11,
   "metadata": {},
   "outputs": [
    {
     "data": {
      "image/png": "[encoded data removed]",
      "text/plain": [
       "<Figure size 365x200 with 1 Axes>"
      ]
     },
     "metadata": {},
     "output_type": "display_data"
    }
   ],
   "source": [
    "normoxia_gray = [(i/255) for i in [127, 127, 127]]\n",
    "\n",
    "# format data and labels for plotting\n",
    "conditions = df_data_plot5B[\"minimal_promoter\"].to_list() + df_data_plot5D[\"minimal_promoter\"].to_list()\n",
    "plot_xlabels = [conditions[i] for i in range(0, len(conditions), 2)]\n",
    "# print(plot_xlabels)\n",
    "meptrs = df_data_plot5B[\"meptrs\"].to_list() + df_data_plot5D[\"meptrs\"].to_list()\n",
    "# print(meptrs)\n",
    "meptrs_scaled = [i/1E5 for i in meptrs]\n",
    "plot_meptrs = [meptrs_scaled[i:i + 2] for i in range(0, len(meptrs_scaled), 2)]\n",
    "std_err = df_data_plot5B[\"std_err\"].to_list() + df_data_plot5D[\"std_err\"].to_list()\n",
    "std_err_scaled = [i/1E5 for i in std_err]\n",
    "plot_std_err = [std_err_scaled[i:i + 2] for i in range(0, len(std_err_scaled), 2)]\n",
    "\n",
    "# # create plot\n",
    "fig, ax = plt.subplots(1, 1, figsize=(3.65, 2))\n",
    "x_ticks = []\n",
    "for index, meptrs_list in enumerate(plot_meptrs):\n",
    "    ax.bar(index-0.175, meptrs_list[0], width=0.35, color=normoxia_gray, align=\"center\", label=\"normoxic\")\n",
    "    (_, caps1, _) = ax.errorbar(index-0.175, meptrs_list[0], plot_std_err[index][0], color=\"k\", capsize=1.5, elinewidth=0.5)\n",
    "    ax.bar(index+0.175, meptrs_list[1], width=0.35, color=\"mediumpurple\", align=\"center\", label=\"hypoxic\")\n",
    "    (_, caps2, _) = ax.errorbar(index+0.175, meptrs_list[1], plot_std_err[index][1], color=\"k\", capsize=1.5, elinewidth=0.5)\n",
    "    x_ticks.append(index)\n",
    "\n",
    "    for cap in caps1:\n",
    "        cap.set_markeredgewidth(0.5)\n",
    "    for cap in caps2:\n",
    "        cap.set_markeredgewidth(0.5)\n",
    "\n",
    "ax.set_xticks(x_ticks)\n",
    "ax.set_xlim([-0.625, 8.45])\n",
    "ax.set_xticklabels(plot_xlabels)\n",
    "ax.set_yticks([0, 5, 10, 15])\n",
    "ax.set_xlabel(\"Topology\")\n",
    "ax.set_ylabel(\"Mean exp. \\n (x10^5 MEFLs)\")\n",
    "\n",
    "\n",
    "# plt.show()\n",
    "plt.savefig(path_plots+\"figure_5c.svg\")"
   ]
  },
  {
   "cell_type": "markdown",
   "metadata": {},
   "source": [
    "### Figure 5E Statistical Tests"
   ]
  },
  {
   "cell_type": "code",
   "execution_count": 83,
   "metadata": {},
   "outputs": [
    {
     "name": "stdout",
     "output_type": "stream",
     "text": [
      "     condition day  subject         meptrs\n",
      "0   simple_hbs   0        0   11514.629500\n",
      "1   simple_hbs   0        1   12114.072270\n",
      "2   simple_hbs   0        2   12493.719360\n",
      "3   simple_hbs   1        0  162514.807700\n",
      "4   simple_hbs   1        1  143389.324600\n",
      "5   simple_hbs   1        2  158729.555800\n",
      "6   simple_hbs   2        0  291898.522100\n",
      "7   simple_hbs   2        1  252109.355900\n",
      "8   simple_hbs   2        2  252109.355900\n",
      "9   simple_hbs   3        0  342822.513400\n",
      "10  simple_hbs   3        1  345264.443100\n",
      "11  simple_hbs   3        2  322676.593200\n",
      "12  simple_hbs   4        0  371329.615500\n",
      "13  simple_hbs   4        1  373490.999000\n",
      "14  simple_hbs   4        2  365827.912100\n",
      "18  h1a_fb_hbs   0        3   23043.912050\n",
      "19  h1a_fb_hbs   0        4   23243.726310\n",
      "20  h1a_fb_hbs   0        5   23243.726310\n",
      "21  h1a_fb_hbs   1        3  390825.261400\n",
      "22  h1a_fb_hbs   1        4  297588.531600\n",
      "23  h1a_fb_hbs   1        5  382457.862600\n",
      "24  h1a_fb_hbs   2        3  541230.634100\n",
      "25  h1a_fb_hbs   2        4  535632.158500\n",
      "26  h1a_fb_hbs   2        5  618609.565500\n",
      "27  h1a_fb_hbs   3        3  438057.772500\n",
      "28  h1a_fb_hbs   3        4  625475.878500\n",
      "29  h1a_fb_hbs   3        5  417301.369800\n",
      "30  h1a_fb_hbs   4        3  471146.235500\n",
      "31  h1a_fb_hbs   4        4  392943.450600\n",
      "32  h1a_fb_hbs   4        5  452872.720400\n",
      "36  h2a_fb_hbs   0        6   10855.242460\n",
      "37  h2a_fb_hbs   0        7    9856.171182\n",
      "38  h2a_fb_hbs   0        8   10055.985440\n",
      "39  h2a_fb_hbs   1        6  208535.501200\n",
      "40  h2a_fb_hbs   1        7  207539.382300\n",
      "41  h2a_fb_hbs   1        8  217500.571400\n",
      "42  h2a_fb_hbs   2        6  455853.880500\n",
      "43  h2a_fb_hbs   2        7  612811.144300\n",
      "44  h2a_fb_hbs   2        8  582219.473700\n",
      "45  h2a_fb_hbs   3        6  502361.921800\n",
      "46  h2a_fb_hbs   3        7  546723.645000\n",
      "47  h2a_fb_hbs   3        8  549979.551300\n",
      "48  h2a_fb_hbs   4        6  459356.870900\n",
      "49  h2a_fb_hbs   4        7  528521.143000\n",
      "50  h2a_fb_hbs   4        8  464662.085000\n"
     ]
    }
   ],
   "source": [
    "df = pd.read_csv(path_exp_data+\"Exp10.csv\")\n",
    "df_hypoxic = df[df[\"day\"] != \"normoxic\"].copy()\n",
    "print(df_hypoxic)"
   ]
  },
  {
   "cell_type": "code",
   "execution_count": 85,
   "metadata": {},
   "outputs": [],
   "source": [
    "# run 2-way repeated measures ANOVA\n",
    "# anova_rm_table = repeated_measures_anova(path_stats, \"figure5e\", df_hypoxic, \"meptrs\", \"day\", \"condition\")\n",
    "# print(anova_rm_table)\n",
    "\n",
    "# run tukey's hsd\n",
    "# tukeys_table_i, tukeys_tables = tukeys_hsd(path_stats, \"figure5e\", \"meptrs\", df_hypoxic, [\"condition\", \"day\"], [\"condition\",\"day\"]) \n",
    "# print(tukeys_table_i)\n",
    "# for table in tukeys_tables:\n",
    "#     print(table)\n",
    "\n",
    "# run t-tests for each day vs. normoxia for simple, h1a fb, h2a fb\n",
    "# format df for t-test code\n",
    "# df[\"condition\"] = df[\"condition\"] + \"_\" + df[\"day\"].astype(str)\n",
    "# print(df)\n",
    "# comparisons = [\n",
    "#     [\"simple_hbs_0\", \"simple_hbs_normoxic\"],\n",
    "#     [\"simple_hbs_1\", \"simple_hbs_normoxic\"],\n",
    "#     [\"simple_hbs_2\", \"simple_hbs_normoxic\"],\n",
    "#     [\"simple_hbs_3\", \"simple_hbs_normoxic\"],\n",
    "#     [\"simple_hbs_4\", \"simple_hbs_normoxic\"],\n",
    "#     [\"h1a_fb_hbs_0\", \"h1a_fb_hbs_normoxic\"],\n",
    "#     [\"h1a_fb_hbs_1\", \"h1a_fb_hbs_normoxic\"],\n",
    "#     [\"h1a_fb_hbs_2\", \"h1a_fb_hbs_normoxic\"],\n",
    "#     [\"h1a_fb_hbs_3\", \"h1a_fb_hbs_normoxic\"],\n",
    "#     [\"h1a_fb_hbs_4\", \"h1a_fb_hbs_normoxic\"],\n",
    "#     [\"h2a_fb_hbs_0\", \"h2a_fb_hbs_normoxic\"],\n",
    "#     [\"h2a_fb_hbs_1\", \"h2a_fb_hbs_normoxic\"],\n",
    "#     [\"h2a_fb_hbs_2\", \"h2a_fb_hbs_normoxic\"],\n",
    "#     [\"h2a_fb_hbs_3\", \"h2a_fb_hbs_normoxic\"],\n",
    "#     [\"h2a_fb_hbs_4\", \"h2a_fb_hbs_normoxic\"],\n",
    "# ]\n",
    "# t_test_df = run_corrected_t_tests(path_stats, \"figure5e\", \"meptrs\", df, comparisons)\n",
    "# print(t_test_df)"
   ]
  },
  {
   "cell_type": "markdown",
   "metadata": {},
   "source": [
    "### Figure 5E Plots"
   ]
  },
  {
   "cell_type": "code",
   "execution_count": 4,
   "metadata": {},
   "outputs": [
    {
     "name": "stdout",
     "output_type": "stream",
     "text": [
      "     condition       day        meptrs       std_err\n",
      "0   simple_hbs         0   12040.80704    312.282542\n",
      "1   simple_hbs         1  154877.89600   6130.949680\n",
      "2   simple_hbs         2  265372.41130  13662.930480\n",
      "3   simple_hbs         3  336921.18320   7840.404946\n",
      "4   simple_hbs         4  370216.17560   5226.290622\n",
      "5   simple_hbs  baseline   17284.51439    197.393399\n",
      "6   h1a_fb_hbs         0   23177.12156    253.151753\n",
      "7   h1a_fb_hbs         1  356957.21860  29984.441360\n",
      "8   h1a_fb_hbs         2  565157.45270  27392.274240\n",
      "9   h1a_fb_hbs         3  493611.67360  66369.591010\n",
      "10  h1a_fb_hbs         4  438987.46880  24267.475310\n",
      "11  h1a_fb_hbs  baseline   30791.16624   1236.599451\n",
      "12  h2a_fb_hbs         0   10255.79969    324.120436\n",
      "13  h2a_fb_hbs         1  211191.81830   3893.503021\n",
      "14  h2a_fb_hbs         2  550294.83280  48370.380480\n",
      "15  h2a_fb_hbs         3  533021.70600  16171.396290\n",
      "16  h2a_fb_hbs         4  484180.03300  23057.903510\n",
      "17  h2a_fb_hbs  baseline   16731.80545    428.270408\n"
     ]
    }
   ],
   "source": [
    "df_data_plot = pd.read_csv(path_exp_data+\"plot_figure5E.csv\")\n",
    "print(df_data_plot)\n",
    "df_hypoxia_data = df_data_plot[df_data_plot[\"day\"] != \"baseline\"].copy()\n",
    "df_normoxia_data = df_data_plot[df_data_plot[\"day\"] == \"baseline\"].copy()\n",
    "days = [0, 1, 2, 3, 4]"
   ]
  },
  {
   "cell_type": "code",
   "execution_count": 40,
   "metadata": {},
   "outputs": [],
   "source": [
    "# simple HBS data\n",
    "meptrs_hypoxia_simple = df_hypoxia_data[df_hypoxia_data[\"condition\"] == \"simple_hbs\"][\"meptrs\"].to_list()\n",
    "meptrs_hypoxia_simple_scaled = [i/1E5 for i in meptrs_hypoxia_simple]\n",
    "std_err_hypoxia_simple = df_hypoxia_data[df_hypoxia_data[\"condition\"] == \"simple_hbs\"][\"std_err\"].to_list()\n",
    "std_err_hypoxia_simple_scaled = [i/1E5 for i in std_err_hypoxia_simple]\n",
    "meptrs_normoxia_simple = df_normoxia_data[df_normoxia_data[\"condition\"] == \"simple_hbs\"][\"meptrs\"].to_list()[0]\n",
    "meptrs_normoxia_simple_scaled = meptrs_normoxia_simple/1E5\n",
    "std_err_normoxia_simple = df_normoxia_data[df_normoxia_data[\"condition\"] == \"simple_hbs\"][\"std_err\"].to_list()[0]\n",
    "std_err_normoxia_simple_scaled = std_err_normoxia_simple/1E5\n"
   ]
  },
  {
   "cell_type": "code",
   "execution_count": 41,
   "metadata": {},
   "outputs": [],
   "source": [
    "# h1a fb HBS data\n",
    "meptrs_hypoxia_h1a_fb = df_hypoxia_data[df_hypoxia_data[\"condition\"] == \"h1a_fb_hbs\"][\"meptrs\"].to_list()\n",
    "meptrs_hypoxia_h1a_fb_scaled = [i/1E5 for i in meptrs_hypoxia_h1a_fb]\n",
    "std_err_hypoxia_h1a_fb = df_hypoxia_data[df_hypoxia_data[\"condition\"] == \"h1a_fb_hbs\"][\"std_err\"].to_list()\n",
    "std_err_hypoxia_h1a_fb_scaled = [i/1E5 for i in std_err_hypoxia_h1a_fb]\n",
    "meptrs_normoxia_h1a_fb = df_normoxia_data[df_normoxia_data[\"condition\"] == \"h1a_fb_hbs\"][\"meptrs\"].to_list()[0]\n",
    "meptrs_normoxia_h1a_fb_scaled = meptrs_normoxia_h1a_fb/1E5\n",
    "std_err_normoxia_h1a_fb = df_normoxia_data[df_normoxia_data[\"condition\"] == \"h1a_fb_hbs\"][\"std_err\"].to_list()[0]\n",
    "std_err_normoxia_h1a_fb_scaled = std_err_normoxia_h1a_fb/1E5"
   ]
  },
  {
   "cell_type": "code",
   "execution_count": 42,
   "metadata": {},
   "outputs": [],
   "source": [
    "# h2a fb data\n",
    "meptrs_hypoxia_h2a_fb = df_hypoxia_data[df_hypoxia_data[\"condition\"] == \"h2a_fb_hbs\"][\"meptrs\"].to_list()\n",
    "meptrs_hypoxia_h2a_fb_scaled = [i/1E5 for i in meptrs_hypoxia_h2a_fb]\n",
    "std_err_hypoxia_h2a_fb = df_hypoxia_data[df_hypoxia_data[\"condition\"] == \"h2a_fb_hbs\"][\"std_err\"].to_list()\n",
    "std_err_hypoxia_h2a_fb_scaled = [i/1E5 for i in std_err_hypoxia_h2a_fb]\n",
    "meptrs_normoxia_h2a_fb = df_normoxia_data[df_normoxia_data[\"condition\"] == \"h2a_fb_hbs\"][\"meptrs\"].to_list()[0]\n",
    "meptrs_normoxia_h2a_fb_scaled = meptrs_normoxia_h2a_fb/1E5\n",
    "std_err_normoxia_h2a_fb = df_normoxia_data[df_normoxia_data[\"condition\"] == \"h2a_fb_hbs\"][\"std_err\"].to_list()[0]\n",
    "std_err_normoxia_h2a_fb_scaled = std_err_normoxia_h2a_fb/1E5"
   ]
  },
  {
   "cell_type": "code",
   "execution_count": 43,
   "metadata": {},
   "outputs": [
    {
     "data": {
      "image/png": "[encoded data removed]",
      "text/plain": [
       "<Figure size 379x170 with 3 Axes>"
      ]
     },
     "metadata": {},
     "output_type": "display_data"
    }
   ],
   "source": [
    "normoxia_gray = [(i/255) for i in [127, 127, 127]]\n",
    "# create figure 2D plot\n",
    "fig, axs = plt.subplots(1, 3, figsize=(3.79, 1.7), sharey=True)\n",
    "axs = axs.ravel()\n",
    "(_, caps1, _) = axs[0].errorbar(days, meptrs_hypoxia_simple_scaled, std_err_hypoxia_simple_scaled, color=\"mediumpurple\", linestyle=\"-\", marker=\"o\", markersize=\"1.5\", ecolor=\"k\", capsize=1.5, elinewidth=0.5)\n",
    "axs[0].fill_between(\n",
    "    days, meptrs_normoxia_simple_scaled-std_err_normoxia_simple_scaled, \n",
    "    meptrs_normoxia_simple_scaled+std_err_normoxia_simple_scaled, color=normoxia_gray)\n",
    "axs[0].set_xlabel(\"Days of treatment\")\n",
    "axs[0].set_xticks([0, 1, 2, 3, 4])\n",
    "axs[0].set_ylabel(\"Mean exp. (x10^5 MEPTRs)\")\n",
    "axs[0].set_xlim(left=0)\n",
    "axs[0].set_ylim([0, 6])\n",
    "axs[0].set_box_aspect(1)\n",
    "(_, caps2, _) = axs[1].errorbar(days, meptrs_hypoxia_h1a_fb_scaled, std_err_hypoxia_h1a_fb_scaled, color=\"mediumpurple\", linestyle=\"-\", marker=\"o\", markersize=\"1.5\", ecolor=\"k\", capsize=1.5, elinewidth=0.5)\n",
    "axs[1].fill_between(\n",
    "    days, meptrs_normoxia_h1a_fb_scaled-std_err_normoxia_h1a_fb_scaled, \n",
    "    meptrs_normoxia_h1a_fb_scaled+std_err_normoxia_h1a_fb_scaled, color=normoxia_gray)\n",
    "axs[1].set_xlabel(\"Days of treatment\")\n",
    "axs[1].set_xlim(left=0)\n",
    "axs[1].set_xticks([0, 1, 2, 3, 4])\n",
    "axs[1].set_box_aspect(1)\n",
    "(_, caps3, _) = axs[2].errorbar(days, meptrs_hypoxia_h2a_fb_scaled, std_err_hypoxia_h2a_fb_scaled, color=\"mediumpurple\", linestyle=\"-\", marker=\"o\", markersize=\"1.5\", ecolor=\"k\", capsize=1.5, elinewidth=0.5)\n",
    "axs[2].fill_between(\n",
    "    days, meptrs_normoxia_h2a_fb_scaled-std_err_normoxia_h2a_fb_scaled, \n",
    "    meptrs_normoxia_h2a_fb_scaled+std_err_normoxia_h2a_fb_scaled, color=normoxia_gray)\n",
    "axs[2].set_xlabel(\"Days of treatment\")\n",
    "axs[2].set_xlim(left=0)\n",
    "axs[2].set_xticks([0, 1, 2, 3, 4])\n",
    "axs[2].set_box_aspect(1)\n",
    "\n",
    "for cap in caps1:\n",
    "    cap.set_markeredgewidth(0.5)\n",
    "for cap in caps2:\n",
    "    cap.set_markeredgewidth(0.5)\n",
    "for cap in caps3:\n",
    "    cap.set_markeredgewidth(0.5)\n",
    "\n",
    "# plt.show()\n",
    "plt.savefig(path_plots+\"figure_5e_test.svg\")"
   ]
  },
  {
   "cell_type": "markdown",
   "metadata": {},
   "source": [
    "### Figure 5F Statistical tests"
   ]
  },
  {
   "cell_type": "code",
   "execution_count": 12,
   "metadata": {},
   "outputs": [
    {
     "name": "stdout",
     "output_type": "stream",
     "text": [
      "     condition day  subject        meptrs\n",
      "0   simple_hbs   0        0   13400.83201\n",
      "1   simple_hbs   0        1   12808.35547\n",
      "2   simple_hbs   0        2   13252.71288\n",
      "3   simple_hbs   1        0   39057.16452\n",
      "4   simple_hbs   1        1   40303.73607\n",
      "5   simple_hbs   1        2   40615.37896\n",
      "6   simple_hbs   2        0   29470.39068\n",
      "7   simple_hbs   2        1   30012.92365\n",
      "8   simple_hbs   2        2   30012.92365\n",
      "9   simple_hbs   3        0   33755.19832\n",
      "10  simple_hbs   3        1   35802.20853\n",
      "11  simple_hbs   3        2   35802.20853\n",
      "12  simple_hbs   4        0  126787.35890\n",
      "13  simple_hbs   4        1   80639.83676\n",
      "14  simple_hbs   4        2   86771.32571\n",
      "18  h1a_fb_hbs   0        3   25428.10590\n",
      "19  h1a_fb_hbs   0        4   25516.97738\n",
      "20  h1a_fb_hbs   0        5   23324.81416\n",
      "21  h1a_fb_hbs   1        3   99515.88506\n",
      "22  h1a_fb_hbs   1        4  101385.74240\n",
      "23  h1a_fb_hbs   1        5   93906.31305\n",
      "24  h1a_fb_hbs   2        3   67718.96475\n",
      "25  h1a_fb_hbs   2        4   65277.56641\n",
      "26  h1a_fb_hbs   2        5   66362.63234\n",
      "27  h1a_fb_hbs   3        3   80495.26472\n",
      "28  h1a_fb_hbs   3        4   78448.25451\n",
      "29  h1a_fb_hbs   3        5   81859.93819\n",
      "30  h1a_fb_hbs   4        3  122914.83960\n",
      "31  h1a_fb_hbs   4        4  162930.87270\n",
      "32  h1a_fb_hbs   4        5  121946.70970\n",
      "36  h2a_fb_hbs   0        6   13667.44646\n",
      "37  h2a_fb_hbs   0        7   12867.60312\n",
      "38  h2a_fb_hbs   0        8   12275.12658\n",
      "39  h2a_fb_hbs   1        6   43420.16497\n",
      "40  h2a_fb_hbs   1        7   44043.45075\n",
      "41  h2a_fb_hbs   1        8   54016.02321\n",
      "42  h2a_fb_hbs   2        6   41677.38241\n",
      "43  h2a_fb_hbs   2        7   39778.51703\n",
      "44  h2a_fb_hbs   2        8   40049.78351\n",
      "45  h2a_fb_hbs   3        6   40919.73404\n",
      "46  h2a_fb_hbs   3        7   36143.37689\n",
      "47  h2a_fb_hbs   3        8   38531.55547\n",
      "48  h2a_fb_hbs   4        6   50950.52182\n",
      "49  h2a_fb_hbs   4        7   38687.54391\n",
      "50  h2a_fb_hbs   4        8   49659.68204\n"
     ]
    }
   ],
   "source": [
    "df = pd.read_csv(path_exp_data+\"Exp11.csv\")\n",
    "df_hypoxic = df[df[\"day\"] != \"normoxic\"].copy()\n",
    "print(df_hypoxic)"
   ]
  },
  {
   "cell_type": "code",
   "execution_count": 14,
   "metadata": {},
   "outputs": [],
   "source": [
    "# run 2-way repeated measures ANOVA\n",
    "# anova_rm_table = repeated_measures_anova(path_stats, \"figure5f\", df_hypoxic, \"meptrs\", \"day\", \"condition\")\n",
    "# print(anova_rm_table)\n",
    "\n",
    "# run tukey's hsd\n",
    "# tukeys_table_i, tukeys_tables = tukeys_hsd(path_stats, \"figure5f\", \"meptrs\", df_hypoxic, [\"condition\", \"day\"], [\"condition\",\"day\"]) \n",
    "# print(tukeys_table_i)\n",
    "# for table in tukeys_tables:\n",
    "#     print(table)\n",
    "\n",
    "# run t-tests for each day vs. normoxia for simple, h1a fb, h2a fb\n",
    "# format df for t-test code\n",
    "# df[\"condition\"] = df[\"condition\"] + \"_\" + df[\"day\"].astype(str)\n",
    "# print(df)\n",
    "# comparisons = [\n",
    "#     [\"simple_hbs_0\", \"simple_hbs_normoxic\"],\n",
    "#     [\"simple_hbs_1\", \"simple_hbs_normoxic\"],\n",
    "#     [\"simple_hbs_2\", \"simple_hbs_normoxic\"],\n",
    "#     [\"simple_hbs_3\", \"simple_hbs_normoxic\"],\n",
    "#     [\"simple_hbs_4\", \"simple_hbs_normoxic\"],\n",
    "#     [\"h1a_fb_hbs_0\", \"h1a_fb_hbs_normoxic\"],\n",
    "#     [\"h1a_fb_hbs_1\", \"h1a_fb_hbs_normoxic\"],\n",
    "#     [\"h1a_fb_hbs_2\", \"h1a_fb_hbs_normoxic\"],\n",
    "#     [\"h1a_fb_hbs_3\", \"h1a_fb_hbs_normoxic\"],\n",
    "#     [\"h1a_fb_hbs_4\", \"h1a_fb_hbs_normoxic\"],\n",
    "#     [\"h2a_fb_hbs_0\", \"h2a_fb_hbs_normoxic\"],\n",
    "#     [\"h2a_fb_hbs_1\", \"h2a_fb_hbs_normoxic\"],\n",
    "#     [\"h2a_fb_hbs_2\", \"h2a_fb_hbs_normoxic\"],\n",
    "#     [\"h2a_fb_hbs_3\", \"h2a_fb_hbs_normoxic\"],\n",
    "#     [\"h2a_fb_hbs_4\", \"h2a_fb_hbs_normoxic\"],\n",
    "# ]\n",
    "# t_test_df = run_corrected_t_tests(path_stats, \"figure5f\", \"meptrs\", df, comparisons)\n",
    "# print(t_test_df)"
   ]
  },
  {
   "cell_type": "markdown",
   "metadata": {},
   "source": [
    "### Figure 5F plots"
   ]
  },
  {
   "cell_type": "code",
   "execution_count": 3,
   "metadata": {},
   "outputs": [
    {
     "name": "stdout",
     "output_type": "stream",
     "text": [
      "     condition       day        meptrs       std_err\n",
      "0   simple_hbs         0   13153.96679    351.262725\n",
      "1   simple_hbs         1   39992.09319    533.464378\n",
      "2   simple_hbs         2   29832.07933    432.599018\n",
      "3   simple_hbs         3   35119.87179    958.029532\n",
      "4   simple_hbs         4   98066.17379  14479.118670\n",
      "5   simple_hbs  baseline   13117.17723    192.479663\n",
      "6   h1a_fb_hbs         0   24756.63248    914.857276\n",
      "7   h1a_fb_hbs         1   98269.31350   2323.750866\n",
      "8   h1a_fb_hbs         2   66453.05450   1123.272511\n",
      "9   h1a_fb_hbs         3   80267.81914   1828.928971\n",
      "10  h1a_fb_hbs         4  135930.80730  13523.054790\n",
      "11  h1a_fb_hbs  baseline   20901.44953    465.502200\n",
      "12  h2a_fb_hbs         0   12936.72539    501.443462\n",
      "13  h2a_fb_hbs         1   47159.87964   3444.505882\n",
      "14  h2a_fb_hbs         2   40501.89432    797.202472\n",
      "15  h2a_fb_hbs         3   38531.55547   1563.805865\n",
      "16  h2a_fb_hbs         4   46432.58259   3899.070640\n",
      "17  h2a_fb_hbs  baseline   10137.68637    307.728207\n"
     ]
    }
   ],
   "source": [
    "df_data_plot = pd.read_csv(path_exp_data+\"plot_figure5F.csv\")\n",
    "print(df_data_plot)\n",
    "df_hypoxia_data = df_data_plot[df_data_plot[\"day\"] != \"baseline\"].copy()\n",
    "df_normoxia_data = df_data_plot[df_data_plot[\"day\"] == \"baseline\"].copy()\n",
    "days = [0, 1, 2, 3, 4]"
   ]
  },
  {
   "cell_type": "code",
   "execution_count": 45,
   "metadata": {},
   "outputs": [],
   "source": [
    "# simple HBS data\n",
    "meptrs_hypoxia_simple = df_hypoxia_data[df_hypoxia_data[\"condition\"] == \"simple_hbs\"][\"meptrs\"].to_list()\n",
    "meptrs_hypoxia_simple_scaled = [i/1E5 for i in meptrs_hypoxia_simple]\n",
    "std_err_hypoxia_simple = df_hypoxia_data[df_hypoxia_data[\"condition\"] == \"simple_hbs\"][\"std_err\"].to_list()\n",
    "std_err_hypoxia_simple_scaled = [i/1E5 for i in std_err_hypoxia_simple]\n",
    "meptrs_normoxia_simple = df_normoxia_data[df_normoxia_data[\"condition\"] == \"simple_hbs\"][\"meptrs\"].to_list()[0]\n",
    "meptrs_normoxia_simple_scaled = meptrs_normoxia_simple/1E5\n",
    "std_err_normoxia_simple = df_normoxia_data[df_normoxia_data[\"condition\"] == \"simple_hbs\"][\"std_err\"].to_list()[0]\n",
    "std_err_normoxia_simple_scaled = std_err_normoxia_simple/1E5"
   ]
  },
  {
   "cell_type": "code",
   "execution_count": 46,
   "metadata": {},
   "outputs": [],
   "source": [
    "# h1a fb HBS data\n",
    "meptrs_hypoxia_h1a_fb = df_hypoxia_data[df_hypoxia_data[\"condition\"] == \"h1a_fb_hbs\"][\"meptrs\"].to_list()\n",
    "meptrs_hypoxia_h1a_fb_scaled = [i/1E5 for i in meptrs_hypoxia_h1a_fb]\n",
    "std_err_hypoxia_h1a_fb = df_hypoxia_data[df_hypoxia_data[\"condition\"] == \"h1a_fb_hbs\"][\"std_err\"].to_list()\n",
    "std_err_hypoxia_h1a_fb_scaled = [i/1E5 for i in std_err_hypoxia_h1a_fb]\n",
    "meptrs_normoxia_h1a_fb = df_normoxia_data[df_normoxia_data[\"condition\"] == \"h1a_fb_hbs\"][\"meptrs\"].to_list()[0]\n",
    "meptrs_normoxia_h1a_fb_scaled = meptrs_normoxia_h1a_fb/1E5\n",
    "std_err_normoxia_h1a_fb = df_normoxia_data[df_normoxia_data[\"condition\"] == \"h1a_fb_hbs\"][\"std_err\"].to_list()[0]\n",
    "std_err_normoxia_h1a_fb_scaled = std_err_normoxia_h1a_fb/1E5"
   ]
  },
  {
   "cell_type": "code",
   "execution_count": 47,
   "metadata": {},
   "outputs": [],
   "source": [
    "# h2a fb HBS data\n",
    "meptrs_hypoxia_h2a_fb = df_hypoxia_data[df_hypoxia_data[\"condition\"] == \"h2a_fb_hbs\"][\"meptrs\"].to_list()\n",
    "meptrs_hypoxia_h2a_fb_scaled = [i/1E5 for i in meptrs_hypoxia_h2a_fb]\n",
    "std_err_hypoxia_h2a_fb = df_hypoxia_data[df_hypoxia_data[\"condition\"] == \"h2a_fb_hbs\"][\"std_err\"].to_list()\n",
    "std_err_hypoxia_h2a_fb_scaled = [i/1E5 for i in std_err_hypoxia_h2a_fb]\n",
    "meptrs_normoxia_h2a_fb = df_normoxia_data[df_normoxia_data[\"condition\"] == \"h2a_fb_hbs\"][\"meptrs\"].to_list()[0]\n",
    "meptrs_normoxia_h2a_fb_scaled = meptrs_normoxia_h2a_fb/1E5\n",
    "std_err_normoxia_h2a_fb = df_normoxia_data[df_normoxia_data[\"condition\"] == \"h2a_fb_hbs\"][\"std_err\"].to_list()[0]\n",
    "std_err_normoxia_h2a_fb_scaled = std_err_normoxia_h2a_fb/1E5"
   ]
  },
  {
   "cell_type": "code",
   "execution_count": 48,
   "metadata": {},
   "outputs": [
    {
     "data": {
      "image/png": "[encoded data removed]",
      "text/plain": [
       "<Figure size 379x170 with 3 Axes>"
      ]
     },
     "metadata": {},
     "output_type": "display_data"
    }
   ],
   "source": [
    "blue_ = [(i/255) for i in [86, 180, 233]]\n",
    "normoxia_gray = [(i/255) for i in [127, 127, 127]]\n",
    "\n",
    "fig, axs = plt.subplots(1, 3, figsize=(3.79, 1.7), sharey=True)\n",
    "axs = axs.ravel()\n",
    "(_, caps1, _) = axs[0].errorbar(days, meptrs_hypoxia_simple_scaled, std_err_hypoxia_simple_scaled, color=blue_, linestyle=\"-\", marker=\"o\", markersize=\"1.5\", ecolor=\"k\", capsize=1.5, elinewidth=0.5)\n",
    "axs[0].fill_between(\n",
    "    days, meptrs_normoxia_simple_scaled-std_err_normoxia_simple_scaled, \n",
    "    meptrs_normoxia_simple_scaled+std_err_normoxia_simple_scaled, color=normoxia_gray)\n",
    "axs[0].set_xlabel(\"Days of treatment\")\n",
    "axs[0].set_xticks([0, 1, 2, 3, 4])\n",
    "axs[0].set_ylabel(\"Mean exp. (x10^5 MEPTRs)\")\n",
    "axs[0].set_xlim(left=0)\n",
    "axs[0].set_ylim([0, 6])\n",
    "axs[0].set_box_aspect(1)\n",
    "(_, caps2, _) = axs[1].errorbar(days, meptrs_hypoxia_h1a_fb_scaled, std_err_hypoxia_h1a_fb_scaled, color=blue_, linestyle=\"-\", marker=\"o\", markersize=\"1.5\", ecolor=\"k\", capsize=1.5, elinewidth=0.5)\n",
    "axs[1].fill_between(\n",
    "    days, meptrs_normoxia_h1a_fb_scaled-std_err_normoxia_h1a_fb_scaled, \n",
    "    meptrs_normoxia_h1a_fb_scaled+std_err_normoxia_h1a_fb_scaled, color=normoxia_gray)\n",
    "axs[1].set_xlabel(\"Days of treatment\")\n",
    "axs[1].set_xticks([0, 1, 2, 3, 4])\n",
    "axs[1].set_xlim(left=0)\n",
    "axs[1].set_box_aspect(1)\n",
    "(_, caps3, _) = axs[2].errorbar(days, meptrs_hypoxia_h2a_fb_scaled, std_err_hypoxia_h2a_fb_scaled, color=blue_, linestyle=\"-\", marker=\"o\", markersize=\"1.5\", ecolor=\"k\", capsize=1.5, elinewidth=0.5)\n",
    "axs[2].fill_between(\n",
    "    days, meptrs_normoxia_h2a_fb_scaled-std_err_normoxia_h2a_fb_scaled, \n",
    "    meptrs_normoxia_h2a_fb_scaled+std_err_normoxia_h2a_fb_scaled, color=normoxia_gray)\n",
    "axs[2].set_xlabel(\"Days of treatment\")\n",
    "axs[2].set_xticks([0, 1, 2, 3, 4])\n",
    "axs[2].set_xlim(left=0)\n",
    "axs[2].set_box_aspect(1)\n",
    "\n",
    "for cap in caps1:\n",
    "    cap.set_markeredgewidth(0.5)\n",
    "for cap in caps2:\n",
    "    cap.set_markeredgewidth(0.5)\n",
    "for cap in caps3:\n",
    "    cap.set_markeredgewidth(0.5)\n",
    "# plt.show()\n",
    "plt.savefig(path_plots+\"figure_5f.svg\")"
   ]
  },
  {
   "cell_type": "code",
   "execution_count": null,
   "metadata": {},
   "outputs": [],
   "source": []
  }
 ],
 "metadata": {
  "kernelspec": {
   "display_name": ".venv",
   "language": "python",
   "name": "python3"
  },
  "language_info": {
   "codemirror_mode": {
    "name": "ipython",
    "version": 3
   },
   "file_extension": ".py",
   "mimetype": "text/x-python",
   "name": "python",
   "nbconvert_exporter": "python",
   "pygments_lexer": "ipython3",
   "version": "3.10.10"
  }
 },
 "nbformat": 4,
 "nbformat_minor": 2
}
